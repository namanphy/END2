{
  "nbformat": 4,
  "nbformat_minor": 0,
  "metadata": {
    "colab": {
      "name": "Addition_in_NN_with_MNIST.ipynb",
      "provenance": [],
      "collapsed_sections": [],
      "toc_visible": true,
      "authorship_tag": "ABX9TyMDis6h/ghUqHk0fss+GRG7",
      "include_colab_link": true
    },
    "kernelspec": {
      "name": "python3",
      "display_name": "Python 3"
    },
    "language_info": {
      "name": "python"
    },
    "accelerator": "GPU"
  },
  "cells": [
    {
      "cell_type": "markdown",
      "metadata": {
        "id": "view-in-github",
        "colab_type": "text"
      },
      "source": [
        "<a href=\"https://colab.research.google.com/github/namanphy/END2/blob/main/S3/Addition_in_NN_with_MNIST.ipynb\" target=\"_parent\"><img src=\"https://colab.research.google.com/assets/colab-badge.svg\" alt=\"Open In Colab\"/></a>"
      ]
    },
    {
      "cell_type": "code",
      "metadata": {
        "id": "4RU9MycgaZzu",
        "colab": {
          "base_uri": "https://localhost:8080/"
        },
        "outputId": "c6e0b747-d996-43ea-f8e5-4fb4f8349756"
      },
      "source": [
        "import torch\n",
        "import torchvision # provide access to datasets, models, transforms, utils, etc\n",
        "import torch.nn as nn\n",
        "import torch.optim as optim\n",
        "import torch.nn.functional as F\n",
        "import torchvision.transforms as transforms\n",
        "from torchvision import datasets\n",
        "from torch.utils.data import Dataset\n",
        "import matplotlib.pyplot as plt\n",
        "import numpy as np\n",
        "\n",
        "\n",
        "use_cuda = torch.cuda.is_available()\n",
        "device = torch.device(\"cuda\" if use_cuda else \"cpu\")\n",
        "torch.manual_seed(1)"
      ],
      "execution_count": 83,
      "outputs": [
        {
          "output_type": "execute_result",
          "data": {
            "text/plain": [
              "<torch._C.Generator at 0x7fcfbea898d0>"
            ]
          },
          "metadata": {
            "tags": []
          },
          "execution_count": 83
        }
      ]
    },
    {
      "cell_type": "markdown",
      "metadata": {
        "id": "W7N7j03zBD83"
      },
      "source": [
        "# Setting up the data\n",
        "-----"
      ]
    },
    {
      "cell_type": "markdown",
      "metadata": {
        "id": "jmd2L307sZk3"
      },
      "source": [
        "## **Data Modelling**\n",
        "\n",
        "The MNIST data consists of `28x28` tensors of  images of hand-written digits and a corresponding ground truth value representing the number (`0 to 9`) of the image.\n",
        "\n",
        "The given problem demands to create a custom dataset.\n",
        "\n",
        "For this refer to [github readme](https://github.com/namanphy/END2/blob/main/S3/readme.md)\n"
      ]
    },
    {
      "cell_type": "code",
      "metadata": {
        "id": "7BcG-sXm2uVV"
      },
      "source": [
        "class mnist_sum_dataset(Dataset):\n",
        "    def __init__(self, train=True):\n",
        "        self.train = train\n",
        "        self.train_set_mnist = datasets.MNIST('../data', \n",
        "                                        train=train, \n",
        "                                        download=True,\n",
        "                                        transform=transforms.Compose([\n",
        "                                            transforms.ToTensor(),\n",
        "                                            transforms.Normalize((0.1307,), (0.3081,))\n",
        "                                        ]))\n",
        "\n",
        "\n",
        "        self.test_set_mnist = datasets.MNIST('../data', \n",
        "                                        train=train, \n",
        "                                        download=True,\n",
        "                                        transform=transforms.Compose([\n",
        "                                            transforms.ToTensor(),\n",
        "                                            transforms.Normalize((0.1307,), (0.3081,))                       \n",
        "                                        ]))\n",
        "\n",
        "        if train:\n",
        "            # generating random number and one-hot vector for the number\n",
        "            _random_int_list_train = [np.random.randint(0,10) for i in range(len(self.train_set_mnist))]\n",
        "            self.number_embedding_train = np.identity(10)[_random_int_list_train]\n",
        "\n",
        "            # Summing the image labels and random number for final label\n",
        "            self.sum_list_train = list(map(lambda x,y: x[1] + y, self.train_set_mnist, _random_int_list_train))\n",
        "        else:\n",
        "            # generating random number and one-hot vector for the number\n",
        "            _random_int_list_test = [np.random.randint(0,10) for i in range(len(self.test_set_mnist))]\n",
        "            self.number_embedding_test = np.identity(10)[_random_int_list_test]\n",
        "\n",
        "            # Summing the image labels and random number for final label\n",
        "            self.sum_list_test = list(map(lambda x,y: x[1] + y, self.test_set_mnist, _random_int_list_test))\n",
        "\n",
        "    def __getitem__(self, index):\n",
        "        # mnist_number = self.train_set_mnist[index][1]\n",
        "        if self.train:\n",
        "            image = self.train_set_mnist[index][0]\n",
        "            number_embed = torch.as_tensor(self.number_embedding_train[index], dtype=torch.float32)  # converting to tensor\n",
        "            label = torch.tensor(self.sum_list_train[index])\n",
        "        else:\n",
        "            image = self.test_set_mnist[index][0]\n",
        "            number_embed = torch.as_tensor(self.number_embedding_test[index], dtype=torch.float32)  # converting to tensor\n",
        "            label = torch.tensor(self.sum_list_test[index])\n",
        "        return ([image, number_embed], label)\n",
        "\n",
        "    def __len__(self):\n",
        "        return len(self.sum_list_train) if self.train else len(self.sum_list_test)\n"
      ],
      "execution_count": 88,
      "outputs": []
    },
    {
      "cell_type": "code",
      "metadata": {
        "id": "E0GG3f3aYPs5"
      },
      "source": [
        "# Making train and test datasets from our custom_class\n",
        "\n",
        "train_set = mnist_sum_dataset(train=True)\n",
        "test_set = mnist_sum_dataset(train=False)"
      ],
      "execution_count": 89,
      "outputs": []
    },
    {
      "cell_type": "markdown",
      "metadata": {
        "id": "EmVvC5lCtjI-"
      },
      "source": [
        "### Seeing what's inside our custom dataset"
      ]
    },
    {
      "cell_type": "code",
      "metadata": {
        "colab": {
          "base_uri": "https://localhost:8080/"
        },
        "id": "0KqCF6iwLB0G",
        "outputId": "ca1f1917-af96-406c-ae10-6b0265362a3a"
      },
      "source": [
        "# Finding what the first index is about\n",
        "\n",
        "print('Image shape: ', train_set[0][0][0].shape, '\\nRandom Number: ', train_set[0][0][1], '\\nLabel: ', train_set[0][1])"
      ],
      "execution_count": 90,
      "outputs": [
        {
          "output_type": "stream",
          "text": [
            "Image shape:  torch.Size([1, 28, 28]) \n",
            "Random Number:  tensor([0., 0., 1., 0., 0., 0., 0., 0., 0., 0.]) \n",
            "Label:  tensor(7)\n"
          ],
          "name": "stdout"
        }
      ]
    },
    {
      "cell_type": "code",
      "metadata": {
        "colab": {
          "base_uri": "https://localhost:8080/"
        },
        "id": "8tYuS5vJP7l_",
        "outputId": "28fe3c2a-cc9d-48e4-b402-b73934f20914"
      },
      "source": [
        "print(train_set[0][0][1].shape)\n",
        "print(train_set[0][1].shape)\n",
        "\n",
        "print(train_set[0][0][0].requires_grad)\n",
        "print(train_set[0][0][1].requires_grad)\n",
        "print(train_set[0][1].requires_grad)"
      ],
      "execution_count": 91,
      "outputs": [
        {
          "output_type": "stream",
          "text": [
            "torch.Size([10])\n",
            "torch.Size([])\n",
            "False\n",
            "False\n",
            "False\n"
          ],
          "name": "stdout"
        }
      ]
    },
    {
      "cell_type": "code",
      "metadata": {
        "colab": {
          "base_uri": "https://localhost:8080/"
        },
        "id": "Hog-LaN_Leix",
        "outputId": "8017b74f-700f-47b6-cf90-e05a78a2e764"
      },
      "source": [
        "# Length of the train dataset\n",
        "len(train_set)"
      ],
      "execution_count": 92,
      "outputs": [
        {
          "output_type": "execute_result",
          "data": {
            "text/plain": [
              "60000"
            ]
          },
          "metadata": {
            "tags": []
          },
          "execution_count": 92
        }
      ]
    },
    {
      "cell_type": "markdown",
      "metadata": {
        "id": "uWyQaCQSthso"
      },
      "source": [
        "## **Visualising our Data**"
      ]
    },
    {
      "cell_type": "code",
      "metadata": {
        "colab": {
          "base_uri": "https://localhost:8080/",
          "height": 0
        },
        "id": "204VIk6Pb05X",
        "outputId": "36e0ea0c-2ca9-44b1-f267-ae892f584ceb"
      },
      "source": [
        "data = list()\n",
        "for i in range(25):\n",
        "    # print(obj[0][1])\n",
        "    data.append({\n",
        "        'image': train_set[i][0][0],\n",
        "        # 'img_label': obj[0][1],\n",
        "        'rand_int': np.where(train_set[i][0][1] == 1)[0].item(),\n",
        "        'sum': train_set[i][1]\n",
        "    })\n",
        "\n",
        "\n",
        "def plot_results(data):\n",
        "    \"\"\"\n",
        "    @var data: dict('image', 'image_label', 'rand_int', 'sum')\n",
        "    \"\"\"\n",
        "\n",
        "    # Initialize plot\n",
        "    row_count = -1\n",
        "    fig, axs = plt.subplots(5, 5, figsize=(8, 8))\n",
        "    fig.tight_layout()\n",
        "\n",
        "    for idx, result in enumerate(data):\n",
        "        if idx > 24:\n",
        "            break\n",
        "        \n",
        "        # img_label = result['image_label'].item()\n",
        "        rand_int = result['rand_int']\n",
        "        sum = result['sum']\n",
        "\n",
        "        # Plot image\n",
        "        if idx % 5 == 0:\n",
        "            row_count += 1\n",
        "        axs[row_count][idx % 5].axis('off')\n",
        "        axs[row_count][idx % 5].set_title(f'Random No.: {rand_int}\\nSum: {sum}')\n",
        "        axs[row_count][idx % 5].imshow(result['image'].squeeze(), cmap='gray_r')\n",
        "\n",
        "plot_results(data)"
      ],
      "execution_count": 18,
      "outputs": [
        {
          "output_type": "display_data",
          "data": {
            "image/png": "[encoded data removed]",
            "text/plain": [
              "<Figure size 576x576 with 25 Axes>"
            ]
          },
          "metadata": {
            "tags": [],
            "needs_background": "light"
          }
        }
      ]
    },
    {
      "cell_type": "markdown",
      "metadata": {
        "id": "dNfju_ZvY42J"
      },
      "source": [
        "## **DataLoaders**"
      ]
    },
    {
      "cell_type": "code",
      "metadata": {
        "id": "Lnn7WhRtY9yT"
      },
      "source": [
        "BS = 128\n",
        "kwargs = {'num_workers': 1, 'pin_memory': True} if use_cuda else {}\n",
        "\n",
        "train_loader = torch.utils.data.DataLoader(train_set , batch_size=BS , shuffle=True, **kwargs)\n",
        "test_loader = torch.utils.data.DataLoader(train_set , batch_size=BS , shuffle=True, **kwargs)"
      ],
      "execution_count": 93,
      "outputs": []
    },
    {
      "cell_type": "markdown",
      "metadata": {
        "id": "kh2ruy4qt36g"
      },
      "source": [
        "# Model Preparation"
      ]
    },
    {
      "cell_type": "code",
      "metadata": {
        "id": "RPySFyQzbyzz"
      },
      "source": [
        "class Net(nn.Module):\n",
        "    def __init__(self):\n",
        "        super(Net, self).__init__()\n",
        "        self.conv1 = nn.Sequential(\n",
        "            nn.Conv2d(1, 16, 3, padding=1), # RF - 3x3\n",
        "            nn.ReLU(), # RF - 3x3\n",
        "            nn.BatchNorm2d(16), # RF - 3x3\n",
        "            nn.Conv2d(16, 16, 3), # RF - 5x5\n",
        "            nn.ReLU(), # RF - 5x5\n",
        "            nn.BatchNorm2d(16), # RF - 5x5\n",
        "            nn.MaxPool2d(2, 2) # RF - 10x10\n",
        "        )\n",
        "\n",
        "        self.conv2 = nn.Sequential(\n",
        "            nn.Conv2d(16, 32, 3, padding=1), # RF - 12x12\n",
        "            nn.ReLU(), # RF - 12x12\n",
        "            nn.BatchNorm2d(32), # RF - 12x12\n",
        "            nn.Conv2d(32, 32, 3), # RF - 14x14\n",
        "            nn.ReLU(), # RF - 14x14\n",
        "            nn.BatchNorm2d(32), # RF - 14x14\n",
        "            nn.MaxPool2d(2, 2) # RF - 28x28\n",
        "        )\n",
        "        self.conv3 = nn.Sequential(\n",
        "            nn.Conv2d(32, 10, 3) # RF - 30x30\n",
        "        )\n",
        "\n",
        "        self.linear1 = nn.Linear(20, 40)\n",
        "        self.linear2 = nn.Linear(40, 80)\n",
        "        self.linear3 = nn.Linear(80, 19)\n",
        "\n",
        "    def forward(self, image, number):\n",
        "        x = self.conv1(image)\n",
        "        x = self.conv2(x)\n",
        "        x = self.conv3(x)\n",
        "        x = x.mean(dim=[-2,-1])  # Global Average Pooling\n",
        "        x = x.view(-1, 10)\n",
        "\n",
        "        # print(x.shape, number.shape)\n",
        "        # print(number)\n",
        "        X = torch.cat((x, number), 1)\n",
        "\n",
        "        # print(X.shape)\n",
        "        # print(X)\n",
        "        X = self.linear1(X)\n",
        "        X = self.linear2(X)\n",
        "        X = self.linear3(X)\n",
        "        X = X.view(-1, 19)\n",
        "\n",
        "        return F.log_softmax(X)"
      ],
      "execution_count": 74,
      "outputs": []
    },
    {
      "cell_type": "markdown",
      "metadata": {
        "id": "4THTRtVIXsVv"
      },
      "source": [
        "### Making a dry run - Model"
      ]
    },
    {
      "cell_type": "code",
      "metadata": {
        "colab": {
          "base_uri": "https://localhost:8080/"
        },
        "id": "DMFNRFFTTnhA",
        "outputId": "003e7e47-8359-4e2b-a78e-8e2e9f49cb58"
      },
      "source": [
        "model = Net().to(device)\n",
        "model.forward(torch.rand((1, 1, 28, 28)).to(device), torch.rand((1, 10)).to(device))"
      ],
      "execution_count": 75,
      "outputs": [
        {
          "output_type": "stream",
          "text": [
            "/usr/local/lib/python3.7/dist-packages/ipykernel_launcher.py:49: UserWarning: Implicit dimension choice for log_softmax has been deprecated. Change the call to include dim=X as an argument.\n"
          ],
          "name": "stderr"
        },
        {
          "output_type": "execute_result",
          "data": {
            "text/plain": [
              "tensor([[-2.7204, -3.1945, -3.0271, -2.9948, -2.9299, -2.9844, -2.9893, -3.0298,\n",
              "         -2.8632, -2.7881, -2.8203, -2.8137, -3.0214, -2.9356, -2.9942, -2.7515,\n",
              "         -3.1685, -2.9797, -3.0960]], device='cuda:0',\n",
              "       grad_fn=<LogSoftmaxBackward>)"
            ]
          },
          "metadata": {
            "tags": []
          },
          "execution_count": 75
        }
      ]
    },
    {
      "cell_type": "markdown",
      "metadata": {
        "id": "pRKP4meZYV8z"
      },
      "source": [
        "# Training "
      ]
    },
    {
      "cell_type": "code",
      "metadata": {
        "id": "_S3ED_gTX7ca"
      },
      "source": [
        "from tqdm import tqdm\n",
        "def train(model, device, train_loader, optimizer, epoch):\n",
        "    print(f\"EPOCH - {epoch}\")\n",
        "    model.train()\n",
        "    pbar = tqdm(train_loader, position=0, leave=True)\n",
        "    for batch_idx, (data, target) in enumerate(pbar):\n",
        "        image, number, target = data[0].to(device), data[1].to(device), target.to(device)\n",
        "        optimizer.zero_grad()\n",
        "        output = model(image, number)  # Passing batch\n",
        "\n",
        "        loss = F.nll_loss(output, target)  # Calculate Loss\n",
        "\n",
        "        # Gradient calculation and weight update\n",
        "        loss.backward()\n",
        "        optimizer.step()\n",
        "\n",
        "        pbar.set_description(desc= f'loss={loss.item()} batch_id={batch_idx}')\n",
        "\n",
        "\n",
        "def test(model, device, test_loader):\n",
        "    model.eval()\n",
        "    test_loss = 0\n",
        "    correct = 0\n",
        "    with torch.no_grad():\n",
        "        for data, target in test_loader:\n",
        "            image, number, target = data[0].to(device), data[1].to(device), target.to(device)\n",
        "            output = model(image, number)\n",
        "\n",
        "            test_loss += F.nll_loss(output, target, reduction='sum').item()  # sum up batch loss\n",
        "\n",
        "            pred = output.argmax(dim=1, keepdim=True)  # get the index of the max log-probability\n",
        "            correct += pred.eq(target.view_as(pred)).sum().item()\n",
        "\n",
        "    test_loss /= len(test_loader.dataset)\n",
        "\n",
        "    print('\\nTest set: Average loss: {:.4f}, Accuracy: {}/{} ({:.0f}%)\\n'.format(\n",
        "        test_loss, correct, len(test_loader.dataset),\n",
        "        100. * correct / len(test_loader.dataset)))"
      ],
      "execution_count": 80,
      "outputs": []
    },
    {
      "cell_type": "code",
      "metadata": {
        "colab": {
          "base_uri": "https://localhost:8080/"
        },
        "id": "nosnriJHYqLj",
        "outputId": "855e76bc-6dfe-4421-b34e-78072486cda0"
      },
      "source": [
        "model = Net().to(device)\n",
        "optimizer = optim.SGD(model.parameters(), lr=0.01, momentum=0.9)\n",
        "\n",
        "for epoch in range(1, 20):\n",
        "    train(model, device, train_loader, optimizer, epoch)\n",
        "    test(model, device, test_loader)\n"
      ],
      "execution_count": 95,
      "outputs": [
        {
          "output_type": "stream",
          "text": [
            "\r  0%|          | 0/469 [00:00<?, ?it/s]"
          ],
          "name": "stderr"
        },
        {
          "output_type": "stream",
          "text": [
            "EPOCH - 1\n"
          ],
          "name": "stdout"
        },
        {
          "output_type": "stream",
          "text": [
            "/usr/local/lib/python3.7/dist-packages/ipykernel_launcher.py:49: UserWarning: Implicit dimension choice for log_softmax has been deprecated. Change the call to include dim=X as an argument.\n",
            "loss=1.568674087524414 batch_id=468: 100%|██████████| 469/469 [00:13<00:00, 35.56it/s]\n",
            "  0%|          | 0/469 [00:00<?, ?it/s]"
          ],
          "name": "stderr"
        },
        {
          "output_type": "stream",
          "text": [
            "\n",
            "Test set: Average loss: 1.6276, Accuracy: 22391/60000 (37%)\n",
            "\n",
            "EPOCH - 2\n"
          ],
          "name": "stdout"
        },
        {
          "output_type": "stream",
          "text": [
            "loss=1.181079626083374 batch_id=468: 100%|██████████| 469/469 [00:13<00:00, 35.93it/s]\n",
            "  0%|          | 0/469 [00:00<?, ?it/s]"
          ],
          "name": "stderr"
        },
        {
          "output_type": "stream",
          "text": [
            "\n",
            "Test set: Average loss: 1.4246, Accuracy: 25142/60000 (42%)\n",
            "\n",
            "EPOCH - 3\n"
          ],
          "name": "stdout"
        },
        {
          "output_type": "stream",
          "text": [
            "loss=1.0507935285568237 batch_id=468: 100%|██████████| 469/469 [00:12<00:00, 36.20it/s]\n",
            "  0%|          | 0/469 [00:00<?, ?it/s]"
          ],
          "name": "stderr"
        },
        {
          "output_type": "stream",
          "text": [
            "\n",
            "Test set: Average loss: 1.1148, Accuracy: 34062/60000 (57%)\n",
            "\n",
            "EPOCH - 4\n"
          ],
          "name": "stdout"
        },
        {
          "output_type": "stream",
          "text": [
            "loss=0.9626769423484802 batch_id=468: 100%|██████████| 469/469 [00:13<00:00, 35.80it/s]\n",
            "  0%|          | 0/469 [00:00<?, ?it/s]"
          ],
          "name": "stderr"
        },
        {
          "output_type": "stream",
          "text": [
            "\n",
            "Test set: Average loss: 1.0182, Accuracy: 37585/60000 (63%)\n",
            "\n",
            "EPOCH - 5\n"
          ],
          "name": "stdout"
        },
        {
          "output_type": "stream",
          "text": [
            "loss=0.892028272151947 batch_id=468: 100%|██████████| 469/469 [00:13<00:00, 35.33it/s]\n",
            "  0%|          | 0/469 [00:00<?, ?it/s]"
          ],
          "name": "stderr"
        },
        {
          "output_type": "stream",
          "text": [
            "\n",
            "Test set: Average loss: 0.9370, Accuracy: 39153/60000 (65%)\n",
            "\n",
            "EPOCH - 6\n"
          ],
          "name": "stdout"
        },
        {
          "output_type": "stream",
          "text": [
            "loss=0.8112998604774475 batch_id=468: 100%|██████████| 469/469 [00:13<00:00, 34.87it/s]\n",
            "  0%|          | 0/469 [00:00<?, ?it/s]"
          ],
          "name": "stderr"
        },
        {
          "output_type": "stream",
          "text": [
            "\n",
            "Test set: Average loss: 0.9254, Accuracy: 38782/60000 (65%)\n",
            "\n",
            "EPOCH - 7\n"
          ],
          "name": "stdout"
        },
        {
          "output_type": "stream",
          "text": [
            "loss=0.7938243746757507 batch_id=468: 100%|██████████| 469/469 [00:13<00:00, 35.45it/s]\n",
            "  0%|          | 0/469 [00:00<?, ?it/s]"
          ],
          "name": "stderr"
        },
        {
          "output_type": "stream",
          "text": [
            "\n",
            "Test set: Average loss: 0.8140, Accuracy: 41659/60000 (69%)\n",
            "\n",
            "EPOCH - 8\n"
          ],
          "name": "stdout"
        },
        {
          "output_type": "stream",
          "text": [
            "loss=0.9449698328971863 batch_id=468: 100%|██████████| 469/469 [00:12<00:00, 36.17it/s]\n",
            "  0%|          | 0/469 [00:00<?, ?it/s]"
          ],
          "name": "stderr"
        },
        {
          "output_type": "stream",
          "text": [
            "\n",
            "Test set: Average loss: 0.8951, Accuracy: 38638/60000 (64%)\n",
            "\n",
            "EPOCH - 9\n"
          ],
          "name": "stdout"
        },
        {
          "output_type": "stream",
          "text": [
            "loss=1.0465412139892578 batch_id=468: 100%|██████████| 469/469 [00:12<00:00, 36.44it/s]\n",
            "  0%|          | 0/469 [00:00<?, ?it/s]"
          ],
          "name": "stderr"
        },
        {
          "output_type": "stream",
          "text": [
            "\n",
            "Test set: Average loss: 0.7991, Accuracy: 41775/60000 (70%)\n",
            "\n",
            "EPOCH - 10\n"
          ],
          "name": "stdout"
        },
        {
          "output_type": "stream",
          "text": [
            "loss=0.7534573078155518 batch_id=468: 100%|██████████| 469/469 [00:12<00:00, 36.44it/s]\n",
            "  0%|          | 0/469 [00:00<?, ?it/s]"
          ],
          "name": "stderr"
        },
        {
          "output_type": "stream",
          "text": [
            "\n",
            "Test set: Average loss: 0.7397, Accuracy: 43540/60000 (73%)\n",
            "\n",
            "EPOCH - 11\n"
          ],
          "name": "stdout"
        },
        {
          "output_type": "stream",
          "text": [
            "loss=0.7123971581459045 batch_id=468: 100%|██████████| 469/469 [00:12<00:00, 36.24it/s]\n",
            "  0%|          | 0/469 [00:00<?, ?it/s]"
          ],
          "name": "stderr"
        },
        {
          "output_type": "stream",
          "text": [
            "\n",
            "Test set: Average loss: 0.7065, Accuracy: 43493/60000 (72%)\n",
            "\n",
            "EPOCH - 12\n"
          ],
          "name": "stdout"
        },
        {
          "output_type": "stream",
          "text": [
            "loss=0.6702675223350525 batch_id=468: 100%|██████████| 469/469 [00:12<00:00, 36.60it/s]\n",
            "  0%|          | 0/469 [00:00<?, ?it/s]"
          ],
          "name": "stderr"
        },
        {
          "output_type": "stream",
          "text": [
            "\n",
            "Test set: Average loss: 0.7108, Accuracy: 44184/60000 (74%)\n",
            "\n",
            "EPOCH - 13\n"
          ],
          "name": "stdout"
        },
        {
          "output_type": "stream",
          "text": [
            "loss=1.1775469779968262 batch_id=468: 100%|██████████| 469/469 [00:12<00:00, 36.32it/s]\n",
            "  0%|          | 0/469 [00:00<?, ?it/s]"
          ],
          "name": "stderr"
        },
        {
          "output_type": "stream",
          "text": [
            "\n",
            "Test set: Average loss: 0.6876, Accuracy: 45802/60000 (76%)\n",
            "\n",
            "EPOCH - 14\n"
          ],
          "name": "stdout"
        },
        {
          "output_type": "stream",
          "text": [
            "loss=0.671663224697113 batch_id=468: 100%|██████████| 469/469 [00:13<00:00, 35.90it/s]\n",
            "  0%|          | 0/469 [00:00<?, ?it/s]"
          ],
          "name": "stderr"
        },
        {
          "output_type": "stream",
          "text": [
            "\n",
            "Test set: Average loss: 0.7179, Accuracy: 43093/60000 (72%)\n",
            "\n",
            "EPOCH - 15\n"
          ],
          "name": "stdout"
        },
        {
          "output_type": "stream",
          "text": [
            "loss=0.6404104828834534 batch_id=468: 100%|██████████| 469/469 [00:12<00:00, 36.37it/s]\n",
            "  0%|          | 0/469 [00:00<?, ?it/s]"
          ],
          "name": "stderr"
        },
        {
          "output_type": "stream",
          "text": [
            "\n",
            "Test set: Average loss: 0.7135, Accuracy: 42738/60000 (71%)\n",
            "\n",
            "EPOCH - 16\n"
          ],
          "name": "stdout"
        },
        {
          "output_type": "stream",
          "text": [
            "loss=0.48123618960380554 batch_id=468: 100%|██████████| 469/469 [00:12<00:00, 36.81it/s]\n",
            "  0%|          | 0/469 [00:00<?, ?it/s]"
          ],
          "name": "stderr"
        },
        {
          "output_type": "stream",
          "text": [
            "\n",
            "Test set: Average loss: 0.6581, Accuracy: 45259/60000 (75%)\n",
            "\n",
            "EPOCH - 17\n"
          ],
          "name": "stdout"
        },
        {
          "output_type": "stream",
          "text": [
            "loss=0.5773879885673523 batch_id=468: 100%|██████████| 469/469 [00:12<00:00, 36.39it/s]\n",
            "  0%|          | 0/469 [00:00<?, ?it/s]"
          ],
          "name": "stderr"
        },
        {
          "output_type": "stream",
          "text": [
            "\n",
            "Test set: Average loss: 0.7021, Accuracy: 43845/60000 (73%)\n",
            "\n",
            "EPOCH - 18\n"
          ],
          "name": "stdout"
        },
        {
          "output_type": "stream",
          "text": [
            "loss=0.7219277024269104 batch_id=468: 100%|██████████| 469/469 [00:13<00:00, 35.48it/s]\n",
            "  0%|          | 0/469 [00:00<?, ?it/s]"
          ],
          "name": "stderr"
        },
        {
          "output_type": "stream",
          "text": [
            "\n",
            "Test set: Average loss: 0.5990, Accuracy: 47548/60000 (79%)\n",
            "\n",
            "EPOCH - 19\n"
          ],
          "name": "stdout"
        },
        {
          "output_type": "stream",
          "text": [
            "loss=0.7975055575370789 batch_id=468: 100%|██████████| 469/469 [00:13<00:00, 35.46it/s]\n"
          ],
          "name": "stderr"
        },
        {
          "output_type": "stream",
          "text": [
            "\n",
            "Test set: Average loss: 0.6199, Accuracy: 45967/60000 (77%)\n",
            "\n"
          ],
          "name": "stdout"
        }
      ]
    },
    {
      "cell_type": "code",
      "metadata": {
        "id": "bnsVaRqTbdrD"
      },
      "source": [
        ""
      ],
      "execution_count": null,
      "outputs": []
    }
  ]
}