{
  "nbformat": 4,
  "nbformat_minor": 0,
  "metadata": {
    "colab": {
      "name": "S7 SST - Classification.ipynb",
      "provenance": [],
      "include_colab_link": true
    },
    "kernelspec": {
      "name": "python3",
      "display_name": "Python 3"
    },
    "language_info": {
      "name": "python"
    },
    "accelerator": "GPU"
  },
  "cells": [
    {
      "cell_type": "markdown",
      "metadata": {
        "id": "view-in-github",
        "colab_type": "text"
      },
      "source": [
        "<a href=\"https://colab.research.google.com/github/namanphy/END2/blob/main/S7/Part%201%20-%20sentiment%20classification/S7_SST_Classification.ipynb\" target=\"_parent\"><img src=\"https://colab.research.google.com/assets/colab-badge.svg\" alt=\"Open In Colab\"/></a>"
      ]
    },
    {
      "cell_type": "markdown",
      "metadata": {
        "id": "uWMZL_SYg6IN"
      },
      "source": [
        "# Sentiment Analysis\n",
        "Dataset : **Stanford Sentiment Treebank**\n",
        "\n",
        "Steps covered in this notebook:\n",
        "1. Knowing the data\n",
        "2. Data preparation\n",
        "3. Model Experiment\n",
        "4. Result analysis\n"
      ]
    },
    {
      "cell_type": "markdown",
      "metadata": {
        "id": "tNzgqCHvmJWy"
      },
      "source": [
        "# Setting Up"
      ]
    },
    {
      "cell_type": "code",
      "metadata": {
        "id": "9BfzQWjKgtTy",
        "colab": {
          "base_uri": "https://localhost:8080/"
        },
        "outputId": "2bdae822-0671-48aa-9af0-ee22a4274514"
      },
      "source": [
        "# Uncomment if running on colab\n",
        "! git clone https://github.com/namanphy/END2.git"
      ],
      "execution_count": 6,
      "outputs": [
        {
          "output_type": "stream",
          "text": [
            "Cloning into 'END2'...\n",
            "remote: Enumerating objects: 393, done.\u001b[K\n",
            "remote: Counting objects: 100% (393/393), done.\u001b[K\n",
            "remote: Compressing objects: 100% (291/291), done.\u001b[K\n",
            "remote: Total 393 (delta 180), reused 269 (delta 95), pack-reused 0\u001b[K\n",
            "Receiving objects: 100% (393/393), 14.01 MiB | 13.46 MiB/s, done.\n",
            "Resolving deltas: 100% (180/180), done.\n"
          ],
          "name": "stdout"
        }
      ]
    },
    {
      "cell_type": "code",
      "metadata": {
        "colab": {
          "base_uri": "https://localhost:8080/"
        },
        "id": "icF_-LnRhmuO",
        "outputId": "95f9a84c-b131-43e9-c798-afc89384817c"
      },
      "source": [
        "cd /content/END2/S7/Part\\ 1\\ -\\ sentiment\\ classification"
      ],
      "execution_count": 7,
      "outputs": [
        {
          "output_type": "stream",
          "text": [
            "/content/END2/S7/Part 1 - sentiment classification\n"
          ],
          "name": "stdout"
        }
      ]
    },
    {
      "cell_type": "code",
      "metadata": {
        "colab": {
          "base_uri": "https://localhost:8080/"
        },
        "id": "fC28OUT3Pxkh",
        "outputId": "586e239c-6cac-472e-f28a-0e6d498008a6"
      },
      "source": [
        "import os\n",
        "import torch\n",
        "import torch, torchtext\n",
        "from torchtext.legacy import data \n",
        "import pandas as pd\n",
        "\n",
        "from data import sentences_to_dataframe\n",
        "from model import LSTM, BiLSTM, count_parameters\n",
        "from trainer.loss import cross_entropy_loss\n",
        "from trainer.optimizer import adam_optimizer\n",
        "from trainer.train import train\n",
        "from utils import binary_accuracy, plot_metric\n",
        "\n",
        "# Manual Seed\n",
        "SEED = 45\n",
        "torch.manual_seed(SEED)"
      ],
      "execution_count": 8,
      "outputs": [
        {
          "output_type": "execute_result",
          "data": {
            "text/plain": [
              "<torch._C.Generator at 0x7fe0e7bce730>"
            ]
          },
          "metadata": {
            "tags": []
          },
          "execution_count": 8
        }
      ]
    },
    {
      "cell_type": "markdown",
      "metadata": {
        "id": "knSdVxmrlpMY"
      },
      "source": [
        "\n",
        "\n",
        "---\n",
        "\n"
      ]
    },
    {
      "cell_type": "markdown",
      "metadata": {
        "id": "4jhgn1Yeg0vm"
      },
      "source": [
        "# Preparing the data\n",
        "\n",
        "SST consists of 11,855 sentences extracted from movie reviews with fine-grained sentiment labels [1–5], as well as 215,154 phrases that compose each sentence in the dataset.\n"
      ]
    },
    {
      "cell_type": "markdown",
      "metadata": {
        "id": "YxsS7Y1O9EgN"
      },
      "source": [
        "## Generating train and test sentence-label dataframes\n",
        "From raw txt files.."
      ]
    },
    {
      "cell_type": "code",
      "metadata": {
        "id": "dnswkj2fRo9l"
      },
      "source": [
        "df_train, df_test = sentences_to_dataframe(path_sst='./data/stanfordSentimentTreebank', seed=SEED)"
      ],
      "execution_count": 9,
      "outputs": []
    },
    {
      "cell_type": "code",
      "metadata": {
        "id": "vBZexMYw-xyy",
        "colab": {
          "base_uri": "https://localhost:8080/",
          "height": 145
        },
        "outputId": "2d90c9bd-0032-4d1c-9e37-71cf69c29ec3"
      },
      "source": [
        "print(df_train.shape)\n",
        "print(df_test.shape)\n",
        "df_train.head(2)"
      ],
      "execution_count": 10,
      "outputs": [
        {
          "output_type": "stream",
          "text": [
            "(9029, 3)\n",
            "(2257, 3)\n"
          ],
          "name": "stdout"
        },
        {
          "output_type": "execute_result",
          "data": {
            "text/html": [
              "<div>\n",
              "<style scoped>\n",
              "    .dataframe tbody tr th:only-of-type {\n",
              "        vertical-align: middle;\n",
              "    }\n",
              "\n",
              "    .dataframe tbody tr th {\n",
              "        vertical-align: top;\n",
              "    }\n",
              "\n",
              "    .dataframe thead th {\n",
              "        text-align: right;\n",
              "    }\n",
              "</style>\n",
              "<table border=\"1\" class=\"dataframe\">\n",
              "  <thead>\n",
              "    <tr style=\"text-align: right;\">\n",
              "      <th></th>\n",
              "      <th>sentence</th>\n",
              "      <th>sentiment labels</th>\n",
              "      <th>sentence_clean</th>\n",
              "    </tr>\n",
              "  </thead>\n",
              "  <tbody>\n",
              "    <tr>\n",
              "      <th>0</th>\n",
              "      <td>As violent , profane and exploitative as the m...</td>\n",
              "      <td>1</td>\n",
              "      <td>As violent , profane and exploitative as the m...</td>\n",
              "    </tr>\n",
              "    <tr>\n",
              "      <th>1</th>\n",
              "      <td>Ritchie 's film is easier to swallow than Wert...</td>\n",
              "      <td>1</td>\n",
              "      <td>Ritchie's film is easier to swallow than Wertm...</td>\n",
              "    </tr>\n",
              "  </tbody>\n",
              "</table>\n",
              "</div>"
            ],
            "text/plain": [
              "                                            sentence  ...                                     sentence_clean\n",
              "0  As violent , profane and exploitative as the m...  ...  As violent , profane and exploitative as the m...\n",
              "1  Ritchie 's film is easier to swallow than Wert...  ...  Ritchie's film is easier to swallow than Wertm...\n",
              "\n",
              "[2 rows x 3 columns]"
            ]
          },
          "metadata": {
            "tags": []
          },
          "execution_count": 10
        }
      ]
    },
    {
      "cell_type": "markdown",
      "metadata": {
        "id": "aSjc1IyM7lug"
      },
      "source": [
        "## Knowing our Data"
      ]
    },
    {
      "cell_type": "markdown",
      "metadata": {
        "id": "YmTCpv818EJw"
      },
      "source": [
        "Our dataset is ofcourse not balanced. It is clear that most of the training samples belong to classes 2 and 4. Also a good number of samples belong to `neutral` class i.e. label 3.\n"
      ]
    },
    {
      "cell_type": "code",
      "metadata": {
        "colab": {
          "base_uri": "https://localhost:8080/",
          "height": 293
        },
        "id": "49Ccwxlku0jl",
        "outputId": "f2e219b7-f997-445e-e6e3-c0e898fb2fe5"
      },
      "source": [
        "import matplotlib.pyplot as plt\n",
        "\n",
        "ax = df_train['sentiment labels'].value_counts(sort=False).plot(kind='bar')\n",
        "ax.set_xlabel(\"Labels\")\n",
        "ax.set_ylabel(\"Number of Samples in training Set\")"
      ],
      "execution_count": 11,
      "outputs": [
        {
          "output_type": "execute_result",
          "data": {
            "text/plain": [
              "Text(0, 0.5, 'Number of Samples in training Set')"
            ]
          },
          "metadata": {
            "tags": []
          },
          "execution_count": 11
        },
        {
          "output_type": "display_data",
          "data": {
            "image/png": "[encoded data removed]",
            "text/plain": [
              "<Figure size 432x288 with 1 Axes>"
            ]
          },
          "metadata": {
            "tags": [],
            "needs_background": "light"
          }
        }
      ]
    },
    {
      "cell_type": "markdown",
      "metadata": {
        "id": "CSEFdMvoU5zw"
      },
      "source": [
        "What's the distribution of the lengths of the data ?\n",
        "\n",
        "**It has a average of 102 in the training set.**"
      ]
    },
    {
      "cell_type": "code",
      "metadata": {
        "colab": {
          "base_uri": "https://localhost:8080/",
          "height": 430
        },
        "id": "rC5YJ7l3U3KF",
        "outputId": "cbad2b9b-6349-425d-dff0-ce8227e892b2"
      },
      "source": [
        "reviews_len = [len(x) for x in df_train['sentence_clean']]\n",
        "ax = pd.Series(reviews_len).hist()\n",
        "ax.set_xlabel(\"Length of examples in training set\")\n",
        "ax.set_ylabel(\"Number of Samples in training Set\")\n",
        "pd.Series(reviews_len).describe()"
      ],
      "execution_count": 12,
      "outputs": [
        {
          "output_type": "execute_result",
          "data": {
            "text/plain": [
              "count    9029.000000\n",
              "mean      100.714143\n",
              "std        50.412797\n",
              "min         4.000000\n",
              "25%        61.000000\n",
              "50%        96.000000\n",
              "75%       134.000000\n",
              "max       260.000000\n",
              "dtype: float64"
            ]
          },
          "metadata": {
            "tags": []
          },
          "execution_count": 12
        },
        {
          "output_type": "display_data",
          "data": {
            "image/png": "[encoded data removed]",
            "text/plain": [
              "<Figure size 432x288 with 1 Axes>"
            ]
          },
          "metadata": {
            "tags": [],
            "needs_background": "light"
          }
        }
      ]
    },
    {
      "cell_type": "code",
      "metadata": {
        "colab": {
          "base_uri": "https://localhost:8080/"
        },
        "id": "_Nx5aoy2AhGy",
        "outputId": "e9d35985-c290-4ad1-a34c-efcf5a32f367"
      },
      "source": [
        "min(reviews_len)"
      ],
      "execution_count": 13,
      "outputs": [
        {
          "output_type": "execute_result",
          "data": {
            "text/plain": [
              "4"
            ]
          },
          "metadata": {
            "tags": []
          },
          "execution_count": 13
        }
      ]
    },
    {
      "cell_type": "markdown",
      "metadata": {
        "id": "b6W2ExuS9aLF"
      },
      "source": [
        "## Making a torchtext dataset and dataloader"
      ]
    },
    {
      "cell_type": "code",
      "metadata": {
        "id": "RfngC_CA75Q7"
      },
      "source": [
        "text = data.Field(sequential=True, tokenize='spacy', batch_first =True, include_lengths=True)\n",
        "label = data.LabelField(sequential=False, tokenize ='spacy',  batch_first=True, is_target=True)"
      ],
      "execution_count": 14,
      "outputs": []
    },
    {
      "cell_type": "code",
      "metadata": {
        "id": "rSO812WW94p-"
      },
      "source": [
        "fields = [('texts', text), ('labels', label)]"
      ],
      "execution_count": 15,
      "outputs": []
    },
    {
      "cell_type": "code",
      "metadata": {
        "id": "E9XP2s6Q-Tar"
      },
      "source": [
        "# Generated Examples from the train and test data\n",
        "\n",
        "train_example = [data.Example.fromlist([df_train['sentence_clean'][i], df_train['sentiment labels'][i]], fields) for i in range(df_train.shape[0])]\n",
        "test_example = [data.Example.fromlist([df_test['sentence_clean'][i], df_test['sentiment labels'][i]], fields) for i in range(df_test.shape[0])]"
      ],
      "execution_count": 16,
      "outputs": []
    },
    {
      "cell_type": "markdown",
      "metadata": {
        "id": "vP008logBmOY"
      },
      "source": [
        "#### Building Dataset"
      ]
    },
    {
      "cell_type": "code",
      "metadata": {
        "id": "400l3y4tBoaU"
      },
      "source": [
        "train_dataset = data.Dataset(train_example, fields)\n",
        "test_dataset = data.Dataset(test_example, fields)"
      ],
      "execution_count": 17,
      "outputs": []
    },
    {
      "cell_type": "code",
      "metadata": {
        "colab": {
          "base_uri": "https://localhost:8080/"
        },
        "id": "hF75o0r3B5Ep",
        "outputId": "0062faae-cfa9-4ed3-9def-02ed2a48cea4"
      },
      "source": [
        "print('Length of training dataset: ', len(train_dataset))\n",
        "print('Length of testing dataset: ', len(test_dataset))"
      ],
      "execution_count": 18,
      "outputs": [
        {
          "output_type": "stream",
          "text": [
            "Length of training dataset:  9029\n",
            "Length of testing dataset:  2257\n"
          ],
          "name": "stdout"
        }
      ]
    },
    {
      "cell_type": "markdown",
      "metadata": {
        "id": "UG4ichrwBYFt"
      },
      "source": [
        "#### Building Vocab"
      ]
    },
    {
      "cell_type": "code",
      "metadata": {
        "id": "D3MpDOBb_ufn"
      },
      "source": [
        "text.build_vocab(train_dataset)\n",
        "label.build_vocab(train_dataset)"
      ],
      "execution_count": 19,
      "outputs": []
    },
    {
      "cell_type": "code",
      "metadata": {
        "colab": {
          "base_uri": "https://localhost:8080/"
        },
        "id": "N3dimxWyCPLn",
        "outputId": "f80dbb15-4328-4fe3-ed6f-bc1f62862f24"
      },
      "source": [
        "print('Size of input vocab : ', len(text.vocab))\n",
        "print('Size of label vocab : ', len(label.vocab))\n",
        "print('Top 10 words appreared repeatedly :', list(text.vocab.freqs.most_common(10)))\n",
        "print('Labels : ', label.vocab.stoi)"
      ],
      "execution_count": 20,
      "outputs": [
        {
          "output_type": "stream",
          "text": [
            "Size of input vocab :  17490\n",
            "Size of label vocab :  5\n",
            "Top 10 words appreared repeatedly : [('.', 8511), (',', 7523), ('the', 6384), ('and', 4674), ('of', 4639), ('a', 4574), ('to', 3160), ('-', 2920), ('is', 2656), (\"'s\", 2615)]\n",
            "Labels :  defaultdict(None, {1: 0, 3: 1, 2: 2, 4: 3, 0: 4})\n"
          ],
          "name": "stdout"
        }
      ]
    },
    {
      "cell_type": "markdown",
      "metadata": {
        "id": "t4Dv-R7OCqAW"
      },
      "source": [
        "**Lots of stopwords!! YES INDEED!!**"
      ]
    },
    {
      "cell_type": "markdown",
      "metadata": {
        "id": "J64z9pwXQH9o"
      },
      "source": [
        "#### Making a data iterator"
      ]
    },
    {
      "cell_type": "code",
      "metadata": {
        "id": "cyJx1sgiCZ9K"
      },
      "source": [
        "device = torch.device(\"cuda\" if torch.cuda.is_available() else \"cpu\")"
      ],
      "execution_count": 21,
      "outputs": []
    },
    {
      "cell_type": "code",
      "metadata": {
        "id": "-hkt6FrOCuX1"
      },
      "source": [
        "train_iterator, test_iterator = data.BucketIterator.splits((train_dataset, test_dataset), \n",
        "                                                           batch_size=128, \n",
        "                                                           sort_key=lambda x: len(x.texts),\n",
        "                                                           sort_within_batch=True,\n",
        "                                                           device=device)"
      ],
      "execution_count": 22,
      "outputs": []
    },
    {
      "cell_type": "markdown",
      "metadata": {
        "id": "YSu-Yk4pKV0s"
      },
      "source": [
        "**Notice that i haven't used padding for my sentences(data) here.**"
      ]
    },
    {
      "cell_type": "code",
      "metadata": {
        "colab": {
          "base_uri": "https://localhost:8080/"
        },
        "id": "pvWv1MUWQM2T",
        "outputId": "fff7dfd6-8dd0-4df3-8b60-3efaf262e47a"
      },
      "source": [
        "print('Train')\n",
        "for batch in train_iterator:\n",
        "    print(f'Text size: {batch.texts[0].size()}')\n",
        "    print(f'Label size: {batch.labels.size()}')\n",
        "    break\n",
        "\n",
        "print('\\nTest:')\n",
        "for batch in test_iterator:\n",
        "    print(f'Text size: {batch.texts[0].size()}')\n",
        "    print(f'Label size: {batch.labels.size()}')\n",
        "    break"
      ],
      "execution_count": 23,
      "outputs": [
        {
          "output_type": "stream",
          "text": [
            "Train\n",
            "Text size: torch.Size([128, 15])\n",
            "Label size: torch.Size([128])\n",
            "\n",
            "Test:\n",
            "Text size: torch.Size([128, 6])\n",
            "Label size: torch.Size([128])\n"
          ],
          "name": "stdout"
        }
      ]
    },
    {
      "cell_type": "code",
      "metadata": {
        "id": "DOkRHov1EarV"
      },
      "source": [
        "import pickle\n",
        "with open('tokenizer.pkl', 'wb') as tokens: \n",
        "    pickle.dump(text.vocab.stoi, tokens)"
      ],
      "execution_count": 24,
      "outputs": []
    },
    {
      "cell_type": "markdown",
      "metadata": {
        "id": "x6o1UwHKKLuK"
      },
      "source": [
        "# Model Preparation"
      ]
    },
    {
      "cell_type": "code",
      "metadata": {
        "id": "gd-YJkpPCKD1"
      },
      "source": [
        "import torch.nn as nn\n",
        "import torch.nn.functional as F"
      ],
      "execution_count": 25,
      "outputs": []
    },
    {
      "cell_type": "code",
      "metadata": {
        "id": "xs1aTu3yVvVf"
      },
      "source": [
        "# Hyperparams\n",
        "\n",
        "size_of_vocab = len(text.vocab)\n",
        "embedding_dim = 400\n",
        "num_hidden_nodes = 150\n",
        "num_output_nodes = 5\n",
        "num_layers = 3\n",
        "dropout = 0.2\n",
        "\n",
        "model = BiLSTM(size_of_vocab, embedding_dim, num_hidden_nodes, num_output_nodes, num_layers, dropout)"
      ],
      "execution_count": 34,
      "outputs": []
    },
    {
      "cell_type": "code",
      "metadata": {
        "colab": {
          "base_uri": "https://localhost:8080/"
        },
        "id": "aYy7RYp9V93Q",
        "outputId": "90be7e7e-1e66-4126-ec3b-1afd79867ac0"
      },
      "source": [
        "print(model)\n",
        "print(f'The model has {count_parameters(model):,} trainable parameters')"
      ],
      "execution_count": 35,
      "outputs": [
        {
          "output_type": "stream",
          "text": [
            "BiLSTM(\n",
            "  (embedding): Embedding(17490, 400)\n",
            "  (lstm): LSTM(400, 150, num_layers=3, batch_first=True, dropout=0.2, bidirectional=True)\n",
            "  (fc): Linear(in_features=300, out_features=5, bias=True)\n",
            "  (dropout): Dropout(p=0.2, inplace=False)\n",
            ")\n",
            "The model has 8,744,705 trainable parameters\n"
          ],
          "name": "stdout"
        }
      ]
    },
    {
      "cell_type": "markdown",
      "metadata": {
        "id": "o5vsPmQ4WWKM"
      },
      "source": [
        "# Training"
      ]
    },
    {
      "cell_type": "code",
      "metadata": {
        "id": "MZRXBQrsWJ0W"
      },
      "source": [
        "optimizer = adam_optimizer(model, lr=0.001)  # TODO: lr=0.001\n",
        "criterion = cross_entropy_loss()\n",
        "\n",
        "model = model.to(device)\n",
        "# criterion = criterion.to(device)"
      ],
      "execution_count": 36,
      "outputs": []
    },
    {
      "cell_type": "code",
      "metadata": {
        "id": "xEeJxMkCd-MK",
        "colab": {
          "base_uri": "https://localhost:8080/"
        },
        "outputId": "7397ebcf-6096-4db5-a6b3-2afe904c5ff1"
      },
      "source": [
        "train_losses, test_losses, train_accuracies, test_accuracies = train(model, \n",
        "                                                                     train_iterator, \n",
        "                                                                     test_iterator, \n",
        "                                                                     optimizer, \n",
        "                                                                     criterion,\n",
        "                                                                     binary_accuracy,\n",
        "                                                                     epochs=20)"
      ],
      "execution_count": 37,
      "outputs": [
        {
          "output_type": "stream",
          "text": [
            "True\n",
            "Epoch: 01 | Epoch Time: 0m 1s\n",
            "\tTrain Loss: 1.578 | Train Acc: 27.17%\n",
            "\t Val. Loss: 1.564 |  Val. Acc: 29.67% \n",
            "\n",
            "Epoch: 02 | Epoch Time: 0m 1s\n",
            "\tTrain Loss: 1.545 | Train Acc: 34.41%\n",
            "\t Val. Loss: 1.535 |  Val. Acc: 34.71% \n",
            "\n",
            "Epoch: 03 | Epoch Time: 0m 1s\n",
            "\tTrain Loss: 1.487 | Train Acc: 40.63%\n",
            "\t Val. Loss: 1.527 |  Val. Acc: 36.13% \n",
            "\n",
            "Epoch: 04 | Epoch Time: 0m 1s\n",
            "\tTrain Loss: 1.427 | Train Acc: 47.49%\n",
            "\t Val. Loss: 1.526 |  Val. Acc: 35.42% \n",
            "\n",
            "Epoch: 05 | Epoch Time: 0m 1s\n",
            "\tTrain Loss: 1.366 | Train Acc: 54.21%\n",
            "\t Val. Loss: 1.525 |  Val. Acc: 36.57% \n",
            "\n",
            "Epoch: 06 | Epoch Time: 0m 1s\n",
            "\tTrain Loss: 1.318 | Train Acc: 59.11%\n",
            "\t Val. Loss: 1.529 |  Val. Acc: 35.90% \n",
            "\n",
            "Epoch: 07 | Epoch Time: 0m 1s\n",
            "\tTrain Loss: 1.266 | Train Acc: 64.42%\n",
            "\t Val. Loss: 1.510 |  Val. Acc: 38.29% \n",
            "\n",
            "Epoch: 08 | Epoch Time: 0m 1s\n",
            "\tTrain Loss: 1.233 | Train Acc: 67.57%\n",
            "\t Val. Loss: 1.521 |  Val. Acc: 36.80% \n",
            "\n",
            "Epoch: 09 | Epoch Time: 0m 1s\n",
            "\tTrain Loss: 1.196 | Train Acc: 71.21%\n",
            "\t Val. Loss: 1.522 |  Val. Acc: 37.07% \n",
            "\n",
            "Epoch: 10 | Epoch Time: 0m 1s\n",
            "\tTrain Loss: 1.171 | Train Acc: 73.90%\n",
            "\t Val. Loss: 1.529 |  Val. Acc: 35.67% \n",
            "\n",
            "Epoch: 11 | Epoch Time: 0m 1s\n",
            "\tTrain Loss: 1.151 | Train Acc: 75.84%\n",
            "\t Val. Loss: 1.522 |  Val. Acc: 36.90% \n",
            "\n",
            "Epoch: 12 | Epoch Time: 0m 1s\n",
            "\tTrain Loss: 1.127 | Train Acc: 78.27%\n",
            "\t Val. Loss: 1.526 |  Val. Acc: 36.07% \n",
            "\n",
            "Epoch: 13 | Epoch Time: 0m 1s\n",
            "\tTrain Loss: 1.110 | Train Acc: 80.00%\n",
            "\t Val. Loss: 1.520 |  Val. Acc: 36.70% \n",
            "\n",
            "Epoch: 14 | Epoch Time: 0m 1s\n",
            "\tTrain Loss: 1.093 | Train Acc: 81.39%\n",
            "\t Val. Loss: 1.532 |  Val. Acc: 35.58% \n",
            "\n",
            "Epoch: 15 | Epoch Time: 0m 1s\n",
            "\tTrain Loss: 1.070 | Train Acc: 84.06%\n",
            "\t Val. Loss: 1.524 |  Val. Acc: 36.54% \n",
            "\n",
            "Epoch: 16 | Epoch Time: 0m 1s\n",
            "\tTrain Loss: 1.058 | Train Acc: 85.30%\n",
            "\t Val. Loss: 1.534 |  Val. Acc: 35.53% \n",
            "\n",
            "Epoch: 17 | Epoch Time: 0m 1s\n",
            "\tTrain Loss: 1.047 | Train Acc: 86.20%\n",
            "\t Val. Loss: 1.525 |  Val. Acc: 36.86% \n",
            "\n",
            "Epoch: 18 | Epoch Time: 0m 1s\n",
            "\tTrain Loss: 1.036 | Train Acc: 87.26%\n",
            "\t Val. Loss: 1.529 |  Val. Acc: 36.10% \n",
            "\n",
            "Epoch: 19 | Epoch Time: 0m 1s\n",
            "\tTrain Loss: 1.028 | Train Acc: 88.02%\n",
            "\t Val. Loss: 1.524 |  Val. Acc: 36.87% \n",
            "\n",
            "Epoch: 20 | Epoch Time: 0m 1s\n",
            "\tTrain Loss: 1.018 | Train Acc: 89.03%\n",
            "\t Val. Loss: 1.531 |  Val. Acc: 35.86% \n",
            "\n"
          ],
          "name": "stdout"
        }
      ]
    },
    {
      "cell_type": "markdown",
      "metadata": {
        "id": "H6Yb8r0jrQci"
      },
      "source": [
        "# Evaluation"
      ]
    },
    {
      "cell_type": "code",
      "metadata": {
        "colab": {
          "base_uri": "https://localhost:8080/"
        },
        "id": "swuNY9rALRVB",
        "outputId": "e6c6f2cc-32cd-41a0-b570-676f9557c5d6"
      },
      "source": [
        "print('Best Test Accuracy reached : ', max(test_accuracies)*100)"
      ],
      "execution_count": 42,
      "outputs": [
        {
          "output_type": "stream",
          "text": [
            "Best Test Accuracy reached :  38.287680016623604\n"
          ],
          "name": "stdout"
        }
      ]
    },
    {
      "cell_type": "code",
      "metadata": {
        "colab": {
          "base_uri": "https://localhost:8080/",
          "height": 606
        },
        "id": "Z-yTrBEyhYuZ",
        "outputId": "be63e1a8-ee7f-4453-bcde-f499af4dbf19"
      },
      "source": [
        "plot_metric([train_losses, test_losses], ['train', 'test'], 'Epoch', 'Loss', 'Loss')\n",
        "print('\\n')\n",
        "plot_metric([train_accuracies, test_accuracies], ['train', 'test'], 'Epoch', 'Accuracy', 'Accuracy')"
      ],
      "execution_count": 38,
      "outputs": [
        {
          "output_type": "display_data",
          "data": {
            "image/png": "[encoded data removed]",
            "text/plain": [
              "<Figure size 432x288 with 1 Axes>"
            ]
          },
          "metadata": {
            "tags": [],
            "needs_background": "light"
          }
        },
        {
          "output_type": "stream",
          "text": [
            "\n",
            "\n"
          ],
          "name": "stdout"
        },
        {
          "output_type": "display_data",
          "data": {
            "image/png": "[encoded data removed]",
            "text/plain": [
              "<Figure size 432x288 with 1 Axes>"
            ]
          },
          "metadata": {
            "tags": [],
            "needs_background": "light"
          }
        }
      ]
    },
    {
      "cell_type": "markdown",
      "metadata": {
        "id": "FO83erd40Rkv"
      },
      "source": [
        "## Finding misclassified texts"
      ]
    },
    {
      "cell_type": "code",
      "metadata": {
        "colab": {
          "base_uri": "https://localhost:8080/"
        },
        "id": "5TvXUHXfliBD",
        "outputId": "ee8a1dcb-817f-452e-8aff-dc87be592c77"
      },
      "source": [
        "categories = {0: \"Big Negative\", 1:\"Negative\", 2:\"Neutral\", 3:\"Positive\", 4:\"Big Positive\"}\n",
        "\n",
        "j = 0\n",
        "for batch in test_iterator:\n",
        "    # pred = classify_tweet('I am very negative negative negaive')\n",
        "\n",
        "    pred_label = batch.labels\n",
        "    pred_texts, pred_text_lengths = batch.texts\n",
        "    pred_text, pred_text_length = pred_texts[0], pred_text_lengths[0]\n",
        "    # print(pred_text, pred_text_length)\n",
        "\n",
        "    # Get the model prediction                  \n",
        "    prediction = model(pred_text.unsqueeze(0), pred_text_length.unsqueeze(0))\n",
        "    _, pred = torch.max(prediction, 1) \n",
        "\n",
        "    print('Sentence : ', ' '.join([text.vocab.itos[x] for x in list(pred_text)]))\n",
        "    print('\\tPredicted Label : ', categories[pred.item()])\n",
        "    print('\\tCorrect Label   : ', categories[pred_label[0].item()])\n",
        "    \n",
        "    if j > 12:\n",
        "        break"
      ],
      "execution_count": 39,
      "outputs": [
        {
          "output_type": "stream",
          "text": [
            "Sentence :  <unk> eventually <unk> the <unk> .\n",
            "\tPredicted Label :  Big Negative\n",
            "\tCorrect Label   :  Neutral\n",
            "Sentence :  A cinematic sleeping pill of impressive potency .\n",
            "\tPredicted Label :  Positive\n",
            "\tCorrect Label   :  Neutral\n",
            "Sentence :  It 's a sharp movie about otherwise dull subjects .\n",
            "\tPredicted Label :  Neutral\n",
            "\tCorrect Label   :  Negative\n",
            "Sentence :  You watch for that sense of openness , the little surprises .\n",
            "\tPredicted Label :  Negative\n",
            "\tCorrect Label   :  Negative\n",
            "Sentence :  The only fun part of the movie is playing the obvious game .\n",
            "\tPredicted Label :  Neutral\n",
            "\tCorrect Label   :  Big Negative\n",
            "Sentence :  Film ca n't quite maintain its initial momentum , but remains sporadically funny throughout .\n",
            "\tPredicted Label :  Neutral\n",
            "\tCorrect Label   :  Neutral\n",
            "Sentence :  <unk> to sort the bad guys from the good , which is its essential problem .\n",
            "\tPredicted Label :  Big Negative\n",
            "\tCorrect Label   :  Big Negative\n",
            "Sentence :  It 's about individual moments of mood , and an aimlessness that 's actually sort of amazing .\n",
            "\tPredicted Label :  Negative\n",
            "\tCorrect Label   :  Positive\n",
            "Sentence :  The plot plummets into a comedy graveyard before Janice comes racing to the rescue in the final reel .\n",
            "\tPredicted Label :  Negative\n",
            "\tCorrect Label   :  Neutral\n",
            "Sentence :  Call me a <unk> , but I <unk> , not once , but three times in this animated sweet film .\n",
            "\tPredicted Label :  Negative\n",
            "\tCorrect Label   :  Positive\n",
            "Sentence :  <unk> is one of my least favourite emotions , especially when I have to put up with <unk> minutes of it .\n",
            "\tPredicted Label :  Big Positive\n",
            "\tCorrect Label   :  Big Positive\n",
            "Sentence :  A formula family tearjerker told with a heavy Irish brogue ... <unk> , rather than <unk> , the plot 's saccharine thrust .\n",
            "\tPredicted Label :  Big Negative\n",
            "\tCorrect Label   :  Negative\n",
            "Sentence :  Just because A Walk to Remember is shrewd enough to <unk> <unk> tear <unk> does n't mean it 's good enough for our girls .\n",
            "\tPredicted Label :  Negative\n",
            "\tCorrect Label   :  Big Negative\n",
            "Sentence :  There are a few laughs and clever sight gags scattered about , but not enough to make this anything more than another big - budget bust .\n",
            "\tPredicted Label :  Big Positive\n",
            "\tCorrect Label   :  Big Negative\n",
            "Sentence :  Schnitzler 's film has a great hook , some clever bits and well - drawn , if standard issue , characters , but is still only partly satisfying .\n",
            "\tPredicted Label :  Neutral\n",
            "\tCorrect Label   :  Neutral\n",
            "Sentence :  The film does n't really care about the thousands of Americans who die hideously , it cares about how Ryan meets his future wife and makes his start at the CIA .\n",
            "\tPredicted Label :  Negative\n",
            "\tCorrect Label   :  Big Negative\n",
            "Sentence :  The animation is competent , and some of the gags are quite funny , but Jonah ... never shakes the oppressive , morally superior good - for - you quality that almost automatically <unk> didactic entertainment .\n",
            "\tPredicted Label :  Big Positive\n",
            "\tCorrect Label   :  Neutral\n",
            "Sentence :  It cuts to the core of what it actually means to face your fears , to be a girl in a world of boys , to be a boy truly in love with a girl , and to ride the big metaphorical wave that is life -- <unk> it takes you .\n",
            "\tPredicted Label :  Negative\n",
            "\tCorrect Label   :  Positive\n"
          ],
          "name": "stdout"
        }
      ]
    },
    {
      "cell_type": "markdown",
      "metadata": {
        "id": "C4riMnDRNfSR"
      },
      "source": [
        "## Cnfusion Matrix\n",
        "\n",
        "### Inferring all test data"
      ]
    },
    {
      "cell_type": "code",
      "metadata": {
        "id": "RelL168P6wEG",
        "colab": {
          "base_uri": "https://localhost:8080/"
        },
        "outputId": "19f7f667-ca82-4641-b4a1-d7ee28a2b655"
      },
      "source": [
        "import spacy\n",
        "nlp = spacy.load('en')\n",
        "\n",
        "path='../weights/best_model.pt'\n",
        "model.load_state_dict(torch.load(path));\n",
        "model.eval();\n",
        "tokenizer_file = open('./tokenizer.pkl', 'rb')\n",
        "tokenizer = pickle.load(tokenizer_file)\n",
        "\n",
        "print(\"Model and Tokenizer Loaded!\")\n",
        "\n",
        "def classify_tweet(text):\n",
        "    \n",
        "    categories = {0: \"Big Negative\", 1:\"Negative\", 2:\"Neutral\", 3:\"Positive\", 4:\"Big Positive\"}\n",
        "    \n",
        "    # tokenize the tweet \n",
        "    tokenized = [tok.text for tok in nlp.tokenizer(text)] \n",
        "    indexed = [tokenizer[t] for t in tokenized]        \n",
        "    length = [len(indexed)]\n",
        "    tensor = torch.LongTensor(indexed).to(device)   \n",
        "\n",
        "    tensor = tensor.unsqueeze(1).T  \n",
        "    length_tensor = torch.LongTensor(length)\n",
        "\n",
        "    prediction = model(tensor, length_tensor)\n",
        "    pred = torch.argmax(prediction, 1) \n",
        "    \n",
        "    return categories[pred.item()]"
      ],
      "execution_count": 50,
      "outputs": [
        {
          "output_type": "stream",
          "text": [
            "Model and Tokenizer Loaded!\n"
          ],
          "name": "stdout"
        }
      ]
    },
    {
      "cell_type": "code",
      "metadata": {
        "id": "po9uIs-vOKjs"
      },
      "source": [
        "# Predicting all sentences\n",
        "df_test['predictions'] = df_test['sentence_clean'].apply(classify_tweet)"
      ],
      "execution_count": null,
      "outputs": []
    },
    {
      "cell_type": "code",
      "metadata": {
        "colab": {
          "base_uri": "https://localhost:8080/"
        },
        "id": "X6Kd3lEIOZwv",
        "outputId": "25b2545e-53da-4957-ba02-55f691f1b1de"
      },
      "source": [
        "df_test['predictions'].value_counts()"
      ],
      "execution_count": 52,
      "outputs": [
        {
          "output_type": "execute_result",
          "data": {
            "text/plain": [
              "Negative        949\n",
              "Big Negative    830\n",
              "Neutral         283\n",
              "Positive        195\n",
              "Name: predictions, dtype: int64"
            ]
          },
          "metadata": {
            "tags": []
          },
          "execution_count": 52
        }
      ]
    },
    {
      "cell_type": "markdown",
      "metadata": {
        "id": "OembHmio2L1c"
      },
      "source": [
        "### Plot\n",
        "\n"
      ]
    },
    {
      "cell_type": "code",
      "metadata": {
        "id": "UhAoNoriO198"
      },
      "source": [
        "from sklearn.metrics import confusion_matrix\n",
        "import numpy as np\n",
        "\n",
        "\n",
        "def plot_confusion_matrix(y_true, y_pred, classes=[\"Big Negative\", \"Negative\", \"Neutral\", \"Positive\", \"Big Positive\"], \n",
        "                          cmap=plt.cm.YlOrBr):\n",
        "\n",
        "    cm = confusion_matrix(y_true, y_pred)\n",
        "\n",
        "    fig, ax = plt.subplots()\n",
        "    im = ax.imshow(cm, interpolation='nearest', origin='lower', cmap=cmap)\n",
        "    ax.figure.colorbar(im, ax=ax)\n",
        "\n",
        "    ax.set(xticks=np.arange(cm.shape[1]),\n",
        "           yticks=np.arange(cm.shape[0]),\n",
        "           xticklabels=classes, yticklabels=classes,\n",
        "           ylabel='True label',\n",
        "           xlabel='Predicted label')\n",
        "    \n",
        "    plt.setp(ax.get_xticklabels(), rotation=30, ha=\"right\", rotation_mode=\"anchor\")\n",
        "\n",
        "    # Loop over data dimensions and create text annotations\n",
        "    fmt = 'd'\n",
        "    thresh = cm.max() / 2.\n",
        "    for i in range(cm.shape[0]):\n",
        "        for j in range(cm.shape[1]):\n",
        "            ax.text(j, i, format(cm[i, j], fmt),\n",
        "                    ha=\"center\", va=\"center\",\n",
        "                    color=\"white\" if cm[i, j] > thresh else \"black\")\n",
        "    return fig, ax"
      ],
      "execution_count": 58,
      "outputs": []
    },
    {
      "cell_type": "code",
      "metadata": {
        "colab": {
          "base_uri": "https://localhost:8080/",
          "height": 344
        },
        "id": "VWnDWakMSL8x",
        "outputId": "cd3c5f86-48a0-4a6c-c175-52fdf0f50948"
      },
      "source": [
        "categories = {0: \"Big Negative\", 1:\"Negative\", 2:\"Neutral\", 3:\"Positive\", 4:\"Big Positive\"}\n",
        "plot_confusion_matrix(df_test['sentiment labels'].apply(lambda x: categories[x]).values.tolist(), df_test['predictions'].values.tolist())"
      ],
      "execution_count": 59,
      "outputs": [
        {
          "output_type": "execute_result",
          "data": {
            "text/plain": [
              "(<Figure size 432x288 with 2 Axes>,\n",
              " <matplotlib.axes._subplots.AxesSubplot at 0x7fe00450ea10>)"
            ]
          },
          "metadata": {
            "tags": []
          },
          "execution_count": 59
        },
        {
          "output_type": "display_data",
          "data": {
            "image/png": "[encoded data removed]",
            "text/plain": [
              "<Figure size 432x288 with 2 Axes>"
            ]
          },
          "metadata": {
            "tags": [],
            "needs_background": "light"
          }
        }
      ]
    }
  ]
}