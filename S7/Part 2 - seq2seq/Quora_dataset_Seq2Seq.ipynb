{
  "nbformat": 4,
  "nbformat_minor": 0,
  "metadata": {
    "colab": {
      "name": "Quora_dataset_Seq2Seq.ipynb",
      "provenance": [],
      "authorship_tag": "ABX9TyPIykkFi0emvimFomBQoU4F",
      "include_colab_link": true
    },
    "kernelspec": {
      "name": "python3",
      "display_name": "Python 3"
    },
    "language_info": {
      "name": "python"
    },
    "accelerator": "GPU"
  },
  "cells": [
    {
      "cell_type": "markdown",
      "metadata": {
        "id": "view-in-github",
        "colab_type": "text"
      },
      "source": [
        "<a href=\"https://colab.research.google.com/github/namanphy/END2/blob/main/S7/Part%202%20-%20seq2seq/Quora_dataset_Seq2Seq.ipynb\" target=\"_parent\"><img src=\"https://colab.research.google.com/assets/colab-badge.svg\" alt=\"Open In Colab\"/></a>"
      ]
    },
    {
      "cell_type": "code",
      "metadata": {
        "colab": {
          "base_uri": "https://localhost:8080/"
        },
        "id": "56brFyvx-VQ8",
        "outputId": "7da52344-277f-415b-bf7c-da83d2b6146e"
      },
      "source": [
        "! git clone https://github.com/namanphy/END2.git --quiet\n",
        "! pip install OmegaConf --quiet"
      ],
      "execution_count": 1,
      "outputs": [
        {
          "output_type": "stream",
          "text": [
            "\u001b[K     |████████████████████████████████| 81kB 6.1MB/s \n",
            "\u001b[K     |████████████████████████████████| 645kB 20.4MB/s \n",
            "\u001b[K     |████████████████████████████████| 112kB 36.3MB/s \n",
            "\u001b[?25h  Building wheel for antlr4-python3-runtime (setup.py) ... \u001b[?25l\u001b[?25hdone\n"
          ],
          "name": "stdout"
        }
      ]
    },
    {
      "cell_type": "code",
      "metadata": {
        "colab": {
          "base_uri": "https://localhost:8080/"
        },
        "id": "L6ORik22XaTQ",
        "outputId": "c47707cf-79ca-46d1-b8c9-e1dc6ae75660"
      },
      "source": [
        "cd /content/END2/S7/Part\\ 2\\ -\\ seq2seq"
      ],
      "execution_count": 2,
      "outputs": [
        {
          "output_type": "stream",
          "text": [
            "/content/END2/S7/Part 2 - seq2seq\n"
          ],
          "name": "stdout"
        }
      ]
    },
    {
      "cell_type": "code",
      "metadata": {
        "id": "5ZaLZSunaJpV"
      },
      "source": [
        "import pandas as pd\n",
        "import numpy as np\n",
        "import matplotlib.pyplot as plt\n",
        "\n",
        "# Model prep\n",
        "import torch\n",
        "import torch.nn as nn\n",
        "\n",
        "# Data Prep\n",
        "from torchtext.legacy.data import Field, BucketIterator\n",
        "from torchtext.legacy import data\n",
        "from data import make_quora_dataset\n",
        "\n",
        "#Trainer\n",
        "from trainer.optimizer import adam_optimizer\n",
        "from trainer.quora_train import train as Trainer\n",
        "\n",
        "# Utils\n",
        "import re\n",
        "import random\n",
        "from omegaconf import OmegaConf"
      ],
      "execution_count": 24,
      "outputs": []
    },
    {
      "cell_type": "code",
      "metadata": {
        "id": "xZxDiGGjvomf"
      },
      "source": [
        "SEED = 1234\n",
        "\n",
        "random.seed(SEED)\n",
        "np.random.seed(SEED)\n",
        "torch.manual_seed(SEED)\n",
        "torch.cuda.manual_seed(SEED)\n",
        "torch.backends.cudnn.deterministic = True"
      ],
      "execution_count": 4,
      "outputs": []
    },
    {
      "cell_type": "code",
      "metadata": {
        "id": "nVM1vJmp9sKE"
      },
      "source": [
        "device = torch.device(\"cuda\" if torch.cuda.is_available() else \"cpu\")"
      ],
      "execution_count": 5,
      "outputs": []
    },
    {
      "cell_type": "markdown",
      "metadata": {
        "id": "MqU-wKybwrVQ"
      },
      "source": [
        "# Dataset Preparation\n",
        "\n",
        "**Dataset Info** - This dataset of Quora questions to determine whether pairs of question texts actually correspond to semantically equivalent queries. The data released by quora conatins set of questions with alternative ways of asking the same questions.\n",
        "\n",
        "**Only rows with `is_duplicate=1` are considered**\n",
        "\n",
        "\n",
        "The dataset consists of over 400,000 lines of potential question duplicate pairs. Each line contains IDs for each question in the pair, the full text for each question, and a binary value that indicates whether the line truly contains a duplicate pair. "
      ]
    },
    {
      "cell_type": "code",
      "metadata": {
        "colab": {
          "base_uri": "https://localhost:8080/"
        },
        "id": "kIdaN0IbXhpt",
        "outputId": "732c06ba-573d-490d-8f6d-c03ec7fd5204"
      },
      "source": [
        "dataset = make_quora_dataset()"
      ],
      "execution_count": 6,
      "outputs": [
        {
          "output_type": "stream",
          "text": [
            "False\n",
            "created dataset folder :  ../dataset/\n",
            "Downloading Quora dataset from http://qim.fs.quoracdn.net/quora_duplicate_questions.tsv ..\n",
            "Final dataset shape :  (149263, 6)\n",
            "Preprocessing the dataset - lowercase, trim, and remove non-letter characters\n",
            "Done.\n"
          ],
          "name": "stdout"
        }
      ]
    },
    {
      "cell_type": "code",
      "metadata": {
        "colab": {
          "base_uri": "https://localhost:8080/",
          "height": 203
        },
        "id": "fB7GBP7uI5-2",
        "outputId": "4f4f439f-c3b5-4228-a45a-ffd44f58e16a"
      },
      "source": [
        "dataset.head()"
      ],
      "execution_count": 7,
      "outputs": [
        {
          "output_type": "execute_result",
          "data": {
            "text/html": [
              "<div>\n",
              "<style scoped>\n",
              "    .dataframe tbody tr th:only-of-type {\n",
              "        vertical-align: middle;\n",
              "    }\n",
              "\n",
              "    .dataframe tbody tr th {\n",
              "        vertical-align: top;\n",
              "    }\n",
              "\n",
              "    .dataframe thead th {\n",
              "        text-align: right;\n",
              "    }\n",
              "</style>\n",
              "<table border=\"1\" class=\"dataframe\">\n",
              "  <thead>\n",
              "    <tr style=\"text-align: right;\">\n",
              "      <th></th>\n",
              "      <th>id</th>\n",
              "      <th>qid1</th>\n",
              "      <th>qid2</th>\n",
              "      <th>question1</th>\n",
              "      <th>question2</th>\n",
              "      <th>is_duplicate</th>\n",
              "    </tr>\n",
              "  </thead>\n",
              "  <tbody>\n",
              "    <tr>\n",
              "      <th>0</th>\n",
              "      <td>5</td>\n",
              "      <td>11</td>\n",
              "      <td>12</td>\n",
              "      <td>astrology i am a capricorn sun cap moon and ca...</td>\n",
              "      <td>i m a triple capricorn sun moon and ascendant ...</td>\n",
              "      <td>1</td>\n",
              "    </tr>\n",
              "    <tr>\n",
              "      <th>1</th>\n",
              "      <td>7</td>\n",
              "      <td>15</td>\n",
              "      <td>16</td>\n",
              "      <td>how can i be a good geologist ?</td>\n",
              "      <td>what should i do to be a great geologist ?</td>\n",
              "      <td>1</td>\n",
              "    </tr>\n",
              "    <tr>\n",
              "      <th>2</th>\n",
              "      <td>11</td>\n",
              "      <td>23</td>\n",
              "      <td>24</td>\n",
              "      <td>how do i read and find my youtube comments ?</td>\n",
              "      <td>how can i see all my youtube comments ?</td>\n",
              "      <td>1</td>\n",
              "    </tr>\n",
              "    <tr>\n",
              "      <th>3</th>\n",
              "      <td>12</td>\n",
              "      <td>25</td>\n",
              "      <td>26</td>\n",
              "      <td>what can make physics easy to learn ?</td>\n",
              "      <td>how can you make physics easy to learn ?</td>\n",
              "      <td>1</td>\n",
              "    </tr>\n",
              "    <tr>\n",
              "      <th>4</th>\n",
              "      <td>13</td>\n",
              "      <td>27</td>\n",
              "      <td>28</td>\n",
              "      <td>what was your first sexual experience like ?</td>\n",
              "      <td>what was your first sexual experience ?</td>\n",
              "      <td>1</td>\n",
              "    </tr>\n",
              "  </tbody>\n",
              "</table>\n",
              "</div>"
            ],
            "text/plain": [
              "   id  qid1  ...                                          question2 is_duplicate\n",
              "0   5    11  ...  i m a triple capricorn sun moon and ascendant ...            1\n",
              "1   7    15  ...         what should i do to be a great geologist ?            1\n",
              "2  11    23  ...            how can i see all my youtube comments ?            1\n",
              "3  12    25  ...           how can you make physics easy to learn ?            1\n",
              "4  13    27  ...            what was your first sexual experience ?            1\n",
              "\n",
              "[5 rows x 6 columns]"
            ]
          },
          "metadata": {
            "tags": []
          },
          "execution_count": 7
        }
      ]
    },
    {
      "cell_type": "markdown",
      "metadata": {
        "id": "QTd_jb0j5nHY"
      },
      "source": [
        "### Tokenizing, making Fields"
      ]
    },
    {
      "cell_type": "code",
      "metadata": {
        "id": "IGD66LSG5Uzv"
      },
      "source": [
        "question = Field(tokenize = 'spacy', \n",
        "            init_token = '<sos>', \n",
        "            eos_token = '<eos>', \n",
        "            lower = True)\n",
        "\n",
        "duplicate_question = Field(tokenize = 'spacy', \n",
        "            init_token = '<sos>', \n",
        "            eos_token = '<eos>', \n",
        "            lower = True)\n",
        "\n",
        "fields = [('questions', question), ('duplicate_questions',duplicate_question)]"
      ],
      "execution_count": 8,
      "outputs": []
    },
    {
      "cell_type": "code",
      "metadata": {
        "id": "Zi3GvEhV5wSI"
      },
      "source": [
        "examples = [data.Example.fromlist([str(dataset.question1[i]),str(dataset.question2[i])], fields) for i in range(dataset.shape[0])]\n",
        "Quora_Dataset= data.Dataset(examples, fields)"
      ],
      "execution_count": 9,
      "outputs": []
    },
    {
      "cell_type": "code",
      "metadata": {
        "colab": {
          "base_uri": "https://localhost:8080/"
        },
        "id": "PjbcXkIw7zFb",
        "outputId": "70b59870-baf6-40ed-e88c-e6f87def1553"
      },
      "source": [
        "(train, test) = Quora_Dataset.split(split_ratio=[0.7,0.3], random_state=random.seed(SEED))\n",
        "\n",
        "print(f\"Train Shape: {len(train.examples)}\")\n",
        "print(f\"Test Shape: {len(test.examples)}\")"
      ],
      "execution_count": 10,
      "outputs": [
        {
          "output_type": "stream",
          "text": [
            "Train Shape: 104484\n",
            "Test Shape: 44779\n"
          ],
          "name": "stdout"
        }
      ]
    },
    {
      "cell_type": "code",
      "metadata": {
        "colab": {
          "base_uri": "https://localhost:8080/"
        },
        "id": "5h5iVvPt8UVk",
        "outputId": "49d90983-fc85-4bc7-996d-ba511bfc1a70"
      },
      "source": [
        "# Printing one sample\n",
        "\n",
        "print('QUESTION: ', vars(train.examples[0])['questions'])\n",
        "print('ANSWERS: ', vars(train.examples[0])['duplicate_questions'])"
      ],
      "execution_count": 11,
      "outputs": [
        {
          "output_type": "stream",
          "text": [
            "QUESTION:  ['what', 'are', 'the', 'most', 'intellectually', 'stimulating', 'movies', 'you', 'have', 'ever', 'seen', '?']\n",
            "ANSWERS:  ['what', 'are', 'the', 'most', 'intellectually', 'stimulating', 'films', 'you', 'have', 'ever', 'watched', '?']\n"
          ],
          "name": "stdout"
        }
      ]
    },
    {
      "cell_type": "markdown",
      "metadata": {
        "id": "Tg4wj8059BO3"
      },
      "source": [
        "### Building Vocabulary"
      ]
    },
    {
      "cell_type": "code",
      "metadata": {
        "id": "TERUPpIH9Dfv"
      },
      "source": [
        "question.build_vocab(train, min_freq = 3)\n",
        "duplicate_question.build_vocab(train, min_freq = 3)"
      ],
      "execution_count": 12,
      "outputs": []
    },
    {
      "cell_type": "code",
      "metadata": {
        "colab": {
          "base_uri": "https://localhost:8080/"
        },
        "id": "jKDoDYFb9IOg",
        "outputId": "debd6695-c7ff-4e75-d2ef-33474aa78944"
      },
      "source": [
        "print('Size of input vocab : ', len(question.vocab))\n",
        "print('Size of label vocab : ', len(duplicate_question.vocab))\n",
        "print('Top 10 words appreared repeatedly :', list(question.vocab.freqs.most_common(10)))"
      ],
      "execution_count": 13,
      "outputs": [
        {
          "output_type": "stream",
          "text": [
            "Size of input vocab :  10870\n",
            "Size of label vocab :  10869\n",
            "Top 10 words appreared repeatedly : [('?', 108788), ('the', 46723), ('what', 41091), ('is', 31834), ('how', 31718), ('i', 26519), ('to', 23396), ('do', 22154), ('in', 20358), ('a', 19803)]\n"
          ],
          "name": "stdout"
        }
      ]
    },
    {
      "cell_type": "markdown",
      "metadata": {
        "id": "Fr8LCBtp-IMt"
      },
      "source": [
        "# Setting Config and loading BucketIterator"
      ]
    },
    {
      "cell_type": "code",
      "metadata": {
        "id": "FWIMvh9Q-G90"
      },
      "source": [
        "hparams = OmegaConf.create({\n",
        "    'epochs':10,\n",
        "    'batch_size':128,\n",
        "    'learning_rate':0.01,\n",
        "    'clip': 1,\n",
        "    'input_dim':len(question.vocab),\n",
        "    'enc_embedding_dim': 256,\n",
        "    'dec_embedding_dim': 256,\n",
        "    'hidden_dim': 512,\n",
        "    'output_dim': len(duplicate_question.vocab),\n",
        "    'dropout': 0.5,\n",
        "    'n_layers': 2\n",
        "})"
      ],
      "execution_count": 14,
      "outputs": []
    },
    {
      "cell_type": "markdown",
      "metadata": {
        "id": "qxcv8kuM9z10"
      },
      "source": [
        "### Making DataIterator"
      ]
    },
    {
      "cell_type": "code",
      "metadata": {
        "id": "hEhakzG19-Qt"
      },
      "source": [
        "train_iterator, test_iterator = data.BucketIterator.splits((train, test), batch_size = hparams.batch_size, \n",
        "                                                            sort_key = lambda x: len(x.questions),\n",
        "                                                            sort_within_batch=True, device = device)"
      ],
      "execution_count": 15,
      "outputs": []
    },
    {
      "cell_type": "code",
      "metadata": {
        "colab": {
          "base_uri": "https://localhost:8080/"
        },
        "id": "oP_vIOMv_DxS",
        "outputId": "f3be5bef-bd12-453a-8cdb-8901376189a7"
      },
      "source": [
        "item = next(iter(train_iterator))\n",
        "print(item.questions.shape)\n",
        "print(item.duplicate_questions.shape)"
      ],
      "execution_count": 16,
      "outputs": [
        {
          "output_type": "stream",
          "text": [
            "torch.Size([12, 128])\n",
            "torch.Size([26, 128])\n"
          ],
          "name": "stdout"
        }
      ]
    },
    {
      "cell_type": "markdown",
      "metadata": {
        "id": "bGRozD5g_cgt"
      },
      "source": [
        "# The Model - Seq2Seq"
      ]
    },
    {
      "cell_type": "code",
      "metadata": {
        "id": "Dr6TJEK-_ISi"
      },
      "source": [
        "class Encoder(nn.Module):\n",
        "    def __init__(self, input_dim, emb_dim, hid_dim, n_layers, dropout):\n",
        "        super().__init__()\n",
        "\n",
        "        self.hid_dim = hid_dim\n",
        "        self.n_layers = n_layers\n",
        "        \n",
        "        self.embedding = nn.Embedding(input_dim, emb_dim)\n",
        "        self.rnn = nn.LSTM(emb_dim, hid_dim, n_layers, dropout = dropout)\n",
        "        self.dropout = nn.Dropout(dropout)\n",
        "        \n",
        "    def forward(self, src):\n",
        "        embedded = self.dropout(self.embedding(src))  # [src len, batch size, emb dim]        \n",
        "        outputs, (hidden, cell) = self.rnn(embedded)  # [src len, batch size, hid dim * n directions]\n",
        "        return hidden, cell"
      ],
      "execution_count": 17,
      "outputs": []
    },
    {
      "cell_type": "code",
      "metadata": {
        "id": "IAcV5gnE_qHa"
      },
      "source": [
        "class Decoder(nn.Module):\n",
        "    def __init__(self, output_dim, emb_dim, hid_dim, n_layers, dropout):\n",
        "        super().__init__()\n",
        "        \n",
        "        self.output_dim = output_dim\n",
        "        self.hid_dim = hid_dim\n",
        "        self.n_layers = n_layers\n",
        "\n",
        "        self.embedding = nn.Embedding(output_dim, emb_dim)      \n",
        "        self.rnn = nn.LSTM(emb_dim, hid_dim, n_layers, dropout = dropout)\n",
        "        self.fc_out = nn.Linear(hid_dim, output_dim)\n",
        "        self.dropout = nn.Dropout(dropout)\n",
        "        \n",
        "    def forward(self, input, hidden, cell):\n",
        "        input = input.unsqueeze(0)  # [1, batch size]\n",
        "        embedded = self.dropout(self.embedding(input))  # [1, batch size, emb dim]\n",
        "        output, (hidden, cell) = self.rnn(embedded, (hidden, cell))  # [1, batch size, hid dim * n directions]\n",
        "        prediction = self.fc_out(output.squeeze(0))  # [batch size, output dim]\n",
        "        return prediction, hidden, cell"
      ],
      "execution_count": 18,
      "outputs": []
    },
    {
      "cell_type": "code",
      "metadata": {
        "id": "5TOI-ZocB_Sq"
      },
      "source": [
        "class Seq2Seq(nn.Module):\n",
        "    def __init__(self, encoder, decoder, device):\n",
        "        super().__init__()\n",
        "        \n",
        "        self.encoder = encoder\n",
        "        self.decoder = decoder\n",
        "        self.device = device\n",
        "        \n",
        "        assert encoder.hid_dim == decoder.hid_dim, \"Hidden dimensions of encoder and decoder must be equal!\"\n",
        "        assert encoder.n_layers == decoder.n_layers, \"Encoder and decoder must have equal number of layers!\"\n",
        "        \n",
        "    def forward(self, src, trg, teacher_forcing_ratio = 0.5):     \n",
        "        batch_size = trg.shape[1]\n",
        "        trg_len = trg.shape[0]\n",
        "        trg_vocab_size = self.decoder.output_dim\n",
        "        \n",
        "        #tensor to store decoder outputs\n",
        "        outputs = torch.zeros(trg_len, batch_size, trg_vocab_size).to(self.device)\n",
        "        \n",
        "        #last hidden state of the encoder is used as the initial hidden state of the decoder\n",
        "        hidden, cell = self.encoder(src)\n",
        "        \n",
        "        #first input to the decoder is the <sos> tokens\n",
        "        input = trg[0,:]\n",
        "        # print(\"SOURCE : \", src.shape) # DEBUG\n",
        "        # print(\"TARGET : \", trg.shape, batch_size, trg_len, trg_vocab_size) # DEBUG\n",
        "        # print('Input : ', input.shape, input) # DEBUG\n",
        "        for t in range(1, trg_len):\n",
        "            output, hidden, cell = self.decoder(input, hidden, cell)\n",
        "            \n",
        "            #place predictions in a tensor holding predictions for each token\n",
        "            outputs[t] = output\n",
        "            \n",
        "            #decide if we are going to use teacher forcing or not\n",
        "            teacher_force = random.random() < teacher_forcing_ratio\n",
        "            \n",
        "            top1 = output.argmax(1)\n",
        "            input = trg[t] if teacher_force else top1\n",
        "        return outputs"
      ],
      "execution_count": 19,
      "outputs": []
    },
    {
      "cell_type": "code",
      "metadata": {
        "colab": {
          "base_uri": "https://localhost:8080/"
        },
        "id": "AzAhh__NCm82",
        "outputId": "dbb42b24-e77f-4232-ec25-280e789596e9"
      },
      "source": [
        "#No. of trianable parameters\n",
        "def count_parameters(model):\n",
        "    return sum(p.numel() for p in model.parameters() if p.requires_grad)\n",
        "\n",
        "enc = Encoder(hparams.input_dim, hparams.enc_embedding_dim, hparams.hidden_dim, hparams.n_layers, hparams.dropout)\n",
        "dec = Decoder(hparams.output_dim, hparams.dec_embedding_dim, hparams.hidden_dim, hparams.n_layers, hparams.dropout)\n",
        "\n",
        "model = Seq2Seq(enc, dec, device).to(device)\n",
        "\n",
        "print(model)    \n",
        "print(f'The model has {count_parameters(model):,} trainable parameters')"
      ],
      "execution_count": 20,
      "outputs": [
        {
          "output_type": "stream",
          "text": [
            "Seq2Seq(\n",
            "  (encoder): Encoder(\n",
            "    (embedding): Embedding(10870, 256)\n",
            "    (rnn): LSTM(256, 512, num_layers=2, dropout=0.5)\n",
            "    (dropout): Dropout(p=0.5, inplace=False)\n",
            "  )\n",
            "  (decoder): Decoder(\n",
            "    (embedding): Embedding(10869, 256)\n",
            "    (rnn): LSTM(256, 512, num_layers=2, dropout=0.5)\n",
            "    (fc_out): Linear(in_features=512, out_features=10869, bias=True)\n",
            "    (dropout): Dropout(p=0.5, inplace=False)\n",
            "  )\n",
            ")\n",
            "The model has 18,497,397 trainable parameters\n"
          ],
          "name": "stdout"
        }
      ]
    },
    {
      "cell_type": "code",
      "metadata": {
        "colab": {
          "base_uri": "https://localhost:8080/"
        },
        "id": "Vz65GnG3EE7l",
        "outputId": "1f8b175b-aeb2-4994-d39c-43f95be2f37b"
      },
      "source": [
        "def init_weights(m):\n",
        "    for name, param in m.named_parameters():\n",
        "        nn.init.uniform_(param.data, -0.08, 0.08)\n",
        "        \n",
        "model.apply(init_weights)"
      ],
      "execution_count": 21,
      "outputs": [
        {
          "output_type": "execute_result",
          "data": {
            "text/plain": [
              "Seq2Seq(\n",
              "  (encoder): Encoder(\n",
              "    (embedding): Embedding(10870, 256)\n",
              "    (rnn): LSTM(256, 512, num_layers=2, dropout=0.5)\n",
              "    (dropout): Dropout(p=0.5, inplace=False)\n",
              "  )\n",
              "  (decoder): Decoder(\n",
              "    (embedding): Embedding(10869, 256)\n",
              "    (rnn): LSTM(256, 512, num_layers=2, dropout=0.5)\n",
              "    (fc_out): Linear(in_features=512, out_features=10869, bias=True)\n",
              "    (dropout): Dropout(p=0.5, inplace=False)\n",
              "  )\n",
              ")"
            ]
          },
          "metadata": {
            "tags": []
          },
          "execution_count": 21
        }
      ]
    },
    {
      "cell_type": "markdown",
      "metadata": {
        "id": "NJ1B4Rd9EpqI"
      },
      "source": [
        "# Training and Evaluation"
      ]
    },
    {
      "cell_type": "code",
      "metadata": {
        "id": "NJCd1HYDEjNE"
      },
      "source": [
        "TRG_PAD_IDX = duplicate_question.vocab.stoi[duplicate_question.pad_token]\n",
        "criterion = nn.CrossEntropyLoss(ignore_index = TRG_PAD_IDX)\n",
        "\n",
        "# import torch.optim as optim\n",
        "# optimizer = optim.Adam(model.parameters())\n",
        "\n",
        "optimizer = adam_optimizer(model)  # Min Val. PPL:  "
      ],
      "execution_count": 22,
      "outputs": []
    },
    {
      "cell_type": "code",
      "metadata": {
        "colab": {
          "base_uri": "https://localhost:8080/"
        },
        "id": "hpYJjDBjbl2n",
        "outputId": "45d49d71-600c-4f60-bc26-6b34ed072020"
      },
      "source": [
        "train_losses, test_losses, train_perplexity, test_perplexity = Trainer(model, \n",
        "                                                                     train_iterator, \n",
        "                                                                     test_iterator, \n",
        "                                                                     optimizer, \n",
        "                                                                     criterion,\n",
        "                                                                     clip=hparams.clip,\n",
        "                                                                     epochs=hparams.epochs)"
      ],
      "execution_count": 25,
      "outputs": [
        {
          "output_type": "stream",
          "text": [
            "True\n",
            "Epoch: 01 | Epoch Time: 3m 16s\n",
            "\tTrain Loss: 4.861 | Train Acc: 129.13%\n",
            "\t Val. Loss: 4.834 |  Val. Acc: 125.76% \n",
            "\n",
            "Epoch: 02 | Epoch Time: 3m 17s\n",
            "\tTrain Loss: 4.251 | Train Acc: 70.20%\n",
            "\t Val. Loss: 4.708 |  Val. Acc: 110.81% \n",
            "\n",
            "Epoch: 03 | Epoch Time: 3m 17s\n",
            "\tTrain Loss: 4.055 | Train Acc: 57.71%\n",
            "\t Val. Loss: 4.709 |  Val. Acc: 110.92% \n",
            "\n",
            "Epoch: 04 | Epoch Time: 3m 17s\n",
            "\tTrain Loss: 3.958 | Train Acc: 52.36%\n",
            "\t Val. Loss: 4.695 |  Val. Acc: 109.35% \n",
            "\n",
            "Epoch: 05 | Epoch Time: 3m 18s\n",
            "\tTrain Loss: 3.892 | Train Acc: 48.99%\n",
            "\t Val. Loss: 4.657 |  Val. Acc: 105.32% \n",
            "\n",
            "Epoch: 06 | Epoch Time: 3m 17s\n",
            "\tTrain Loss: 3.829 | Train Acc: 46.03%\n",
            "\t Val. Loss: 4.663 |  Val. Acc: 105.91% \n",
            "\n",
            "Epoch: 07 | Epoch Time: 3m 17s\n",
            "\tTrain Loss: 3.811 | Train Acc: 45.19%\n",
            "\t Val. Loss: 4.706 |  Val. Acc: 110.63% \n",
            "\n",
            "Epoch: 08 | Epoch Time: 3m 17s\n",
            "\tTrain Loss: 3.790 | Train Acc: 44.27%\n",
            "\t Val. Loss: 4.741 |  Val. Acc: 114.57% \n",
            "\n",
            "Epoch: 09 | Epoch Time: 3m 16s\n",
            "\tTrain Loss: 3.785 | Train Acc: 44.04%\n",
            "\t Val. Loss: 4.691 |  Val. Acc: 109.01% \n",
            "\n",
            "Epoch: 10 | Epoch Time: 3m 16s\n",
            "\tTrain Loss: 3.787 | Train Acc: 44.14%\n",
            "\t Val. Loss: 4.686 |  Val. Acc: 108.40% \n",
            "\n",
            "Training Completed! Best model is saved in `weights` dir.\n"
          ],
          "name": "stdout"
        }
      ]
    },
    {
      "cell_type": "markdown",
      "metadata": {
        "id": "1pRanxA_Or1X"
      },
      "source": [
        "# Diagnosis\n"
      ]
    },
    {
      "cell_type": "code",
      "metadata": {
        "id": "KjY7iGZyJCEd",
        "colab": {
          "base_uri": "https://localhost:8080/",
          "height": 295
        },
        "outputId": "23c8ad68-290b-4f87-abde-92c51a21a0b2"
      },
      "source": [
        "def plot_metric(metrics, legends, xlabel='', ylabel='', title='Plot'):\n",
        "    if type(metrics) != list:\n",
        "        metrics = [metrics]\n",
        "    if type(legends) != list:\n",
        "        legends = [legends]\n",
        "    assert len(metrics) < 4, \"Too many metrics. only 3 are supported.\"\n",
        "\n",
        "    marker = ['o', 'x', 'd']\n",
        "    i = 0\n",
        "    for metric in metrics:\n",
        "        plt.plot(range(len(metric)), metric, marker=marker[i])\n",
        "        i+=1\n",
        "    plt.xlabel(xlabel)\n",
        "    plt.ylabel(ylabel)\n",
        "    plt.legend(legends)\n",
        "    plt.title(title)\n",
        "    plt.show()\n",
        "\n",
        "plot_metric([train_perplexity, test_perplexity], ['train', 'test'], 'Epoch', 'Perplexity', 'Perplexity (exp^loss)')"
      ],
      "execution_count": 26,
      "outputs": [
        {
          "output_type": "display_data",
          "data": {
            "image/png": "[encoded data removed]",
            "text/plain": [
              "<Figure size 432x288 with 1 Axes>"
            ]
          },
          "metadata": {
            "tags": [],
            "needs_background": "light"
          }
        }
      ]
    },
    {
      "cell_type": "markdown",
      "metadata": {
        "id": "PbQ-tIQ5U_pG"
      },
      "source": [
        "----"
      ]
    },
    {
      "cell_type": "code",
      "metadata": {
        "id": "W4lOax-1NRGM"
      },
      "source": [
        "valid_iter = iter(test_iterator)"
      ],
      "execution_count": 27,
      "outputs": []
    },
    {
      "cell_type": "code",
      "metadata": {
        "id": "P4IpBgnINofW"
      },
      "source": [
        "sample_batch = next(valid_iter)"
      ],
      "execution_count": 28,
      "outputs": []
    },
    {
      "cell_type": "code",
      "metadata": {
        "colab": {
          "base_uri": "https://localhost:8080/"
        },
        "id": "EpO7kvscNu5p",
        "outputId": "2907469a-9642-45c3-f074-4754affee659"
      },
      "source": [
        "sample_batch"
      ],
      "execution_count": 29,
      "outputs": [
        {
          "output_type": "execute_result",
          "data": {
            "text/plain": [
              "\n",
              "[torchtext.legacy.data.batch.Batch of size 128]\n",
              "\t[.questions]:[torch.cuda.LongTensor of size 6x128 (GPU 0)]\n",
              "\t[.duplicate_questions]:[torch.cuda.LongTensor of size 17x128 (GPU 0)]"
            ]
          },
          "metadata": {
            "tags": []
          },
          "execution_count": 29
        }
      ]
    },
    {
      "cell_type": "code",
      "metadata": {
        "colab": {
          "base_uri": "https://localhost:8080/"
        },
        "id": "3uYsXxphCxSO",
        "outputId": "1ae3328a-fe77-4f7c-d251-26611f7cf6d8"
      },
      "source": [
        "def diagnose(model, batch, output_length):\n",
        "    texts = batch.questions.transpose(1,0)\n",
        "    text = texts[11].unsqueeze(0)\n",
        "\n",
        "    sentence = ' '.join([question.vocab.itos[w] for w in text[0]])\n",
        "\n",
        "    answer_texts = batch.duplicate_questions.transpose(1,0)\n",
        "    answer_text = answer_texts[11].unsqueeze(0)\n",
        "\n",
        "    with torch.no_grad():\n",
        "        outputs = model(text.reshape(-1, 1).to(device), torch.zeros(output_length, 1, dtype=torch.int).to(device), 0)\n",
        "\n",
        "    print('Sentence : ', sentence.strip())\n",
        "    return outputs\n",
        "\n",
        "\n",
        "output_length = 12\n",
        "outputs = diagnose(model, sample_batch, output_length)\n",
        "print(\"Shape of output : \", outputs.shape)"
      ],
      "execution_count": 33,
      "outputs": [
        {
          "output_type": "stream",
          "text": [
            "Sentence :  <sos> father of economic ? <eos>\n",
            "Shape of output :  torch.Size([12, 1, 10869])\n"
          ],
          "name": "stdout"
        }
      ]
    },
    {
      "cell_type": "markdown",
      "metadata": {
        "id": "nHwqWfVWOdYs"
      },
      "source": [
        "----\n",
        "----\n",
        "\n",
        "# Experiments"
      ]
    },
    {
      "cell_type": "code",
      "metadata": {
        "id": "c2I0LXQJtQE8"
      },
      "source": [
        "# --- To get the word back from the torch embedding lookup ---\n",
        "\n",
        "import torch\n",
        "# declare embeddings\n",
        "embed = torch.nn.Embedding(5,10)\n",
        "\n",
        "# generate embedding for word [4] in vocab \n",
        "word = torch.tensor([4])\n",
        "\n",
        "# search function for searching through embedding\n",
        "def search(vector, distance_fun):\n",
        "    weights = embed.weight\n",
        "    min = torch.tensor(float('inf'))\n",
        "    idx = -1\n",
        "    v, e = weights.shape\n",
        "\n",
        "    # each vector in embeding is corresponding to one of the word.\n",
        "    # use a distance function to compare with vector\n",
        "    for i in range(v):\n",
        "        dist = distance_fun(vector, weights[i])\n",
        "        if (min<dist):\n",
        "            min = dist\n",
        "            idx = i\n",
        "    return i  \n",
        "# searching with squared distance\n",
        "search(word, lambda x,y: ((x-y)**2).sum()  "
      ],
      "execution_count": null,
      "outputs": []
    }
  ]
}