{
  "nbformat": 4,
  "nbformat_minor": 0,
  "metadata": {
    "colab": {
      "name": "QA_dataset_Seq2Seq.ipynb",
      "provenance": [],
      "authorship_tag": "ABX9TyMZgOlg2AY0RM0r86Uxvkye",
      "include_colab_link": true
    },
    "kernelspec": {
      "name": "python3",
      "display_name": "Python 3"
    },
    "language_info": {
      "name": "python"
    },
    "accelerator": "GPU"
  },
  "cells": [
    {
      "cell_type": "markdown",
      "metadata": {
        "id": "view-in-github",
        "colab_type": "text"
      },
      "source": [
        "<a href=\"https://colab.research.google.com/github/namanphy/END2/blob/main/S7/Part%202%20-%20seq2seq/QA_dataset_Seq2Seq.ipynb\" target=\"_parent\"><img src=\"https://colab.research.google.com/assets/colab-badge.svg\" alt=\"Open In Colab\"/></a>"
      ]
    },
    {
      "cell_type": "code",
      "metadata": {
        "colab": {
          "base_uri": "https://localhost:8080/"
        },
        "id": "56brFyvx-VQ8",
        "outputId": "61da8423-cdde-42f7-9198-33bbd313500f"
      },
      "source": [
        "! git clone https://github.com/namanphy/END2.git --quiet\n",
        "! pip install OmegaConf --quiet"
      ],
      "execution_count": 1,
      "outputs": [
        {
          "output_type": "stream",
          "text": [
            "\u001b[K     |████████████████████████████████| 81kB 8.6MB/s \n",
            "\u001b[K     |████████████████████████████████| 645kB 37.9MB/s \n",
            "\u001b[K     |████████████████████████████████| 112kB 54.3MB/s \n",
            "\u001b[?25h  Building wheel for antlr4-python3-runtime (setup.py) ... \u001b[?25l\u001b[?25hdone\n"
          ],
          "name": "stdout"
        }
      ]
    },
    {
      "cell_type": "code",
      "metadata": {
        "colab": {
          "base_uri": "https://localhost:8080/"
        },
        "id": "L6ORik22XaTQ",
        "outputId": "52912249-00ce-40ac-b7a9-d3198580e75d"
      },
      "source": [
        "cd /content/END2/S7/Part\\ 2\\ -\\ seq2seq"
      ],
      "execution_count": 2,
      "outputs": [
        {
          "output_type": "stream",
          "text": [
            "/content/END2/S7/Part 2 - seq2seq\n"
          ],
          "name": "stdout"
        }
      ]
    },
    {
      "cell_type": "code",
      "metadata": {
        "id": "5ZaLZSunaJpV"
      },
      "source": [
        "import pandas as pd\n",
        "import numpy as np\n",
        "import matplotlib.pyplot as plt\n",
        "\n",
        "# Model prep\n",
        "import torch\n",
        "import torch.nn as nn\n",
        "\n",
        "# Data Prep\n",
        "from torchtext.legacy.data import Field, BucketIterator\n",
        "from torchtext.legacy import data\n",
        "from data import make_qa_dataset\n",
        "\n",
        "#Trainer\n",
        "from trainer.optimizer import adam_optimizer\n",
        "from trainer.qa_train import train as Trainer\n",
        "\n",
        "# Utils\n",
        "import random\n",
        "from omegaconf import OmegaConf"
      ],
      "execution_count": 3,
      "outputs": []
    },
    {
      "cell_type": "code",
      "metadata": {
        "id": "xZxDiGGjvomf"
      },
      "source": [
        "SEED = 1234\n",
        "\n",
        "random.seed(SEED)\n",
        "np.random.seed(SEED)\n",
        "torch.manual_seed(SEED)\n",
        "torch.cuda.manual_seed(SEED)\n",
        "torch.backends.cudnn.deterministic = True"
      ],
      "execution_count": 4,
      "outputs": []
    },
    {
      "cell_type": "code",
      "metadata": {
        "id": "nVM1vJmp9sKE"
      },
      "source": [
        "device = torch.device(\"cuda\" if torch.cuda.is_available() else \"cpu\")"
      ],
      "execution_count": 5,
      "outputs": []
    },
    {
      "cell_type": "markdown",
      "metadata": {
        "id": "MqU-wKybwrVQ"
      },
      "source": [
        "# Dataset Preparation\n",
        "\n",
        "**Dataset Info** - This dataset includes Wikipedia articles, factual questions manually generated from them, and answers to these manually generated questions for use in academic research.\n",
        "\n",
        "The file \"question_answer_pairs.txt\" contains the questions and answers. The first line of the file contains \n",
        "column names for the tab-separated data fields in the file. This first line follows:\n",
        "\n",
        "1. Field 1 - **ArticleTitle** - It is the name of the Wikipedia article from which questions and answers initially came.\n",
        "2. Field 2 - **Question** - It is the question.\n",
        "3. Field 3 - **Answer** - It is the answer.\n",
        "4. Field 4 - **DifficultyFromQuestioner** - It is the prescribed difficulty rating for the question as given to the question-writer. \n",
        "5. Field 5 - **DifficultyFromAnswerer** - It is a difficulty rating assigned by the individual who evaluated and answered the question, which may differ from the difficulty in field 4.\n",
        "6. Field 6 - **ArticleFile** - It is the relative path to the prefix of the article files. html files (.htm) and cleaned \n",
        "text (.txt) files are provided."
      ]
    },
    {
      "cell_type": "code",
      "metadata": {
        "colab": {
          "base_uri": "https://localhost:8080/"
        },
        "id": "kIdaN0IbXhpt",
        "outputId": "2b7e2a6e-d8d1-4707-a463-fb5ffff90aaf"
      },
      "source": [
        "dataset = make_qa_dataset()"
      ],
      "execution_count": 6,
      "outputs": [
        {
          "output_type": "stream",
          "text": [
            "False\n",
            "created dataset folder :  ../dataset/\n",
            "Downloading and extracting QA dataset from http://www.cs.cmu.edu/~ark/QA-data/data ..\n",
            "Complete file path :../dataset/Question_Answer_Dataset_v1.2/S08/question_answer_pairs.txt\n",
            "Complete file path :../dataset/Question_Answer_Dataset_v1.2/S10/question_answer_pairs.txt\n",
            "Complete file path :../dataset/Question_Answer_Dataset_v1.2/S09/question_answer_pairs.txt\n",
            "\n",
            "Removing Null values ..\n",
            "Final dataset shape :  (3422, 6)\n",
            "Preprocessing the dataset - lowercase, trim, and remove non-letter characters\n",
            "Done.\n"
          ],
          "name": "stdout"
        }
      ]
    },
    {
      "cell_type": "code",
      "metadata": {
        "colab": {
          "base_uri": "https://localhost:8080/",
          "height": 203
        },
        "id": "3vMO0si0Xhgc",
        "outputId": "36cc2702-a755-4a81-ec5d-66ed3d8771a3"
      },
      "source": [
        "dataset.head()"
      ],
      "execution_count": 7,
      "outputs": [
        {
          "output_type": "execute_result",
          "data": {
            "text/html": [
              "<div>\n",
              "<style scoped>\n",
              "    .dataframe tbody tr th:only-of-type {\n",
              "        vertical-align: middle;\n",
              "    }\n",
              "\n",
              "    .dataframe tbody tr th {\n",
              "        vertical-align: top;\n",
              "    }\n",
              "\n",
              "    .dataframe thead th {\n",
              "        text-align: right;\n",
              "    }\n",
              "</style>\n",
              "<table border=\"1\" class=\"dataframe\">\n",
              "  <thead>\n",
              "    <tr style=\"text-align: right;\">\n",
              "      <th></th>\n",
              "      <th>ArticleTitle</th>\n",
              "      <th>Question</th>\n",
              "      <th>Answer</th>\n",
              "      <th>DifficultyFromQuestioner</th>\n",
              "      <th>DifficultyFromAnswerer</th>\n",
              "      <th>ArticleFile</th>\n",
              "    </tr>\n",
              "  </thead>\n",
              "  <tbody>\n",
              "    <tr>\n",
              "      <th>0</th>\n",
              "      <td>Abraham_Lincoln</td>\n",
              "      <td>was abraham lincoln the sixteenth president of...</td>\n",
              "      <td>yes</td>\n",
              "      <td>easy</td>\n",
              "      <td>easy</td>\n",
              "      <td>data/set3/a4</td>\n",
              "    </tr>\n",
              "    <tr>\n",
              "      <th>1</th>\n",
              "      <td>Abraham_Lincoln</td>\n",
              "      <td>was abraham lincoln the sixteenth president of...</td>\n",
              "      <td>yes .</td>\n",
              "      <td>easy</td>\n",
              "      <td>easy</td>\n",
              "      <td>data/set3/a4</td>\n",
              "    </tr>\n",
              "    <tr>\n",
              "      <th>2</th>\n",
              "      <td>Abraham_Lincoln</td>\n",
              "      <td>did lincoln sign the national banking act of ?</td>\n",
              "      <td>yes</td>\n",
              "      <td>easy</td>\n",
              "      <td>medium</td>\n",
              "      <td>data/set3/a4</td>\n",
              "    </tr>\n",
              "    <tr>\n",
              "      <th>3</th>\n",
              "      <td>Abraham_Lincoln</td>\n",
              "      <td>did lincoln sign the national banking act of ?</td>\n",
              "      <td>yes .</td>\n",
              "      <td>easy</td>\n",
              "      <td>easy</td>\n",
              "      <td>data/set3/a4</td>\n",
              "    </tr>\n",
              "    <tr>\n",
              "      <th>4</th>\n",
              "      <td>Abraham_Lincoln</td>\n",
              "      <td>did his mother die of pneumonia ?</td>\n",
              "      <td>no</td>\n",
              "      <td>easy</td>\n",
              "      <td>medium</td>\n",
              "      <td>data/set3/a4</td>\n",
              "    </tr>\n",
              "  </tbody>\n",
              "</table>\n",
              "</div>"
            ],
            "text/plain": [
              "      ArticleTitle  ...   ArticleFile\n",
              "0  Abraham_Lincoln  ...  data/set3/a4\n",
              "1  Abraham_Lincoln  ...  data/set3/a4\n",
              "2  Abraham_Lincoln  ...  data/set3/a4\n",
              "3  Abraham_Lincoln  ...  data/set3/a4\n",
              "4  Abraham_Lincoln  ...  data/set3/a4\n",
              "\n",
              "[5 rows x 6 columns]"
            ]
          },
          "metadata": {
            "tags": []
          },
          "execution_count": 7
        }
      ]
    },
    {
      "cell_type": "markdown",
      "metadata": {
        "id": "QTd_jb0j5nHY"
      },
      "source": [
        "### Tokenizing, making Fields"
      ]
    },
    {
      "cell_type": "code",
      "metadata": {
        "id": "IGD66LSG5Uzv"
      },
      "source": [
        "question = Field(tokenize = 'spacy', \n",
        "            init_token = '<sos>', \n",
        "            eos_token = '<eos>', \n",
        "            lower = True)\n",
        "\n",
        "answer = Field(tokenize = 'spacy', \n",
        "            init_token = '<sos>', \n",
        "            eos_token = '<eos>', \n",
        "            lower = True)\n",
        "\n",
        "\n",
        "fields = [('questions', question),('answers',answer)]"
      ],
      "execution_count": 8,
      "outputs": []
    },
    {
      "cell_type": "code",
      "metadata": {
        "id": "Zi3GvEhV5wSI"
      },
      "source": [
        "examples = [data.Example.fromlist([str(dataset.Question[i]),str(dataset.Answer[i])], fields) for i in range(dataset.shape[0])]\n",
        "QA_Dataset= data.Dataset(examples, fields)"
      ],
      "execution_count": 9,
      "outputs": []
    },
    {
      "cell_type": "code",
      "metadata": {
        "colab": {
          "base_uri": "https://localhost:8080/"
        },
        "id": "PjbcXkIw7zFb",
        "outputId": "dbe6c45b-6e88-4d7d-c185-2e9b738dc78b"
      },
      "source": [
        "(train, test) = QA_Dataset.split(split_ratio=[0.7,0.3], random_state=random.seed(SEED))\n",
        "\n",
        "print(f\"Train Shape: {len(train.examples)}\")\n",
        "print(f\"Test Shape: {len(test.examples)}\")"
      ],
      "execution_count": 10,
      "outputs": [
        {
          "output_type": "stream",
          "text": [
            "Train Shape: 2395\n",
            "Test Shape: 1027\n"
          ],
          "name": "stdout"
        }
      ]
    },
    {
      "cell_type": "code",
      "metadata": {
        "colab": {
          "base_uri": "https://localhost:8080/"
        },
        "id": "5h5iVvPt8UVk",
        "outputId": "a53d9f14-4abe-4475-8bbf-40b3dab7ac4d"
      },
      "source": [
        "# Printing one sample\n",
        "\n",
        "print('QUESTION: ', vars(train.examples[0])['questions'])\n",
        "print('ANSWERS: ', vars(train.examples[0])['answers'])"
      ],
      "execution_count": 11,
      "outputs": [
        {
          "output_type": "stream",
          "text": [
            "QUESTION:  ['what', 'was', 'the', 'faraday', 'effect', 'first', 'called', '?']\n",
            "ANSWERS:  ['diamagnetism']\n"
          ],
          "name": "stdout"
        }
      ]
    },
    {
      "cell_type": "markdown",
      "metadata": {
        "id": "Tg4wj8059BO3"
      },
      "source": [
        "### Building Vocabulary"
      ]
    },
    {
      "cell_type": "code",
      "metadata": {
        "id": "TERUPpIH9Dfv"
      },
      "source": [
        "question.build_vocab(train, min_freq = 3)\n",
        "answer.build_vocab(train, min_freq = 3)"
      ],
      "execution_count": 12,
      "outputs": []
    },
    {
      "cell_type": "code",
      "metadata": {
        "colab": {
          "base_uri": "https://localhost:8080/"
        },
        "id": "jKDoDYFb9IOg",
        "outputId": "c43231b8-1a8d-404f-d3df-51c77c648f6b"
      },
      "source": [
        "print('Size of input vocab : ', len(question.vocab))\n",
        "print('Size of label vocab : ', len(answer.vocab))\n",
        "print('Top 10 words appreared repeatedly :', list(question.vocab.freqs.most_common(10)))"
      ],
      "execution_count": 13,
      "outputs": [
        {
          "output_type": "stream",
          "text": [
            "Size of input vocab :  1095\n",
            "Size of label vocab :  597\n",
            "Top 10 words appreared repeatedly : [('?', 2353), ('the', 1384), ('of', 801), ('is', 721), ('what', 611), ('in', 533), ('a', 471), ('was', 371), ('did', 348), ('are', 285)]\n"
          ],
          "name": "stdout"
        }
      ]
    },
    {
      "cell_type": "markdown",
      "metadata": {
        "id": "Fr8LCBtp-IMt"
      },
      "source": [
        "# Setting Config and loading BucketIterator"
      ]
    },
    {
      "cell_type": "code",
      "metadata": {
        "id": "FWIMvh9Q-G90"
      },
      "source": [
        "hparams = OmegaConf.create({\n",
        "    'epochs':10,\n",
        "    'batch_size':128,\n",
        "    'learning_rate':0.01,\n",
        "    'clip': 1,\n",
        "    'input_dim':len(question.vocab),\n",
        "    'enc_embedding_dim': 256,\n",
        "    'dec_embedding_dim': 256,\n",
        "    'hidden_dim': 512,\n",
        "    'output_dim': len(answer.vocab),\n",
        "    'dropout': 0.5,\n",
        "    'n_layers': 2\n",
        "})"
      ],
      "execution_count": 14,
      "outputs": []
    },
    {
      "cell_type": "markdown",
      "metadata": {
        "id": "qxcv8kuM9z10"
      },
      "source": [
        "### Making DataIterator"
      ]
    },
    {
      "cell_type": "code",
      "metadata": {
        "id": "hEhakzG19-Qt"
      },
      "source": [
        "train_iterator, test_iterator = data.BucketIterator.splits((train, test), batch_size = hparams.batch_size, \n",
        "                                                            sort_key = lambda x: len(x.questions),\n",
        "                                                            sort_within_batch=True, device = device)"
      ],
      "execution_count": 15,
      "outputs": []
    },
    {
      "cell_type": "code",
      "metadata": {
        "colab": {
          "base_uri": "https://localhost:8080/"
        },
        "id": "oP_vIOMv_DxS",
        "outputId": "6d333378-19a6-4833-e606-ef0020866ced"
      },
      "source": [
        "item = next(iter(train_iterator))\n",
        "print(item.questions.shape)\n",
        "print(item.answers.shape)"
      ],
      "execution_count": 16,
      "outputs": [
        {
          "output_type": "stream",
          "text": [
            "torch.Size([10, 128])\n",
            "torch.Size([40, 128])\n"
          ],
          "name": "stdout"
        }
      ]
    },
    {
      "cell_type": "markdown",
      "metadata": {
        "id": "bGRozD5g_cgt"
      },
      "source": [
        "# The Model - Seq2Seq"
      ]
    },
    {
      "cell_type": "code",
      "metadata": {
        "id": "Dr6TJEK-_ISi"
      },
      "source": [
        "class Encoder(nn.Module):\n",
        "    def __init__(self, input_dim, emb_dim, hid_dim, n_layers, dropout):\n",
        "        super().__init__()\n",
        "\n",
        "        self.hid_dim = hid_dim\n",
        "        self.n_layers = n_layers\n",
        "        \n",
        "        self.embedding = nn.Embedding(input_dim, emb_dim)\n",
        "        self.rnn = nn.LSTM(emb_dim, hid_dim, n_layers, dropout = dropout)\n",
        "        self.dropout = nn.Dropout(dropout)\n",
        "        \n",
        "    def forward(self, src):\n",
        "        embedded = self.dropout(self.embedding(src))  # [src len, batch size, emb dim]        \n",
        "        outputs, (hidden, cell) = self.rnn(embedded)  # [src len, batch size, hid dim * n directions]\n",
        "        return hidden, cell"
      ],
      "execution_count": 17,
      "outputs": []
    },
    {
      "cell_type": "code",
      "metadata": {
        "id": "IAcV5gnE_qHa"
      },
      "source": [
        "class Decoder(nn.Module):\n",
        "    def __init__(self, output_dim, emb_dim, hid_dim, n_layers, dropout):\n",
        "        super().__init__()\n",
        "        \n",
        "        self.output_dim = output_dim\n",
        "        self.hid_dim = hid_dim\n",
        "        self.n_layers = n_layers\n",
        "\n",
        "        self.embedding = nn.Embedding(output_dim, emb_dim)      \n",
        "        self.rnn = nn.LSTM(emb_dim, hid_dim, n_layers, dropout = dropout)\n",
        "        self.fc_out = nn.Linear(hid_dim, output_dim)\n",
        "        self.dropout = nn.Dropout(dropout)\n",
        "        \n",
        "    def forward(self, input, hidden, cell):\n",
        "        input = input.unsqueeze(0)  # [1, batch size]\n",
        "        embedded = self.dropout(self.embedding(input))  # [1, batch size, emb dim]\n",
        "        output, (hidden, cell) = self.rnn(embedded, (hidden, cell))  # [1, batch size, hid dim * n directions]\n",
        "        prediction = self.fc_out(output.squeeze(0))  # [batch size, output dim]\n",
        "        return prediction, hidden, cell"
      ],
      "execution_count": 18,
      "outputs": []
    },
    {
      "cell_type": "code",
      "metadata": {
        "id": "5TOI-ZocB_Sq"
      },
      "source": [
        "class Seq2Seq(nn.Module):\n",
        "    def __init__(self, encoder, decoder, device):\n",
        "        super().__init__()\n",
        "        \n",
        "        self.encoder = encoder\n",
        "        self.decoder = decoder\n",
        "        self.device = device\n",
        "        \n",
        "        assert encoder.hid_dim == decoder.hid_dim, \"Hidden dimensions of encoder and decoder must be equal!\"\n",
        "        assert encoder.n_layers == decoder.n_layers, \"Encoder and decoder must have equal number of layers!\"\n",
        "        \n",
        "    def forward(self, src, trg, teacher_forcing_ratio = 0.5):     \n",
        "        batch_size = trg.shape[1]\n",
        "        trg_len = trg.shape[0]\n",
        "        trg_vocab_size = self.decoder.output_dim\n",
        "        \n",
        "        #tensor to store decoder outputs\n",
        "        outputs = torch.zeros(trg_len, batch_size, trg_vocab_size).to(self.device)\n",
        "        \n",
        "        #last hidden state of the encoder is used as the initial hidden state of the decoder\n",
        "        hidden, cell = self.encoder(src)\n",
        "        \n",
        "        #first input to the decoder is the <sos> tokens\n",
        "        input = trg[0,:]\n",
        "        # print(\"SOURCE : \", src.shape) # DEBUG\n",
        "        # print(\"TARGET : \", trg.shape, batch_size, trg_len, trg_vocab_size) # DEBUG\n",
        "        # print('Input : ', input.shape, input) # DEBUG\n",
        "        for t in range(1, trg_len):\n",
        "            output, hidden, cell = self.decoder(input, hidden, cell)\n",
        "            \n",
        "            #place predictions in a tensor holding predictions for each token\n",
        "            outputs[t] = output\n",
        "            \n",
        "            #decide if we are going to use teacher forcing or not\n",
        "            teacher_force = random.random() < teacher_forcing_ratio\n",
        "            \n",
        "            top1 = output.argmax(1)\n",
        "            input = trg[t] if teacher_force else top1\n",
        "        return outputs"
      ],
      "execution_count": 19,
      "outputs": []
    },
    {
      "cell_type": "code",
      "metadata": {
        "colab": {
          "base_uri": "https://localhost:8080/"
        },
        "id": "AzAhh__NCm82",
        "outputId": "e29a0080-c0a8-4894-f6bf-c92b7469d6e2"
      },
      "source": [
        "#No. of trianable parameters\n",
        "def count_parameters(model):\n",
        "    return sum(p.numel() for p in model.parameters() if p.requires_grad)\n",
        "\n",
        "enc = Encoder(hparams.input_dim, hparams.enc_embedding_dim, hparams.hidden_dim, hparams.n_layers, hparams.dropout)\n",
        "dec = Decoder(hparams.output_dim, hparams.dec_embedding_dim, hparams.hidden_dim, hparams.n_layers, hparams.dropout)\n",
        "\n",
        "model = Seq2Seq(enc, dec, device).to(device)\n",
        "\n",
        "print(model)    \n",
        "print(f'The model has {count_parameters(model):,} trainable parameters')"
      ],
      "execution_count": 20,
      "outputs": [
        {
          "output_type": "stream",
          "text": [
            "Seq2Seq(\n",
            "  (encoder): Encoder(\n",
            "    (embedding): Embedding(1095, 256)\n",
            "    (rnn): LSTM(256, 512, num_layers=2, dropout=0.5)\n",
            "    (dropout): Dropout(p=0.5, inplace=False)\n",
            "  )\n",
            "  (decoder): Decoder(\n",
            "    (embedding): Embedding(597, 256)\n",
            "    (rnn): LSTM(256, 512, num_layers=2, dropout=0.5)\n",
            "    (fc_out): Linear(in_features=512, out_features=597, bias=True)\n",
            "    (dropout): Dropout(p=0.5, inplace=False)\n",
            "  )\n",
            ")\n",
            "The model has 8,095,829 trainable parameters\n"
          ],
          "name": "stdout"
        }
      ]
    },
    {
      "cell_type": "code",
      "metadata": {
        "colab": {
          "base_uri": "https://localhost:8080/"
        },
        "id": "Vz65GnG3EE7l",
        "outputId": "95c0ade9-32d7-41fb-c46f-63f2f6278259"
      },
      "source": [
        "def init_weights(m):\n",
        "    for name, param in m.named_parameters():\n",
        "        nn.init.uniform_(param.data, -0.08, 0.08)\n",
        "        \n",
        "model.apply(init_weights)"
      ],
      "execution_count": 21,
      "outputs": [
        {
          "output_type": "execute_result",
          "data": {
            "text/plain": [
              "Seq2Seq(\n",
              "  (encoder): Encoder(\n",
              "    (embedding): Embedding(1095, 256)\n",
              "    (rnn): LSTM(256, 512, num_layers=2, dropout=0.5)\n",
              "    (dropout): Dropout(p=0.5, inplace=False)\n",
              "  )\n",
              "  (decoder): Decoder(\n",
              "    (embedding): Embedding(597, 256)\n",
              "    (rnn): LSTM(256, 512, num_layers=2, dropout=0.5)\n",
              "    (fc_out): Linear(in_features=512, out_features=597, bias=True)\n",
              "    (dropout): Dropout(p=0.5, inplace=False)\n",
              "  )\n",
              ")"
            ]
          },
          "metadata": {
            "tags": []
          },
          "execution_count": 21
        }
      ]
    },
    {
      "cell_type": "markdown",
      "metadata": {
        "id": "NJ1B4Rd9EpqI"
      },
      "source": [
        "# Training and Evaluation"
      ]
    },
    {
      "cell_type": "code",
      "metadata": {
        "id": "NJCd1HYDEjNE"
      },
      "source": [
        "TRG_PAD_IDX = answer.vocab.stoi[answer.pad_token]\n",
        "criterion = nn.CrossEntropyLoss(ignore_index = TRG_PAD_IDX)\n",
        "\n",
        "optimizer = adam_optimizer(model)  # Min Val. PPL:  25.701\n",
        "# optimizer = optim.RMSprop(model.parameters())  # Min Val. PPL:  32.658"
      ],
      "execution_count": 22,
      "outputs": []
    },
    {
      "cell_type": "code",
      "metadata": {
        "colab": {
          "base_uri": "https://localhost:8080/"
        },
        "id": "hpYJjDBjbl2n",
        "outputId": "1e2dd51f-e706-44d1-a6ef-86ce4c0961f1"
      },
      "source": [
        "train_losses, test_losses, train_perplexity, test_perplexity = Trainer(model, \n",
        "                                                                     train_iterator, \n",
        "                                                                     test_iterator, \n",
        "                                                                     optimizer, \n",
        "                                                                     criterion,\n",
        "                                                                     clip=hparams.clip,\n",
        "                                                                     epochs=hparams.epochs)"
      ],
      "execution_count": 23,
      "outputs": [
        {
          "output_type": "stream",
          "text": [
            "False\n",
            "created weights folder :  ../weights/\n",
            "Epoch: 01 | Epoch Time: 0m 2s\n",
            "\tTrain Loss: 4.142 | Train Acc: 62.91%\n",
            "\t Val. Loss: 3.196 |  Val. Acc: 24.43% \n",
            "\n",
            "Epoch: 02 | Epoch Time: 0m 1s\n",
            "\tTrain Loss: 3.567 | Train Acc: 35.40%\n",
            "\t Val. Loss: 3.058 |  Val. Acc: 21.27% \n",
            "\n",
            "Epoch: 03 | Epoch Time: 0m 1s\n",
            "\tTrain Loss: 3.428 | Train Acc: 30.83%\n",
            "\t Val. Loss: 3.038 |  Val. Acc: 20.87% \n",
            "\n",
            "Epoch: 04 | Epoch Time: 0m 1s\n",
            "\tTrain Loss: 3.404 | Train Acc: 30.08%\n",
            "\t Val. Loss: 3.049 |  Val. Acc: 21.09% \n",
            "\n",
            "Epoch: 05 | Epoch Time: 0m 1s\n",
            "\tTrain Loss: 3.367 | Train Acc: 28.99%\n",
            "\t Val. Loss: 3.041 |  Val. Acc: 20.93% \n",
            "\n",
            "Epoch: 06 | Epoch Time: 0m 1s\n",
            "\tTrain Loss: 3.283 | Train Acc: 26.65%\n",
            "\t Val. Loss: 3.065 |  Val. Acc: 21.43% \n",
            "\n",
            "Epoch: 07 | Epoch Time: 0m 1s\n",
            "\tTrain Loss: 3.248 | Train Acc: 25.74%\n",
            "\t Val. Loss: 3.059 |  Val. Acc: 21.30% \n",
            "\n",
            "Epoch: 08 | Epoch Time: 0m 1s\n",
            "\tTrain Loss: 3.208 | Train Acc: 24.72%\n",
            "\t Val. Loss: 3.056 |  Val. Acc: 21.25% \n",
            "\n",
            "Epoch: 09 | Epoch Time: 0m 1s\n",
            "\tTrain Loss: 3.255 | Train Acc: 25.91%\n",
            "\t Val. Loss: 3.049 |  Val. Acc: 21.08% \n",
            "\n",
            "Epoch: 10 | Epoch Time: 0m 1s\n",
            "\tTrain Loss: 3.170 | Train Acc: 23.81%\n",
            "\t Val. Loss: 3.050 |  Val. Acc: 21.12% \n",
            "\n",
            "Training Completed! Best model is saved in `weights` dir.\n"
          ],
          "name": "stdout"
        }
      ]
    },
    {
      "cell_type": "markdown",
      "metadata": {
        "id": "1pRanxA_Or1X"
      },
      "source": [
        "# Diagnosis\n"
      ]
    },
    {
      "cell_type": "code",
      "metadata": {
        "id": "KjY7iGZyJCEd",
        "colab": {
          "base_uri": "https://localhost:8080/",
          "height": 295
        },
        "outputId": "f0538c3b-dfcc-437f-d0ab-1fe2ffde792b"
      },
      "source": [
        "def plot_metric(metrics, legends, xlabel='', ylabel='', title='Plot'):\n",
        "    if type(metrics) != list:\n",
        "        metrics = [metrics]\n",
        "    if type(legends) != list:\n",
        "        legends = [legends]\n",
        "    assert len(metrics) < 4, \"Too many metrics. only 3 are supported.\"\n",
        "\n",
        "    marker = ['o', 'x', 'd']\n",
        "    i = 0\n",
        "    for metric in metrics:\n",
        "        plt.plot(range(len(metric)), metric, marker=marker[i])\n",
        "        i+=1\n",
        "    plt.xlabel(xlabel)\n",
        "    plt.ylabel(ylabel)\n",
        "    plt.legend(legends)\n",
        "    plt.title(title)\n",
        "    plt.show()\n",
        "\n",
        "plot_metric([train_perplexity, test_perplexity], ['train', 'test'], 'Epoch', 'Perplexity', 'Perplexity (exp^loss)')"
      ],
      "execution_count": 24,
      "outputs": [
        {
          "output_type": "display_data",
          "data": {
            "image/png": "[encoded data removed]",
            "text/plain": [
              "<Figure size 432x288 with 1 Axes>"
            ]
          },
          "metadata": {
            "tags": [],
            "needs_background": "light"
          }
        }
      ]
    },
    {
      "cell_type": "markdown",
      "metadata": {
        "id": "lteyWmseX0gz"
      },
      "source": [
        "---"
      ]
    },
    {
      "cell_type": "code",
      "metadata": {
        "id": "W4lOax-1NRGM"
      },
      "source": [
        "valid_iter = iter(test_iterator)"
      ],
      "execution_count": 25,
      "outputs": []
    },
    {
      "cell_type": "code",
      "metadata": {
        "id": "P4IpBgnINofW"
      },
      "source": [
        "sample_batch = next(valid_iter)"
      ],
      "execution_count": 26,
      "outputs": []
    },
    {
      "cell_type": "code",
      "metadata": {
        "colab": {
          "base_uri": "https://localhost:8080/"
        },
        "id": "EpO7kvscNu5p",
        "outputId": "4c55c5b3-6c58-4396-9f46-91425d319252"
      },
      "source": [
        "sample_batch"
      ],
      "execution_count": 27,
      "outputs": [
        {
          "output_type": "execute_result",
          "data": {
            "text/plain": [
              "\n",
              "[torchtext.legacy.data.batch.Batch of size 128]\n",
              "\t[.questions]:[torch.cuda.LongTensor of size 8x128 (GPU 0)]\n",
              "\t[.answers]:[torch.cuda.LongTensor of size 72x128 (GPU 0)]"
            ]
          },
          "metadata": {
            "tags": []
          },
          "execution_count": 27
        }
      ]
    },
    {
      "cell_type": "code",
      "metadata": {
        "colab": {
          "base_uri": "https://localhost:8080/"
        },
        "id": "3uYsXxphCxSO",
        "outputId": "d979d19f-bc25-43d7-95dc-b0e0fcf2af3f"
      },
      "source": [
        "def diagnose(model, batch, output_length):\n",
        "    texts = batch.questions.transpose(1,0)\n",
        "    text = texts[11].unsqueeze(0)\n",
        "\n",
        "    sentence = ' '.join([question.vocab.itos[w] for w in text[0]])\n",
        "\n",
        "    answer_texts = batch.answers.transpose(1,0)\n",
        "    answer_text = answer_texts[11].unsqueeze(0)\n",
        "\n",
        "    with torch.no_grad():\n",
        "        outputs = model(text.reshape(-1, 1).to(device), torch.zeros(output_length, 1, dtype=torch.int).to(device), 0)\n",
        "\n",
        "    print('Sentence : ', sentence.strip())\n",
        "    return outputs\n",
        "\n",
        "\n",
        "output_length = 12\n",
        "outputs = diagnose(model, sample_batch, output_length)\n",
        "print(\"Shape of output : \", outputs.shape)"
      ],
      "execution_count": 28,
      "outputs": [
        {
          "output_type": "stream",
          "text": [
            "Sentence :  <sos> when was henri becquerel born ? <eos>\n",
            "Shape of output :  torch.Size([12, 1, 597])\n"
          ],
          "name": "stdout"
        }
      ]
    },
    {
      "cell_type": "markdown",
      "metadata": {
        "id": "DEZQoLisX4gH"
      },
      "source": [
        "----\n",
        "\n",
        "# Exp"
      ]
    },
    {
      "cell_type": "code",
      "metadata": {
        "id": "c2I0LXQJtQE8"
      },
      "source": [
        "import torch\n",
        "# declare embeddings\n",
        "embed = torch.nn.Embedding(5,10)\n",
        "\n",
        "# generate embedding for word [4] in vocab \n",
        "word = torch.tensor([4])\n",
        "\n",
        "# search function for searching through embedding\n",
        "def search(vector, distance_fun):\n",
        "    weights = embed.weight\n",
        "    min = torch.tensor(float('inf'))\n",
        "    idx = -1\n",
        "    v, e = weights.shape\n",
        "\n",
        "    # each vector in embeding is corresponding to one of the word.\n",
        "    # use a distance function to compare with vector\n",
        "    for i in range(v):\n",
        "        dist = distance_fun(vector, weights[i])\n",
        "        if (min<dist):\n",
        "            min = dist\n",
        "            idx = i\n",
        "    return i  \n",
        "# searching with squared distance\n",
        "search(word, lambda x,y: ((x-y)**2).sum()  "
      ],
      "execution_count": null,
      "outputs": []
    }
  ]
}