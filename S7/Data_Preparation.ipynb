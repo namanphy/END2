{
 "cells": [
  {
   "cell_type": "markdown",
   "metadata": {
    "colab_type": "text",
    "id": "view-in-github"
   },
   "source": [
    "<a href=\"https://colab.research.google.com/github/namanphy/END2/blob/main/S5/Data_Augmentation.ipynb\" target=\"_parent\"><img src=\"https://colab.research.google.com/assets/colab-badge.svg\" alt=\"Open In Colab\"/></a>"
   ]
  },
  {
   "cell_type": "markdown",
   "metadata": {
    "id": "fBybXSlqRqPa"
   },
   "source": []
  },
  {
   "cell_type": "markdown",
   "metadata": {
    "id": "tNzgqCHvmJWy"
   },
   "source": [
    "# Setting Up"
   ]
  },
  {
   "cell_type": "code",
   "execution_count": 2,
   "metadata": {
    "colab": {
     "base_uri": "https://localhost:8080/"
    },
    "execution": {
     "iopub.execute_input": "2021-06-14T18:15:16.470221Z",
     "iopub.status.busy": "2021-06-14T18:15:16.469121Z",
     "iopub.status.idle": "2021-06-14T18:15:16.487110Z",
     "shell.execute_reply": "2021-06-14T18:15:16.486107Z",
     "shell.execute_reply.started": "2021-06-14T18:15:16.470221Z"
    },
    "id": "9BfzQWjKgtTy",
    "outputId": "10ed0aff-818f-4c03-ce1b-930bf5c0b89e"
   },
   "outputs": [],
   "source": [
    "# ! git clone https://github.com/namanphy/END2.git\n",
    "# cd /content/END2/S7"
   ]
  },
  {
   "cell_type": "code",
   "execution_count": 1,
   "metadata": {
    "colab": {
     "base_uri": "https://localhost:8080/"
    },
    "execution": {
     "iopub.execute_input": "2021-06-14T18:39:16.475822Z",
     "iopub.status.busy": "2021-06-14T18:39:16.474866Z",
     "iopub.status.idle": "2021-06-14T18:39:26.079216Z",
     "shell.execute_reply": "2021-06-14T18:39:26.077150Z",
     "shell.execute_reply.started": "2021-06-14T18:39:16.475822Z"
    },
    "id": "fC28OUT3Pxkh",
    "outputId": "f5c5ff36-eb0f-4b6e-bc46-8ac5bd61c112",
    "tags": []
   },
   "outputs": [],
   "source": [
    "import pandas as pd"
   ]
  },
  {
   "cell_type": "markdown",
   "metadata": {
    "id": "knSdVxmrlpMY"
   },
   "source": [
    "\n",
    "\n",
    "---\n",
    "\n"
   ]
  },
  {
   "cell_type": "markdown",
   "metadata": {},
   "source": [
    "## Loading Phrase-Label dictionary"
   ]
  },
  {
   "cell_type": "code",
   "execution_count": 43,
   "metadata": {
    "execution": {
     "iopub.execute_input": "2021-06-14T19:00:48.619178Z",
     "iopub.status.busy": "2021-06-14T19:00:48.619178Z",
     "iopub.status.idle": "2021-06-14T19:00:49.026152Z",
     "shell.execute_reply": "2021-06-14T19:00:49.025214Z",
     "shell.execute_reply.started": "2021-06-14T19:00:48.619178Z"
    },
    "tags": []
   },
   "outputs": [],
   "source": [
    "dictionary = pd.read_csv(\"data/stanfordSentimentTreebank/dictionary.txt\", sep=\"|\", names=['phrase', 'phrase ids'] )"
   ]
  },
  {
   "cell_type": "code",
   "execution_count": 44,
   "metadata": {
    "execution": {
     "iopub.execute_input": "2021-06-14T19:00:49.061152Z",
     "iopub.status.busy": "2021-06-14T19:00:49.060154Z",
     "iopub.status.idle": "2021-06-14T19:00:49.089202Z",
     "shell.execute_reply": "2021-06-14T19:00:49.088154Z",
     "shell.execute_reply.started": "2021-06-14T19:00:49.061152Z"
    },
    "tags": []
   },
   "outputs": [
    {
     "data": {
      "text/html": [
       "<div>\n",
       "<style scoped>\n",
       "    .dataframe tbody tr th:only-of-type {\n",
       "        vertical-align: middle;\n",
       "    }\n",
       "\n",
       "    .dataframe tbody tr th {\n",
       "        vertical-align: top;\n",
       "    }\n",
       "\n",
       "    .dataframe thead th {\n",
       "        text-align: right;\n",
       "    }\n",
       "</style>\n",
       "<table border=\"1\" class=\"dataframe\">\n",
       "  <thead>\n",
       "    <tr style=\"text-align: right;\">\n",
       "      <th></th>\n",
       "      <th>phrase</th>\n",
       "      <th>phrase ids</th>\n",
       "    </tr>\n",
       "  </thead>\n",
       "  <tbody>\n",
       "    <tr>\n",
       "      <th>0</th>\n",
       "      <td>!</td>\n",
       "      <td>0</td>\n",
       "    </tr>\n",
       "    <tr>\n",
       "      <th>1</th>\n",
       "      <td>! '</td>\n",
       "      <td>22935</td>\n",
       "    </tr>\n",
       "    <tr>\n",
       "      <th>2</th>\n",
       "      <td>! ''</td>\n",
       "      <td>18235</td>\n",
       "    </tr>\n",
       "    <tr>\n",
       "      <th>3</th>\n",
       "      <td>! Alas</td>\n",
       "      <td>179257</td>\n",
       "    </tr>\n",
       "    <tr>\n",
       "      <th>4</th>\n",
       "      <td>! Brilliant</td>\n",
       "      <td>22936</td>\n",
       "    </tr>\n",
       "  </tbody>\n",
       "</table>\n",
       "</div>"
      ],
      "text/plain": [
       "        phrase  phrase ids\n",
       "0            !           0\n",
       "1          ! '       22935\n",
       "2         ! ''       18235\n",
       "3       ! Alas      179257\n",
       "4  ! Brilliant       22936"
      ]
     },
     "execution_count": 44,
     "metadata": {},
     "output_type": "execute_result"
    }
   ],
   "source": [
    "dictionary.head()"
   ]
  },
  {
   "cell_type": "code",
   "execution_count": 45,
   "metadata": {
    "execution": {
     "iopub.execute_input": "2021-06-14T19:00:49.295694Z",
     "iopub.status.busy": "2021-06-14T19:00:49.295694Z",
     "iopub.status.idle": "2021-06-14T19:00:49.307868Z",
     "shell.execute_reply": "2021-06-14T19:00:49.306694Z",
     "shell.execute_reply.started": "2021-06-14T19:00:49.295694Z"
    },
    "tags": []
   },
   "outputs": [
    {
     "data": {
      "text/plain": [
       "(239232, 2)"
      ]
     },
     "execution_count": 45,
     "metadata": {},
     "output_type": "execute_result"
    }
   ],
   "source": [
    "dictionary.shape"
   ]
  },
  {
   "cell_type": "markdown",
   "metadata": {},
   "source": [
    "## Loading labels"
   ]
  },
  {
   "cell_type": "code",
   "execution_count": 13,
   "metadata": {
    "execution": {
     "iopub.execute_input": "2021-06-14T18:50:44.180871Z",
     "iopub.status.busy": "2021-06-14T18:50:44.180174Z",
     "iopub.status.idle": "2021-06-14T18:50:44.343644Z",
     "shell.execute_reply": "2021-06-14T18:50:44.342339Z",
     "shell.execute_reply.started": "2021-06-14T18:50:44.180871Z"
    },
    "tags": []
   },
   "outputs": [],
   "source": [
    "label_mapping = pd.read_csv(\"data/stanfordSentimentTreebank/sentiment_labels.txt\",\n",
    "                            sep=\"|\")"
   ]
  },
  {
   "cell_type": "code",
   "execution_count": 38,
   "metadata": {
    "execution": {
     "iopub.execute_input": "2021-06-14T18:58:50.358556Z",
     "iopub.status.busy": "2021-06-14T18:58:50.358556Z",
     "iopub.status.idle": "2021-06-14T18:58:50.388560Z",
     "shell.execute_reply": "2021-06-14T18:58:50.386560Z",
     "shell.execute_reply.started": "2021-06-14T18:58:50.358556Z"
    },
    "tags": []
   },
   "outputs": [
    {
     "data": {
      "text/html": [
       "<div>\n",
       "<style scoped>\n",
       "    .dataframe tbody tr th:only-of-type {\n",
       "        vertical-align: middle;\n",
       "    }\n",
       "\n",
       "    .dataframe tbody tr th {\n",
       "        vertical-align: top;\n",
       "    }\n",
       "\n",
       "    .dataframe thead th {\n",
       "        text-align: right;\n",
       "    }\n",
       "</style>\n",
       "<table border=\"1\" class=\"dataframe\">\n",
       "  <thead>\n",
       "    <tr style=\"text-align: right;\">\n",
       "      <th></th>\n",
       "      <th>phrase ids</th>\n",
       "      <th>sentiment values</th>\n",
       "      <th>sentiment labels</th>\n",
       "    </tr>\n",
       "  </thead>\n",
       "  <tbody>\n",
       "    <tr>\n",
       "      <th>0</th>\n",
       "      <td>0</td>\n",
       "      <td>0.50000</td>\n",
       "      <td>2</td>\n",
       "    </tr>\n",
       "    <tr>\n",
       "      <th>1</th>\n",
       "      <td>1</td>\n",
       "      <td>0.50000</td>\n",
       "      <td>2</td>\n",
       "    </tr>\n",
       "    <tr>\n",
       "      <th>2</th>\n",
       "      <td>2</td>\n",
       "      <td>0.44444</td>\n",
       "      <td>2</td>\n",
       "    </tr>\n",
       "    <tr>\n",
       "      <th>3</th>\n",
       "      <td>3</td>\n",
       "      <td>0.50000</td>\n",
       "      <td>2</td>\n",
       "    </tr>\n",
       "    <tr>\n",
       "      <th>4</th>\n",
       "      <td>4</td>\n",
       "      <td>0.42708</td>\n",
       "      <td>2</td>\n",
       "    </tr>\n",
       "  </tbody>\n",
       "</table>\n",
       "</div>"
      ],
      "text/plain": [
       "   phrase ids  sentiment values  sentiment labels\n",
       "0           0           0.50000                 2\n",
       "1           1           0.50000                 2\n",
       "2           2           0.44444                 2\n",
       "3           3           0.50000                 2\n",
       "4           4           0.42708                 2"
      ]
     },
     "execution_count": 38,
     "metadata": {},
     "output_type": "execute_result"
    }
   ],
   "source": [
    "label_mapping.head()"
   ]
  },
  {
   "cell_type": "code",
   "execution_count": 39,
   "metadata": {
    "execution": {
     "iopub.execute_input": "2021-06-14T18:58:57.534871Z",
     "iopub.status.busy": "2021-06-14T18:58:57.534871Z",
     "iopub.status.idle": "2021-06-14T18:58:57.550870Z",
     "shell.execute_reply": "2021-06-14T18:58:57.549876Z",
     "shell.execute_reply.started": "2021-06-14T18:58:57.534871Z"
    },
    "tags": []
   },
   "outputs": [
    {
     "data": {
      "text/plain": [
       "(239232, 3)"
      ]
     },
     "execution_count": 39,
     "metadata": {},
     "output_type": "execute_result"
    }
   ],
   "source": [
    "label_mapping.shape"
   ]
  },
  {
   "cell_type": "code",
   "execution_count": 29,
   "metadata": {
    "execution": {
     "iopub.execute_input": "2021-06-14T18:56:36.913242Z",
     "iopub.status.busy": "2021-06-14T18:56:36.913242Z",
     "iopub.status.idle": "2021-06-14T18:56:37.133206Z",
     "shell.execute_reply": "2021-06-14T18:56:37.132522Z",
     "shell.execute_reply.started": "2021-06-14T18:56:36.913242Z"
    },
    "tags": []
   },
   "outputs": [],
   "source": [
    "def discretize_label(label):\n",
    "    if label <= 0.2: return 0\n",
    "    if label <= 0.4: return 1\n",
    "    if label <= 0.6: return 2\n",
    "    if label <= 0.8: return 3\n",
    "    return 4\n",
    "\n",
    "\n",
    "label_mapping['sentiment labels'] = label_mapping['sentiment values'].apply(discretize_label)"
   ]
  },
  {
   "cell_type": "code",
   "execution_count": 30,
   "metadata": {
    "execution": {
     "iopub.execute_input": "2021-06-14T18:56:37.151206Z",
     "iopub.status.busy": "2021-06-14T18:56:37.151206Z",
     "iopub.status.idle": "2021-06-14T18:56:37.180211Z",
     "shell.execute_reply": "2021-06-14T18:56:37.179208Z",
     "shell.execute_reply.started": "2021-06-14T18:56:37.151206Z"
    },
    "tags": []
   },
   "outputs": [
    {
     "data": {
      "text/html": [
       "<div>\n",
       "<style scoped>\n",
       "    .dataframe tbody tr th:only-of-type {\n",
       "        vertical-align: middle;\n",
       "    }\n",
       "\n",
       "    .dataframe tbody tr th {\n",
       "        vertical-align: top;\n",
       "    }\n",
       "\n",
       "    .dataframe thead th {\n",
       "        text-align: right;\n",
       "    }\n",
       "</style>\n",
       "<table border=\"1\" class=\"dataframe\">\n",
       "  <thead>\n",
       "    <tr style=\"text-align: right;\">\n",
       "      <th></th>\n",
       "      <th>phrase ids</th>\n",
       "      <th>sentiment values</th>\n",
       "      <th>sentiment labels</th>\n",
       "    </tr>\n",
       "  </thead>\n",
       "  <tbody>\n",
       "    <tr>\n",
       "      <th>0</th>\n",
       "      <td>0</td>\n",
       "      <td>0.50000</td>\n",
       "      <td>2</td>\n",
       "    </tr>\n",
       "    <tr>\n",
       "      <th>1</th>\n",
       "      <td>1</td>\n",
       "      <td>0.50000</td>\n",
       "      <td>2</td>\n",
       "    </tr>\n",
       "    <tr>\n",
       "      <th>2</th>\n",
       "      <td>2</td>\n",
       "      <td>0.44444</td>\n",
       "      <td>2</td>\n",
       "    </tr>\n",
       "    <tr>\n",
       "      <th>3</th>\n",
       "      <td>3</td>\n",
       "      <td>0.50000</td>\n",
       "      <td>2</td>\n",
       "    </tr>\n",
       "    <tr>\n",
       "      <th>4</th>\n",
       "      <td>4</td>\n",
       "      <td>0.42708</td>\n",
       "      <td>2</td>\n",
       "    </tr>\n",
       "  </tbody>\n",
       "</table>\n",
       "</div>"
      ],
      "text/plain": [
       "   phrase ids  sentiment values  sentiment labels\n",
       "0           0           0.50000                 2\n",
       "1           1           0.50000                 2\n",
       "2           2           0.44444                 2\n",
       "3           3           0.50000                 2\n",
       "4           4           0.42708                 2"
      ]
     },
     "execution_count": 30,
     "metadata": {},
     "output_type": "execute_result"
    }
   ],
   "source": [
    "label_mapping.head()"
   ]
  },
  {
   "cell_type": "code",
   "execution_count": 40,
   "metadata": {
    "execution": {
     "iopub.execute_input": "2021-06-14T18:59:10.005224Z",
     "iopub.status.busy": "2021-06-14T18:59:10.005224Z",
     "iopub.status.idle": "2021-06-14T18:59:10.020222Z",
     "shell.execute_reply": "2021-06-14T18:59:10.018484Z",
     "shell.execute_reply.started": "2021-06-14T18:59:10.005224Z"
    },
    "tags": []
   },
   "outputs": [],
   "source": [
    "assert label_mapping.shape[0] == dictionary.shape[0]"
   ]
  },
  {
   "cell_type": "markdown",
   "metadata": {},
   "source": [
    "## Loading sentences"
   ]
  },
  {
   "cell_type": "code",
   "execution_count": 60,
   "metadata": {
    "execution": {
     "iopub.execute_input": "2021-06-14T19:31:54.544574Z",
     "iopub.status.busy": "2021-06-14T19:31:54.544574Z",
     "iopub.status.idle": "2021-06-14T19:31:54.599544Z",
     "shell.execute_reply": "2021-06-14T19:31:54.597538Z",
     "shell.execute_reply.started": "2021-06-14T19:31:54.544574Z"
    },
    "tags": []
   },
   "outputs": [],
   "source": [
    "sentences = pd.read_csv(\"data/stanfordSentimentTreebank/datasetSentences.txt\", sep=\"\\t\", \n",
    "                        names=['sentence ids', 'sentence'], skiprows=1)"
   ]
  },
  {
   "cell_type": "code",
   "execution_count": 61,
   "metadata": {
    "execution": {
     "iopub.execute_input": "2021-06-14T19:31:54.912448Z",
     "iopub.status.busy": "2021-06-14T19:31:54.912448Z",
     "iopub.status.idle": "2021-06-14T19:31:54.939883Z",
     "shell.execute_reply": "2021-06-14T19:31:54.938511Z",
     "shell.execute_reply.started": "2021-06-14T19:31:54.912448Z"
    },
    "tags": []
   },
   "outputs": [
    {
     "data": {
      "text/html": [
       "<div>\n",
       "<style scoped>\n",
       "    .dataframe tbody tr th:only-of-type {\n",
       "        vertical-align: middle;\n",
       "    }\n",
       "\n",
       "    .dataframe tbody tr th {\n",
       "        vertical-align: top;\n",
       "    }\n",
       "\n",
       "    .dataframe thead th {\n",
       "        text-align: right;\n",
       "    }\n",
       "</style>\n",
       "<table border=\"1\" class=\"dataframe\">\n",
       "  <thead>\n",
       "    <tr style=\"text-align: right;\">\n",
       "      <th></th>\n",
       "      <th>sentence ids</th>\n",
       "      <th>sentence</th>\n",
       "    </tr>\n",
       "  </thead>\n",
       "  <tbody>\n",
       "    <tr>\n",
       "      <th>0</th>\n",
       "      <td>1</td>\n",
       "      <td>The Rock is destined to be the 21st Century 's...</td>\n",
       "    </tr>\n",
       "    <tr>\n",
       "      <th>1</th>\n",
       "      <td>2</td>\n",
       "      <td>The gorgeously elaborate continuation of `` Th...</td>\n",
       "    </tr>\n",
       "    <tr>\n",
       "      <th>2</th>\n",
       "      <td>3</td>\n",
       "      <td>Effective but too-tepid biopic</td>\n",
       "    </tr>\n",
       "    <tr>\n",
       "      <th>3</th>\n",
       "      <td>4</td>\n",
       "      <td>If you sometimes like to go to the movies to h...</td>\n",
       "    </tr>\n",
       "    <tr>\n",
       "      <th>4</th>\n",
       "      <td>5</td>\n",
       "      <td>Emerges as something rare , an issue movie tha...</td>\n",
       "    </tr>\n",
       "    <tr>\n",
       "      <th>...</th>\n",
       "      <td>...</td>\n",
       "      <td>...</td>\n",
       "    </tr>\n",
       "    <tr>\n",
       "      <th>11850</th>\n",
       "      <td>11851</td>\n",
       "      <td>A real snooze .</td>\n",
       "    </tr>\n",
       "    <tr>\n",
       "      <th>11851</th>\n",
       "      <td>11852</td>\n",
       "      <td>No surprises .</td>\n",
       "    </tr>\n",
       "    <tr>\n",
       "      <th>11852</th>\n",
       "      <td>11853</td>\n",
       "      <td>We 've seen the hippie-turned-yuppie plot befo...</td>\n",
       "    </tr>\n",
       "    <tr>\n",
       "      <th>11853</th>\n",
       "      <td>11854</td>\n",
       "      <td>Her fans walked out muttering words like `` ho...</td>\n",
       "    </tr>\n",
       "    <tr>\n",
       "      <th>11854</th>\n",
       "      <td>11855</td>\n",
       "      <td>In this case zero .</td>\n",
       "    </tr>\n",
       "  </tbody>\n",
       "</table>\n",
       "<p>11855 rows × 2 columns</p>\n",
       "</div>"
      ],
      "text/plain": [
       "       sentence ids                                           sentence\n",
       "0                 1  The Rock is destined to be the 21st Century 's...\n",
       "1                 2  The gorgeously elaborate continuation of `` Th...\n",
       "2                 3                     Effective but too-tepid biopic\n",
       "3                 4  If you sometimes like to go to the movies to h...\n",
       "4                 5  Emerges as something rare , an issue movie tha...\n",
       "...             ...                                                ...\n",
       "11850         11851                                    A real snooze .\n",
       "11851         11852                                     No surprises .\n",
       "11852         11853  We 've seen the hippie-turned-yuppie plot befo...\n",
       "11853         11854  Her fans walked out muttering words like `` ho...\n",
       "11854         11855                                In this case zero .\n",
       "\n",
       "[11855 rows x 2 columns]"
      ]
     },
     "execution_count": 61,
     "metadata": {},
     "output_type": "execute_result"
    }
   ],
   "source": [
    "sentences"
   ]
  },
  {
   "cell_type": "markdown",
   "metadata": {},
   "source": [
    "# Merging the dataframes"
   ]
  },
  {
   "cell_type": "code",
   "execution_count": 62,
   "metadata": {
    "execution": {
     "iopub.execute_input": "2021-06-14T19:31:58.935209Z",
     "iopub.status.busy": "2021-06-14T19:31:58.935209Z",
     "iopub.status.idle": "2021-06-14T19:31:59.164862Z",
     "shell.execute_reply": "2021-06-14T19:31:59.162856Z",
     "shell.execute_reply.started": "2021-06-14T19:31:58.935209Z"
    },
    "tags": []
   },
   "outputs": [],
   "source": [
    "sentence_phrase_merge = pd.merge(sentences, dictionary, left_on='sentence', right_on='phrase')"
   ]
  },
  {
   "cell_type": "code",
   "execution_count": 63,
   "metadata": {
    "execution": {
     "iopub.execute_input": "2021-06-14T19:31:59.897035Z",
     "iopub.status.busy": "2021-06-14T19:31:59.896107Z",
     "iopub.status.idle": "2021-06-14T19:31:59.969997Z",
     "shell.execute_reply": "2021-06-14T19:31:59.969000Z",
     "shell.execute_reply.started": "2021-06-14T19:31:59.897035Z"
    },
    "tags": []
   },
   "outputs": [],
   "source": [
    "df = pd.merge(sentence_phrase_merge, label_mapping, on='phrase ids')"
   ]
  },
  {
   "cell_type": "code",
   "execution_count": 64,
   "metadata": {
    "execution": {
     "iopub.execute_input": "2021-06-14T19:32:00.470809Z",
     "iopub.status.busy": "2021-06-14T19:32:00.470809Z",
     "iopub.status.idle": "2021-06-14T19:32:00.485807Z",
     "shell.execute_reply": "2021-06-14T19:32:00.484386Z",
     "shell.execute_reply.started": "2021-06-14T19:32:00.470809Z"
    },
    "tags": []
   },
   "outputs": [],
   "source": [
    "df = df[['sentence', 'sentiment labels']]"
   ]
  },
  {
   "cell_type": "code",
   "execution_count": 65,
   "metadata": {
    "execution": {
     "iopub.execute_input": "2021-06-14T19:32:07.889699Z",
     "iopub.status.busy": "2021-06-14T19:32:07.889699Z",
     "iopub.status.idle": "2021-06-14T19:32:07.914697Z",
     "shell.execute_reply": "2021-06-14T19:32:07.913808Z",
     "shell.execute_reply.started": "2021-06-14T19:32:07.889699Z"
    },
    "tags": []
   },
   "outputs": [
    {
     "data": {
      "text/html": [
       "<div>\n",
       "<style scoped>\n",
       "    .dataframe tbody tr th:only-of-type {\n",
       "        vertical-align: middle;\n",
       "    }\n",
       "\n",
       "    .dataframe tbody tr th {\n",
       "        vertical-align: top;\n",
       "    }\n",
       "\n",
       "    .dataframe thead th {\n",
       "        text-align: right;\n",
       "    }\n",
       "</style>\n",
       "<table border=\"1\" class=\"dataframe\">\n",
       "  <thead>\n",
       "    <tr style=\"text-align: right;\">\n",
       "      <th></th>\n",
       "      <th>sentence</th>\n",
       "      <th>sentiment labels</th>\n",
       "    </tr>\n",
       "  </thead>\n",
       "  <tbody>\n",
       "    <tr>\n",
       "      <th>0</th>\n",
       "      <td>The Rock is destined to be the 21st Century 's...</td>\n",
       "      <td>3</td>\n",
       "    </tr>\n",
       "    <tr>\n",
       "      <th>1</th>\n",
       "      <td>The gorgeously elaborate continuation of `` Th...</td>\n",
       "      <td>4</td>\n",
       "    </tr>\n",
       "    <tr>\n",
       "      <th>2</th>\n",
       "      <td>Effective but too-tepid biopic</td>\n",
       "      <td>2</td>\n",
       "    </tr>\n",
       "    <tr>\n",
       "      <th>3</th>\n",
       "      <td>If you sometimes like to go to the movies to h...</td>\n",
       "      <td>3</td>\n",
       "    </tr>\n",
       "    <tr>\n",
       "      <th>4</th>\n",
       "      <td>Emerges as something rare , an issue movie tha...</td>\n",
       "      <td>4</td>\n",
       "    </tr>\n",
       "  </tbody>\n",
       "</table>\n",
       "</div>"
      ],
      "text/plain": [
       "                                            sentence  sentiment labels\n",
       "0  The Rock is destined to be the 21st Century 's...                 3\n",
       "1  The gorgeously elaborate continuation of `` Th...                 4\n",
       "2                     Effective but too-tepid biopic                 2\n",
       "3  If you sometimes like to go to the movies to h...                 3\n",
       "4  Emerges as something rare , an issue movie tha...                 4"
      ]
     },
     "execution_count": 65,
     "metadata": {},
     "output_type": "execute_result"
    }
   ],
   "source": [
    "df.head()"
   ]
  },
  {
   "cell_type": "code",
   "execution_count": 66,
   "metadata": {
    "execution": {
     "iopub.execute_input": "2021-06-14T19:32:14.953774Z",
     "iopub.status.busy": "2021-06-14T19:32:14.953774Z",
     "iopub.status.idle": "2021-06-14T19:32:15.018777Z",
     "shell.execute_reply": "2021-06-14T19:32:15.017777Z",
     "shell.execute_reply.started": "2021-06-14T19:32:14.953774Z"
    },
    "tags": []
   },
   "outputs": [],
   "source": [
    "df['sentence_clean'] = df['sentence'].str.replace(r\"\\s('s|'d|'re|'ll|'m|'ve|n't)\\b\", lambda m: m.group(1))"
   ]
  },
  {
   "cell_type": "code",
   "execution_count": 68,
   "metadata": {
    "execution": {
     "iopub.execute_input": "2021-06-14T19:34:56.147473Z",
     "iopub.status.busy": "2021-06-14T19:34:56.146995Z",
     "iopub.status.idle": "2021-06-14T19:34:56.173475Z",
     "shell.execute_reply": "2021-06-14T19:34:56.172475Z",
     "shell.execute_reply.started": "2021-06-14T19:34:56.147473Z"
    },
    "tags": []
   },
   "outputs": [
    {
     "data": {
      "text/html": [
       "<div>\n",
       "<style scoped>\n",
       "    .dataframe tbody tr th:only-of-type {\n",
       "        vertical-align: middle;\n",
       "    }\n",
       "\n",
       "    .dataframe tbody tr th {\n",
       "        vertical-align: top;\n",
       "    }\n",
       "\n",
       "    .dataframe thead th {\n",
       "        text-align: right;\n",
       "    }\n",
       "</style>\n",
       "<table border=\"1\" class=\"dataframe\">\n",
       "  <thead>\n",
       "    <tr style=\"text-align: right;\">\n",
       "      <th></th>\n",
       "      <th>sentence</th>\n",
       "      <th>sentiment labels</th>\n",
       "      <th>sentence_clean</th>\n",
       "    </tr>\n",
       "  </thead>\n",
       "  <tbody>\n",
       "    <tr>\n",
       "      <th>0</th>\n",
       "      <td>The Rock is destined to be the 21st Century 's...</td>\n",
       "      <td>3</td>\n",
       "      <td>The Rock is destined to be the 21st Century's ...</td>\n",
       "    </tr>\n",
       "    <tr>\n",
       "      <th>1</th>\n",
       "      <td>The gorgeously elaborate continuation of `` Th...</td>\n",
       "      <td>4</td>\n",
       "      <td>The gorgeously elaborate continuation of `` Th...</td>\n",
       "    </tr>\n",
       "    <tr>\n",
       "      <th>2</th>\n",
       "      <td>Effective but too-tepid biopic</td>\n",
       "      <td>2</td>\n",
       "      <td>Effective but too-tepid biopic</td>\n",
       "    </tr>\n",
       "    <tr>\n",
       "      <th>3</th>\n",
       "      <td>If you sometimes like to go to the movies to h...</td>\n",
       "      <td>3</td>\n",
       "      <td>If you sometimes like to go to the movies to h...</td>\n",
       "    </tr>\n",
       "    <tr>\n",
       "      <th>4</th>\n",
       "      <td>Emerges as something rare , an issue movie tha...</td>\n",
       "      <td>4</td>\n",
       "      <td>Emerges as something rare , an issue movie tha...</td>\n",
       "    </tr>\n",
       "    <tr>\n",
       "      <th>...</th>\n",
       "      <td>...</td>\n",
       "      <td>...</td>\n",
       "      <td>...</td>\n",
       "    </tr>\n",
       "    <tr>\n",
       "      <th>11281</th>\n",
       "      <td>A real snooze .</td>\n",
       "      <td>0</td>\n",
       "      <td>A real snooze .</td>\n",
       "    </tr>\n",
       "    <tr>\n",
       "      <th>11282</th>\n",
       "      <td>No surprises .</td>\n",
       "      <td>1</td>\n",
       "      <td>No surprises .</td>\n",
       "    </tr>\n",
       "    <tr>\n",
       "      <th>11283</th>\n",
       "      <td>We 've seen the hippie-turned-yuppie plot befo...</td>\n",
       "      <td>3</td>\n",
       "      <td>We've seen the hippie-turned-yuppie plot befor...</td>\n",
       "    </tr>\n",
       "    <tr>\n",
       "      <th>11284</th>\n",
       "      <td>Her fans walked out muttering words like `` ho...</td>\n",
       "      <td>0</td>\n",
       "      <td>Her fans walked out muttering words like `` ho...</td>\n",
       "    </tr>\n",
       "    <tr>\n",
       "      <th>11285</th>\n",
       "      <td>In this case zero .</td>\n",
       "      <td>1</td>\n",
       "      <td>In this case zero .</td>\n",
       "    </tr>\n",
       "  </tbody>\n",
       "</table>\n",
       "<p>11286 rows × 3 columns</p>\n",
       "</div>"
      ],
      "text/plain": [
       "                                                sentence  sentiment labels  \\\n",
       "0      The Rock is destined to be the 21st Century 's...                 3   \n",
       "1      The gorgeously elaborate continuation of `` Th...                 4   \n",
       "2                         Effective but too-tepid biopic                 2   \n",
       "3      If you sometimes like to go to the movies to h...                 3   \n",
       "4      Emerges as something rare , an issue movie tha...                 4   \n",
       "...                                                  ...               ...   \n",
       "11281                                    A real snooze .                 0   \n",
       "11282                                     No surprises .                 1   \n",
       "11283  We 've seen the hippie-turned-yuppie plot befo...                 3   \n",
       "11284  Her fans walked out muttering words like `` ho...                 0   \n",
       "11285                                In this case zero .                 1   \n",
       "\n",
       "                                          sentence_clean  \n",
       "0      The Rock is destined to be the 21st Century's ...  \n",
       "1      The gorgeously elaborate continuation of `` Th...  \n",
       "2                         Effective but too-tepid biopic  \n",
       "3      If you sometimes like to go to the movies to h...  \n",
       "4      Emerges as something rare , an issue movie tha...  \n",
       "...                                                  ...  \n",
       "11281                                    A real snooze .  \n",
       "11282                                     No surprises .  \n",
       "11283  We've seen the hippie-turned-yuppie plot befor...  \n",
       "11284  Her fans walked out muttering words like `` ho...  \n",
       "11285                                In this case zero .  \n",
       "\n",
       "[11286 rows x 3 columns]"
      ]
     },
     "execution_count": 68,
     "metadata": {},
     "output_type": "execute_result"
    }
   ],
   "source": [
    "df"
   ]
  },
  {
   "cell_type": "code",
   "execution_count": 69,
   "metadata": {
    "execution": {
     "iopub.execute_input": "2021-06-14T19:35:00.635500Z",
     "iopub.status.busy": "2021-06-14T19:35:00.635500Z",
     "iopub.status.idle": "2021-06-14T19:35:00.755575Z",
     "shell.execute_reply": "2021-06-14T19:35:00.754503Z",
     "shell.execute_reply.started": "2021-06-14T19:35:00.635500Z"
    }
   },
   "outputs": [],
   "source": [
    "df.to_csv(\"sst_dataset_parsed.csv\")"
   ]
  },
  {
   "cell_type": "markdown",
   "metadata": {},
   "source": [
    "-----"
   ]
  },
  {
   "cell_type": "code",
   "execution_count": 1,
   "metadata": {
    "execution": {
     "iopub.execute_input": "2021-06-16T17:48:27.857890Z",
     "iopub.status.busy": "2021-06-16T17:48:27.857890Z",
     "iopub.status.idle": "2021-06-16T17:48:28.293771Z",
     "shell.execute_reply": "2021-06-16T17:48:28.292943Z",
     "shell.execute_reply.started": "2021-06-16T17:48:27.857890Z"
    },
    "tags": []
   },
   "outputs": [],
   "source": [
    "from data.sst_dataset import sentences_to_dataframe"
   ]
  },
  {
   "cell_type": "code",
   "execution_count": 2,
   "metadata": {
    "execution": {
     "iopub.execute_input": "2021-06-16T17:48:28.294770Z",
     "iopub.status.busy": "2021-06-16T17:48:28.294770Z",
     "iopub.status.idle": "2021-06-16T17:48:29.038729Z",
     "shell.execute_reply": "2021-06-16T17:48:29.038729Z",
     "shell.execute_reply.started": "2021-06-16T17:48:28.294770Z"
    },
    "tags": []
   },
   "outputs": [
    {
     "name": "stderr",
     "output_type": "stream",
     "text": [
      "E:\\code\\my-code\\END2\\S7\\data\\sst_dataset.py:34: FutureWarning: The default value of regex will change from True to False in a future version.\n",
      "  df['sentence_clean'] = df['sentence'].str.replace(r\"\\s('s|'d|'re|'ll|'m|'ve|n't)\\b\", lambda m: m.group(1))\n"
     ]
    }
   ],
   "source": [
    "train, test = sentences_to_dataframe('./data/stanfordSentimentTreebank')"
   ]
  },
  {
   "cell_type": "code",
   "execution_count": 3,
   "metadata": {
    "execution": {
     "iopub.execute_input": "2021-06-16T17:48:43.651324Z",
     "iopub.status.busy": "2021-06-16T17:48:43.651324Z",
     "iopub.status.idle": "2021-06-16T17:48:43.666327Z",
     "shell.execute_reply": "2021-06-16T17:48:43.665329Z",
     "shell.execute_reply.started": "2021-06-16T17:48:43.651324Z"
    }
   },
   "outputs": [
    {
     "data": {
      "text/plain": [
       "(9029, 3)"
      ]
     },
     "execution_count": 3,
     "metadata": {},
     "output_type": "execute_result"
    }
   ],
   "source": [
    "train.shape"
   ]
  },
  {
   "cell_type": "code",
   "execution_count": 4,
   "metadata": {
    "execution": {
     "iopub.execute_input": "2021-06-16T17:48:47.764018Z",
     "iopub.status.busy": "2021-06-16T17:48:47.764018Z",
     "iopub.status.idle": "2021-06-16T17:48:47.780018Z",
     "shell.execute_reply": "2021-06-16T17:48:47.779015Z",
     "shell.execute_reply.started": "2021-06-16T17:48:47.764018Z"
    },
    "tags": []
   },
   "outputs": [
    {
     "data": {
      "text/plain": [
       "(2257, 3)"
      ]
     },
     "execution_count": 4,
     "metadata": {},
     "output_type": "execute_result"
    }
   ],
   "source": [
    "test.shape"
   ]
  }
 ],
 "metadata": {
  "colab": {
   "authorship_tag": "ABX9TyMmtzKQ/KaSzlTAt0Ol3nat",
   "include_colab_link": true,
   "name": "Data Augmentation.ipynb",
   "provenance": []
  },
  "kernelspec": {
   "display_name": "Python 3",
   "language": "python",
   "name": "python3"
  },
  "language_info": {
   "codemirror_mode": {
    "name": "ipython",
    "version": 3
   },
   "file_extension": ".py",
   "mimetype": "text/x-python",
   "name": "python",
   "nbconvert_exporter": "python",
   "pygments_lexer": "ipython3",
   "version": "3.7.6"
  }
 },
 "nbformat": 4,
 "nbformat_minor": 4
}
