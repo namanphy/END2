{
  "nbformat": 4,
  "nbformat_minor": 0,
  "metadata": {
    "kernelspec": {
      "display_name": "Python 3",
      "language": "python",
      "name": "python3"
    },
    "language_info": {
      "codemirror_mode": {
        "name": "ipython",
        "version": 3
      },
      "file_extension": ".py",
      "mimetype": "text/x-python",
      "name": "python",
      "nbconvert_exporter": "python",
      "pygments_lexer": "ipython3",
      "version": "3.8.5"
    },
    "colab": {
      "name": "S8 - Learning Phrase Representations using RNN Enc-Dec for Statistical Machine Translation.ipynb",
      "provenance": [],
      "collapsed_sections": [],
      "include_colab_link": true
    },
    "accelerator": "GPU"
  },
  "cells": [
    {
      "cell_type": "markdown",
      "metadata": {
        "id": "view-in-github",
        "colab_type": "text"
      },
      "source": [
        "<a href=\"https://colab.research.google.com/github/namanphy/END2/blob/main/S8/S8_Learning_Phrase_Representations_using_RNN_Enc_Dec_for_Statistical_Machine_Translation.ipynb\" target=\"_parent\"><img src=\"https://colab.research.google.com/assets/colab-badge.svg\" alt=\"Open In Colab\"/></a>"
      ]
    },
    {
      "cell_type": "markdown",
      "metadata": {
        "id": "2r772mMEBDI1"
      },
      "source": [
        "# Learning Phrase Representations using RNN Encoder-Decoder for Statistical Machine Translation\n",
        "\n",
        "In this notebook we'll be implementing the model from [Learning Phrase Representations using RNN Encoder-Decoder for Statistical Machine Translation](https://arxiv.org/abs/1406.1078). This model will achieve improved test perplexity whilst only using a single layer RNN in both the encoder and the decoder.\n",
        "\n",
        "## Introduction\n",
        "\n",
        "Let's remind ourselves of the general encoder-decoder model.\n",
        "\n",
        "![img](assets/seq2seq1.png)\n",
        "\n",
        "We use our encoder (green) over the embedded source sequence (yellow) to create a context vector (red). We then use that context vector with the decoder (blue) and a linear layer (purple) to generate the target sentence.\n",
        "\n",
        "## Preparing Data"
      ]
    },
    {
      "cell_type": "code",
      "metadata": {
        "colab": {
          "base_uri": "https://localhost:8080/"
        },
        "id": "mRHvSYHgSLZk",
        "outputId": "7bf5d313-fd75-4288-def4-2f54a5b9838f"
      },
      "source": [
        "%%bash\n",
        "python -m spacy download en --quiet\n",
        "python -m spacy download de --quiet"
      ],
      "execution_count": 1,
      "outputs": [
        {
          "output_type": "stream",
          "text": [
            "\u001b[38;5;2m✔ Download and installation successful\u001b[0m\n",
            "You can now load the model via spacy.load('en_core_web_sm')\n",
            "\u001b[38;5;2m✔ Linking successful\u001b[0m\n",
            "/usr/local/lib/python3.7/dist-packages/en_core_web_sm -->\n",
            "/usr/local/lib/python3.7/dist-packages/spacy/data/en\n",
            "You can now load the model via spacy.load('en')\n",
            "\u001b[38;5;2m✔ Download and installation successful\u001b[0m\n",
            "You can now load the model via spacy.load('de_core_news_sm')\n",
            "\u001b[38;5;2m✔ Linking successful\u001b[0m\n",
            "/usr/local/lib/python3.7/dist-packages/de_core_news_sm -->\n",
            "/usr/local/lib/python3.7/dist-packages/spacy/data/de\n",
            "You can now load the model via spacy.load('de')\n"
          ],
          "name": "stdout"
        }
      ]
    },
    {
      "cell_type": "code",
      "metadata": {
        "id": "2TlpAqv7BDI6"
      },
      "source": [
        "import torch\n",
        "import torch.nn as nn\n",
        "import torch.optim as optim\n",
        "\n",
        "# from torchtext.legacy.datasets import Multi30k\n",
        "# from torchtext.legacy.data import Field, BucketIterator\n",
        "\n",
        "# import spacy\n",
        "import numpy as np\n",
        "\n",
        "import random\n",
        "import math\n",
        "import time"
      ],
      "execution_count": 2,
      "outputs": []
    },
    {
      "cell_type": "code",
      "metadata": {
        "id": "IggCfrXvQj9c"
      },
      "source": [
        "from torchtext.data.utils import get_tokenizer\n",
        "from torchtext.vocab import build_vocab_from_iterator\n",
        "from torchtext.datasets import Multi30k\n",
        "from typing import Iterable, List"
      ],
      "execution_count": 3,
      "outputs": []
    },
    {
      "cell_type": "markdown",
      "metadata": {
        "id": "_fW9nL0vBDI7"
      },
      "source": [
        "Then set a random seed for deterministic results/reproducability."
      ]
    },
    {
      "cell_type": "code",
      "metadata": {
        "id": "A34O91gMBDI8"
      },
      "source": [
        "SEED = 1234\n",
        "\n",
        "random.seed(SEED)\n",
        "np.random.seed(SEED)\n",
        "torch.manual_seed(SEED)\n",
        "torch.cuda.manual_seed(SEED)\n",
        "torch.backends.cudnn.deterministic = True"
      ],
      "execution_count": 4,
      "outputs": []
    },
    {
      "cell_type": "code",
      "metadata": {
        "id": "WWjiLfivR9Di"
      },
      "source": [
        "SRC_LANGUAGE = 'de'\n",
        "TGT_LANGUAGE = 'en'\n",
        "\n",
        "# Place-holders\n",
        "token_transform = {}\n",
        "vocab_transform = {}"
      ],
      "execution_count": 5,
      "outputs": []
    },
    {
      "cell_type": "code",
      "metadata": {
        "id": "DU1ERjeSSCWL"
      },
      "source": [
        "# Create source and target language tokenizer. Make sure to install the dependencies.\n",
        "\n",
        "token_transform[SRC_LANGUAGE] = get_tokenizer('spacy', language='de')\n",
        "token_transform[TGT_LANGUAGE] = get_tokenizer('spacy', language='en')"
      ],
      "execution_count": 6,
      "outputs": []
    },
    {
      "cell_type": "code",
      "metadata": {
        "id": "OY4BxabWSEVf"
      },
      "source": [
        "# YIELD FUNCTION\n",
        "\n",
        "# helper function to yield list of tokens\n",
        "def yield_tokens(data_iter: Iterable, language: str) -> List[str]:\n",
        "    language_index = {SRC_LANGUAGE: 0, TGT_LANGUAGE: 1}\n",
        "\n",
        "    for data_sample in data_iter:\n",
        "        yield token_transform[language](data_sample[language_index[language]])"
      ],
      "execution_count": 7,
      "outputs": []
    },
    {
      "cell_type": "code",
      "metadata": {
        "id": "kq9uUgPcSfly"
      },
      "source": [
        "# Define special symbols and indices\n",
        "UNK_IDX, PAD_IDX, BOS_IDX, EOS_IDX = 0, 1, 2, 3\n",
        "# Make sure the tokens are in order of their indices to properly insert them in vocab\n",
        "special_symbols = ['<unk>', '<pad>', '<bos>', '<eos>']"
      ],
      "execution_count": 8,
      "outputs": []
    },
    {
      "cell_type": "code",
      "metadata": {
        "colab": {
          "base_uri": "https://localhost:8080/"
        },
        "id": "BLvVwBfrSpXC",
        "outputId": "7df9827d-eb58-4ba1-efc5-3502548c57c6"
      },
      "source": [
        "for ln in [SRC_LANGUAGE, TGT_LANGUAGE]:\n",
        "  # Training data Iterator \n",
        "  train_iter = Multi30k(split='train', language_pair=(SRC_LANGUAGE, TGT_LANGUAGE))\n",
        "  # Create torchtext's Vocab object \n",
        "  vocab_transform[ln] = build_vocab_from_iterator(yield_tokens(train_iter, ln),\n",
        "                                                    min_freq=1,\n",
        "                                                    specials=special_symbols,\n",
        "                                                    special_first=True)"
      ],
      "execution_count": 9,
      "outputs": [
        {
          "output_type": "stream",
          "text": [
            "training.tar.gz: 100%|██████████| 1.21M/1.21M [00:00<00:00, 1.33MB/s]\n"
          ],
          "name": "stderr"
        }
      ]
    },
    {
      "cell_type": "code",
      "metadata": {
        "id": "OiUr56CESsgm"
      },
      "source": [
        "# vocab_transform['de']['hello']"
      ],
      "execution_count": 10,
      "outputs": []
    },
    {
      "cell_type": "code",
      "metadata": {
        "id": "dNDAJEUyTLmg"
      },
      "source": [
        "# Set UNK_IDX as the default index. This index is returned when the token is not found. \n",
        "# If not set, it throws RuntimeError when the queried token is not found in the Vocabulary. \n",
        "for ln in [SRC_LANGUAGE, TGT_LANGUAGE]:\n",
        "  vocab_transform[ln].set_default_index(UNK_IDX)"
      ],
      "execution_count": 11,
      "outputs": []
    },
    {
      "cell_type": "code",
      "metadata": {
        "colab": {
          "base_uri": "https://localhost:8080/"
        },
        "id": "voGL3PAeTNcR",
        "outputId": "e57e28f8-222f-40eb-e6b1-6747925cf08d"
      },
      "source": [
        "vocab_transform['de']['hello']"
      ],
      "execution_count": 12,
      "outputs": [
        {
          "output_type": "execute_result",
          "data": {
            "text/plain": [
              "0"
            ]
          },
          "metadata": {
            "tags": []
          },
          "execution_count": 12
        }
      ]
    },
    {
      "cell_type": "code",
      "metadata": {
        "colab": {
          "base_uri": "https://localhost:8080/"
        },
        "id": "IdmLSY6V_W78",
        "outputId": "16eb2a22-e090-4511-b58b-b9f92163fa36"
      },
      "source": [
        "print(len(vocab_transform['en']))\n",
        "print('', len(vocab_transform['de']))"
      ],
      "execution_count": 18,
      "outputs": [
        {
          "output_type": "stream",
          "text": [
            "10840\n",
            " 19206\n"
          ],
          "name": "stdout"
        }
      ]
    },
    {
      "cell_type": "markdown",
      "metadata": {
        "id": "BSFFaWda_JXi"
      },
      "source": [
        "----\n"
      ]
    },
    {
      "cell_type": "code",
      "metadata": {
        "colab": {
          "base_uri": "https://localhost:8080/"
        },
        "id": "gJwBtjF9_oQJ",
        "outputId": "ee092de7-1f14-4897-cceb-0d588030148b"
      },
      "source": [
        "train_iter = Multi30k(split='train', language_pair=(SRC_LANGUAGE, TGT_LANGUAGE))\n",
        "next(train_iter)"
      ],
      "execution_count": 51,
      "outputs": [
        {
          "output_type": "execute_result",
          "data": {
            "text/plain": [
              "('Zwei junge weiße Männer sind im Freien in der Nähe vieler Büsche.\\n',\n",
              " 'Two young, White males are outside near many bushes.\\n')"
            ]
          },
          "metadata": {
            "tags": []
          },
          "execution_count": 51
        }
      ]
    },
    {
      "cell_type": "code",
      "metadata": {
        "id": "BNMW3-ME_Kba"
      },
      "source": [
        "for idx, (label, line) in enumerate(train_iter):\n",
        "  print(label, line)\n",
        "  if idx == 10:\n",
        "    break"
      ],
      "execution_count": null,
      "outputs": []
    },
    {
      "cell_type": "code",
      "metadata": {
        "colab": {
          "base_uri": "https://localhost:8080/"
        },
        "id": "DQjKmRTn__6Z",
        "outputId": "a751ed8a-a46c-438d-838c-1ea4718944c9"
      },
      "source": [
        "next(train_iter)"
      ],
      "execution_count": 53,
      "outputs": [
        {
          "output_type": "execute_result",
          "data": {
            "text/plain": [
              "('Ein schwarzer Hund und ein gefleckter Hund kämpfen.\\n',\n",
              " 'A black dog and a spotted dog are fighting\\n')"
            ]
          },
          "metadata": {
            "tags": []
          },
          "execution_count": 53
        }
      ]
    },
    {
      "cell_type": "code",
      "metadata": {
        "id": "aSqYwBXTFexA"
      },
      "source": [
        "??train_iter.__init__\n",
        "??train_iter.__getitem__\n",
        "??train_iter.__len__"
      ],
      "execution_count": 61,
      "outputs": []
    },
    {
      "cell_type": "markdown",
      "metadata": {
        "id": "GXj3tDc0TiYp"
      },
      "source": [
        "----"
      ]
    },
    {
      "cell_type": "code",
      "metadata": {
        "id": "N1eofJuoBDJD"
      },
      "source": [
        "device = torch.device('cuda' if torch.cuda.is_available() else 'cpu')"
      ],
      "execution_count": 28,
      "outputs": []
    },
    {
      "cell_type": "code",
      "metadata": {
        "id": "uX8ufGHUTQA6"
      },
      "source": [
        "# Collation\n",
        "# ---------\n",
        "#   \n",
        "# As seen in the ``Data Sourcing and Processing`` section, our data iterator yields a pair of raw strings. \n",
        "# We need to convert these string pairs into the batched tensors that can be processed by our ``Seq2Seq`` network \n",
        "# defined previously. Below we define our collate function that convert batch of raw strings into batch tensors that\n",
        "# can be fed directly into our model\n",
        "#\n",
        "\n",
        "\n",
        "from torch.nn.utils.rnn import pad_sequence\n",
        "\n",
        "# helper function to club together sequential operations\n",
        "def sequential_transforms(*transforms):\n",
        "    def func(txt_input):\n",
        "        for transform in transforms:\n",
        "            txt_input = transform(txt_input)\n",
        "        return txt_input\n",
        "    return func\n",
        "\n",
        "# function to add BOS/EOS and create tensor for input sequence indices\n",
        "def tensor_transform(token_ids: List[int]):\n",
        "    return torch.cat((torch.tensor([BOS_IDX]), \n",
        "                      torch.tensor(token_ids), \n",
        "                      torch.tensor([EOS_IDX])))\n",
        "\n",
        "# src and tgt language text transforms to convert raw strings into tensors indices\n",
        "text_transform = {}\n",
        "for ln in [SRC_LANGUAGE, TGT_LANGUAGE]:\n",
        "    text_transform[ln] = sequential_transforms(token_transform[ln], #Tokenization\n",
        "                                               vocab_transform[ln], #Numericalization\n",
        "                                               tensor_transform) # Add BOS/EOS and create tensor\n",
        "\n",
        "\n",
        "# function to collate data samples into batch tesors\n",
        "def collate_fn(batch):\n",
        "    src_batch, tgt_batch = [], []\n",
        "    for src_sample, tgt_sample in batch:\n",
        "        src_batch.append(text_transform[SRC_LANGUAGE](src_sample.rstrip(\"\\n\")))\n",
        "        tgt_batch.append(text_transform[TGT_LANGUAGE](tgt_sample.rstrip(\"\\n\")))\n",
        "\n",
        "    src_batch = pad_sequence(src_batch, padding_value=PAD_IDX)\n",
        "    tgt_batch = pad_sequence(tgt_batch, padding_value=PAD_IDX)\n",
        "    return src_batch, tgt_batch"
      ],
      "execution_count": 29,
      "outputs": []
    },
    {
      "cell_type": "code",
      "metadata": {
        "id": "mrSj3rWeUFTk"
      },
      "source": [
        "BATCH_SIZE = 128\n",
        "from torch.utils.data import DataLoader\n",
        "from torchtext.data.functional import to_map_style_dataset\n",
        "train_iter = Multi30k(split='train', language_pair=(SRC_LANGUAGE, TGT_LANGUAGE))\n",
        "train_dataset = to_map_style_dataset(train_iter)\n",
        "train_dataloader = DataLoader(train_dataset, \n",
        "                              batch_size=BATCH_SIZE, collate_fn=collate_fn)"
      ],
      "execution_count": 64,
      "outputs": []
    },
    {
      "cell_type": "code",
      "metadata": {
        "colab": {
          "base_uri": "https://localhost:8080/"
        },
        "id": "6Js-Es8OUivZ",
        "outputId": "c75266d4-d206-497d-ef94-78396049f771"
      },
      "source": [
        "next(iter(train_dataloader))"
      ],
      "execution_count": 65,
      "outputs": [
        {
          "output_type": "execute_result",
          "data": {
            "text/plain": [
              "(tensor([[ 2,  2,  2,  ...,  2,  2,  2],\n",
              "         [22, 85,  6,  ..., 22, 15, 15],\n",
              "         [86, 32, 70,  ..., 47, 39, 18],\n",
              "         ...,\n",
              "         [ 1,  1,  1,  ...,  1,  1,  1],\n",
              "         [ 1,  1,  1,  ...,  1,  1,  1],\n",
              "         [ 1,  1,  1,  ...,  1,  1,  1]]),\n",
              " tensor([[  2,   2,   2,  ...,   2,   2,   2],\n",
              "         [ 20, 166,   7,  ...,  20,   7,   7],\n",
              "         [ 26,  37,  62,  ...,  53,  40,  17],\n",
              "         ...,\n",
              "         [  1,   1,   1,  ...,   1,   1,   1],\n",
              "         [  1,   1,   1,  ...,   1,   1,   1],\n",
              "         [  1,   1,   1,  ...,   1,   1,   1]]))"
            ]
          },
          "metadata": {
            "tags": []
          },
          "execution_count": 65
        }
      ]
    },
    {
      "cell_type": "markdown",
      "metadata": {
        "id": "549E7KCwBDI8"
      },
      "source": [
        "Instantiate our German and English spaCy models."
      ]
    },
    {
      "cell_type": "code",
      "metadata": {
        "id": "3RHh2UDsWS10"
      },
      "source": [
        "val_iter = Multi30k(split='valid', language_pair=(SRC_LANGUAGE, TGT_LANGUAGE))\n",
        "val_dataset = to_map_style_dataset(val_iter)\n",
        "val_dataloader = DataLoader(val_dataset, batch_size=BATCH_SIZE, collate_fn=collate_fn)\n"
      ],
      "execution_count": 66,
      "outputs": []
    },
    {
      "cell_type": "code",
      "metadata": {
        "colab": {
          "base_uri": "https://localhost:8080/"
        },
        "id": "UHbL76OVWVXI",
        "outputId": "abdaeb83-c82f-4277-fd4b-6fce30110ed5"
      },
      "source": [
        "# next(iter(val_dataloader))\n",
        "print(len(val_dataloader))"
      ],
      "execution_count": 67,
      "outputs": [
        {
          "output_type": "stream",
          "text": [
            "8\n"
          ],
          "name": "stdout"
        }
      ]
    },
    {
      "cell_type": "code",
      "metadata": {
        "id": "MJVQrh_eXvM-"
      },
      "source": [
        "for src, tgt in train_dataloader:\n",
        "    src = src.to(device)\n",
        "    tgt = tgt.to(device)"
      ],
      "execution_count": null,
      "outputs": []
    },
    {
      "cell_type": "markdown",
      "metadata": {
        "id": "ydwK5JSzR9cE"
      },
      "source": [
        "-----\n",
        "-----"
      ]
    },
    {
      "cell_type": "markdown",
      "metadata": {
        "id": "2cx99koTBDJE"
      },
      "source": [
        "## Building the Seq2Seq Model\n",
        "\n",
        "### Encoder\n",
        "\n",
        "The encoder is similar to the previous one, with the multi-layer LSTM swapped for a single-layer GRU. We also don't pass the dropout as an argument to the GRU as that dropout is used between each layer of a multi-layered RNN. As we only have a single layer, PyTorch will display a warning if we try and use pass a dropout value to it.\n",
        "\n",
        "Another thing to note about the GRU is that it only requires and returns a hidden state, there is no cell state like in the LSTM.\n",
        "\n",
        "$$\\begin{align*}\n",
        "h_t &= \\text{GRU}(e(x_t), h_{t-1})\\\\\n",
        "(h_t, c_t) &= \\text{LSTM}(e(x_t), h_{t-1}, c_{t-1})\\\\\n",
        "h_t &= \\text{RNN}(e(x_t), h_{t-1})\n",
        "\\end{align*}$$\n",
        "\n",
        "From the equations above, it looks like the RNN and the GRU are identical. Inside the GRU, however, is a number of *gating mechanisms* that control the information flow in to and out of the hidden state (similar to an LSTM). Again, for more info, check out [this](https://colah.github.io/posts/2015-08-Understanding-LSTMs/) excellent post. \n",
        "\n",
        "The rest of the encoder should be very familar from the last tutorial, it takes in a sequence, $X = \\{x_1, x_2, ... , x_T\\}$, passes it through the embedding layer, recurrently calculates hidden states, $H = \\{h_1, h_2, ..., h_T\\}$, and returns a context vector (the final hidden state), $z=h_T$.\n",
        "\n",
        "$$h_t = \\text{EncoderGRU}(e(x_t), h_{t-1})$$\n",
        "\n",
        "This is identical to the encoder of the general seq2seq model, with all the \"magic\" happening inside the GRU (green).\n",
        "\n",
        "![](assets/seq2seq5.png)"
      ]
    },
    {
      "cell_type": "code",
      "metadata": {
        "id": "lngAt1TwBDJG"
      },
      "source": [
        "class Encoder(nn.Module):\n",
        "    def __init__(self, input_dim, emb_dim, hid_dim, dropout):\n",
        "        super().__init__()\n",
        "\n",
        "        self.hid_dim = hid_dim\n",
        "        \n",
        "        self.embedding = nn.Embedding(input_dim, emb_dim) #no dropout as only one layer!\n",
        "        \n",
        "        self.rnn = nn.GRU(emb_dim, hid_dim)\n",
        "        \n",
        "        self.dropout = nn.Dropout(dropout)\n",
        "        \n",
        "    def forward(self, src):\n",
        "        \n",
        "        #src = [src len, batch size]\n",
        "        \n",
        "        embedded = self.dropout(self.embedding(src))\n",
        "        \n",
        "        #embedded = [src len, batch size, emb dim]\n",
        "        \n",
        "        outputs, hidden = self.rnn(embedded) #no cell state!\n",
        "        \n",
        "        #outputs = [src len, batch size, hid dim * n directions]\n",
        "        #hidden = [n layers * n directions, batch size, hid dim]\n",
        "        \n",
        "        #outputs are always from the top hidden layer\n",
        "        \n",
        "        return hidden"
      ],
      "execution_count": 68,
      "outputs": []
    },
    {
      "cell_type": "markdown",
      "metadata": {
        "id": "ZMu514U4BDJG"
      },
      "source": [
        "## Decoder\n",
        "\n",
        "The decoder is where the implementation differs significantly from the previous model and we alleviate some of the information compression.\n",
        "\n",
        "Instead of the GRU in the decoder taking just the embedded target token, $d(y_t)$ and the previous hidden state $s_{t-1}$ as inputs, it also takes the context vector $z$. \n",
        "\n",
        "$$s_t = \\text{DecoderGRU}(d(y_t), s_{t-1}, z)$$\n",
        "\n",
        "Note how this context vector, $z$, does not have a $t$ subscript, meaning we re-use the same context vector returned by the encoder for every time-step in the decoder. \n",
        "\n",
        "Before, we predicted the next token, $\\hat{y}_{t+1}$, with the linear layer, $f$, only using the top-layer decoder hidden state at that time-step, $s_t$, as $\\hat{y}_{t+1}=f(s_t^L)$. Now, we also pass the embedding of current token, $d(y_t)$ and the context vector, $z$ to the linear layer.\n",
        "\n",
        "$$\\hat{y}_{t+1} = f(d(y_t), s_t, z)$$\n",
        "\n",
        "Thus, our decoder now looks something like this:\n",
        "\n",
        "![](assets/seq2seq6.png)\n",
        "\n",
        "Note, the initial hidden state, $s_0$, is still the context vector, $z$, so when generating the first token we are actually inputting two identical context vectors into the GRU.\n",
        "\n",
        "How do these two changes reduce the information compression? Well, hypothetically the decoder hidden states, $s_t$, no longer need to contain information about the source sequence as it is always available as an input. Thus, it only needs to contain information about what tokens it has generated so far. The addition of $y_t$ to the linear layer also means this layer can directly see what the token is, without having to get this information from the hidden state. \n",
        "\n",
        "However, this hypothesis is just a hypothesis, it is impossible to determine how the model actually uses the information provided to it (don't listen to anyone that says differently). Nevertheless, it is a solid intuition and the results seem to indicate that this modifications are a good idea!\n",
        "\n",
        "Within the implementation, we will pass $d(y_t)$ and $z$ to the GRU by concatenating them together, so the input dimensions to the GRU are now `emb_dim + hid_dim` (as context vector will be of size `hid_dim`). The linear layer will take $d(y_t), s_t$ and $z$ also by concatenating them together, hence the input dimensions are now `emb_dim + hid_dim*2`. We also don't pass a value of dropout to the GRU as it only uses a single layer.\n",
        "\n",
        "`forward` now takes a `context` argument. Inside of `forward`, we concatenate $y_t$ and $z$ as `emb_con` before feeding to the GRU, and we concatenate $d(y_t)$, $s_t$ and $z$ together as `output` before feeding it through the linear layer to receive our predictions, $\\hat{y}_{t+1}$."
      ]
    },
    {
      "cell_type": "code",
      "metadata": {
        "id": "VpSEPGpkBDJI"
      },
      "source": [
        "class Decoder(nn.Module):\n",
        "    def __init__(self, output_dim, emb_dim, hid_dim, dropout):\n",
        "        super().__init__()\n",
        "\n",
        "        self.hid_dim = hid_dim\n",
        "        self.output_dim = output_dim\n",
        "        \n",
        "        self.embedding = nn.Embedding(output_dim, emb_dim)\n",
        "        \n",
        "        self.rnn = nn.GRU(emb_dim + hid_dim, hid_dim)\n",
        "        \n",
        "        self.fc_out = nn.Linear(emb_dim + hid_dim * 2, output_dim)\n",
        "        \n",
        "        self.dropout = nn.Dropout(dropout)\n",
        "        \n",
        "    def forward(self, input, hidden, context):\n",
        "        \n",
        "        #input = [batch size]\n",
        "        #hidden = [n layers * n directions, batch size, hid dim]\n",
        "        #context = [n layers * n directions, batch size, hid dim]\n",
        "        \n",
        "        #n layers and n directions in the decoder will both always be 1, therefore:\n",
        "        #hidden = [1, batch size, hid dim]\n",
        "        #context = [1, batch size, hid dim]\n",
        "        \n",
        "        input = input.unsqueeze(0)\n",
        "        \n",
        "        #input = [1, batch size]\n",
        "        \n",
        "        embedded = self.dropout(self.embedding(input))\n",
        "        \n",
        "        #embedded = [1, batch size, emb dim]\n",
        "                \n",
        "        emb_con = torch.cat((embedded, context), dim = 2)\n",
        "            \n",
        "        #emb_con = [1, batch size, emb dim + hid dim]\n",
        "            \n",
        "        output, hidden = self.rnn(emb_con, hidden)\n",
        "        \n",
        "        #output = [seq len, batch size, hid dim * n directions]\n",
        "        #hidden = [n layers * n directions, batch size, hid dim]\n",
        "        \n",
        "        #seq len, n layers and n directions will always be 1 in the decoder, therefore:\n",
        "        #output = [1, batch size, hid dim]\n",
        "        #hidden = [1, batch size, hid dim]\n",
        "        \n",
        "        output = torch.cat((embedded.squeeze(0), hidden.squeeze(0), context.squeeze(0)), \n",
        "                           dim = 1)\n",
        "        \n",
        "        #output = [batch size, emb dim + hid dim * 2]\n",
        "        \n",
        "        prediction = self.fc_out(output)\n",
        "        \n",
        "        #prediction = [batch size, output dim]\n",
        "        \n",
        "        return prediction, hidden"
      ],
      "execution_count": 69,
      "outputs": []
    },
    {
      "cell_type": "markdown",
      "metadata": {
        "id": "oQXNEuDqBDJJ"
      },
      "source": [
        "## Seq2Seq Model\n",
        "\n",
        "Putting the encoder and decoder together, we get:\n",
        "\n",
        "![](assets/seq2seq7.png)\n",
        "\n",
        "Again, in this implementation we need to ensure the hidden dimensions in both the encoder and the decoder are the same.\n",
        "\n",
        "Briefly going over all of the steps:\n",
        "- the `outputs` tensor is created to hold all predictions, $\\hat{Y}$\n",
        "- the source sequence, $X$, is fed into the encoder to receive a `context` vector\n",
        "- the initial decoder hidden state is set to be the `context` vector, $s_0 = z = h_T$\n",
        "- we use a batch of `<sos>` tokens as the first `input`, $y_1$\n",
        "- we then decode within a loop:\n",
        "  - inserting the input token $y_t$, previous hidden state, $s_{t-1}$, and the context vector, $z$, into the decoder\n",
        "  - receiving a prediction, $\\hat{y}_{t+1}$, and a new hidden state, $s_t$\n",
        "  - we then decide if we are going to teacher force or not, setting the next input as appropriate (either the ground truth next token in the target sequence or the highest predicted next token)"
      ]
    },
    {
      "cell_type": "code",
      "metadata": {
        "id": "2abvtc66BDJK"
      },
      "source": [
        "class Seq2Seq(nn.Module):\n",
        "    def __init__(self, encoder, decoder, device):\n",
        "        super().__init__()\n",
        "        \n",
        "        self.encoder = encoder\n",
        "        self.decoder = decoder\n",
        "        self.device = device\n",
        "        \n",
        "        assert encoder.hid_dim == decoder.hid_dim, \\\n",
        "            \"Hidden dimensions of encoder and decoder must be equal!\"\n",
        "        \n",
        "    def forward(self, src, trg, teacher_forcing_ratio = 0.5):\n",
        "        \n",
        "        #src = [src len, batch size]\n",
        "        #trg = [trg len, batch size]\n",
        "        #teacher_forcing_ratio is probability to use teacher forcing\n",
        "        #e.g. if teacher_forcing_ratio is 0.75 we use ground-truth inputs 75% of the time\n",
        "        \n",
        "        batch_size = trg.shape[1]\n",
        "        trg_len = trg.shape[0]\n",
        "        trg_vocab_size = self.decoder.output_dim\n",
        "        \n",
        "        #tensor to store decoder outputs\n",
        "        outputs = torch.zeros(trg_len, batch_size, trg_vocab_size).to(self.device)\n",
        "        \n",
        "        #last hidden state of the encoder is the context\n",
        "        context = self.encoder(src)\n",
        "        \n",
        "        #context also used as the initial hidden state of the decoder\n",
        "        hidden = context\n",
        "        \n",
        "        #first input to the decoder is the <sos> tokens\n",
        "        input = trg[0,:]\n",
        "        \n",
        "        for t in range(1, trg_len):\n",
        "            \n",
        "            #insert input token embedding, previous hidden state and the context state\n",
        "            #receive output tensor (predictions) and new hidden state\n",
        "            output, hidden = self.decoder(input, hidden, context)\n",
        "            \n",
        "            #place predictions in a tensor holding predictions for each token\n",
        "            outputs[t] = output\n",
        "            \n",
        "            #decide if we are going to use teacher forcing or not\n",
        "            teacher_force = random.random() < teacher_forcing_ratio\n",
        "            \n",
        "            #get the highest predicted token from our predictions\n",
        "            top1 = output.argmax(1) \n",
        "            \n",
        "            #if teacher forcing, use actual next token as next input\n",
        "            #if not, use predicted token\n",
        "            input = trg[t] if teacher_force else top1\n",
        "\n",
        "        return outputs"
      ],
      "execution_count": 70,
      "outputs": []
    },
    {
      "cell_type": "markdown",
      "metadata": {
        "id": "Y3tzLUo4BDJL"
      },
      "source": [
        "# Training the Seq2Seq Model\n",
        "\n",
        "The rest of this tutorial is very similar to the previous one. \n",
        "\n",
        "We initialise our encoder, decoder and seq2seq model (placing it on the GPU if we have one). As before, the embedding dimensions and the amount of dropout used can be different between the encoder and the decoder, but the hidden dimensions must remain the same."
      ]
    },
    {
      "cell_type": "code",
      "metadata": {
        "id": "Fa-xkZleBDJM"
      },
      "source": [
        "INPUT_DIM = len(vocab_transform[SRC_LANGUAGE])\n",
        "OUTPUT_DIM = len(vocab_transform[TGT_LANGUAGE])\n",
        "ENC_EMB_DIM = 256\n",
        "DEC_EMB_DIM = 256\n",
        "HID_DIM = 512\n",
        "ENC_DROPOUT = 0.5\n",
        "DEC_DROPOUT = 0.5\n",
        "\n",
        "enc = Encoder(INPUT_DIM, ENC_EMB_DIM, HID_DIM, ENC_DROPOUT)\n",
        "dec = Decoder(OUTPUT_DIM, DEC_EMB_DIM, HID_DIM, DEC_DROPOUT)\n",
        "\n",
        "device = torch.device('cuda' if torch.cuda.is_available() else 'cpu')\n",
        "\n",
        "model = Seq2Seq(enc, dec, device).to(device)"
      ],
      "execution_count": 71,
      "outputs": []
    },
    {
      "cell_type": "markdown",
      "metadata": {
        "id": "M_cJQam8BDJM"
      },
      "source": [
        "Next, we initialize our parameters. The paper states the parameters are initialized from a normal distribution with a mean of 0 and a standard deviation of 0.01, i.e. $\\mathcal{N}(0, 0.01)$. \n",
        "\n",
        "It also states we should initialize the recurrent parameters to a special initialization, however to keep things simple we'll also initialize them to $\\mathcal{N}(0, 0.01)$."
      ]
    },
    {
      "cell_type": "code",
      "metadata": {
        "id": "KOhehRnABDJN",
        "colab": {
          "base_uri": "https://localhost:8080/"
        },
        "outputId": "e098a045-8fb0-4648-840d-1fd7079227df"
      },
      "source": [
        "def init_weights(m):\n",
        "    for name, param in m.named_parameters():\n",
        "        nn.init.normal_(param.data, mean=0, std=0.01)\n",
        "        \n",
        "model.apply(init_weights)"
      ],
      "execution_count": 72,
      "outputs": [
        {
          "output_type": "execute_result",
          "data": {
            "text/plain": [
              "Seq2Seq(\n",
              "  (encoder): Encoder(\n",
              "    (embedding): Embedding(19206, 256)\n",
              "    (rnn): GRU(256, 512)\n",
              "    (dropout): Dropout(p=0.5, inplace=False)\n",
              "  )\n",
              "  (decoder): Decoder(\n",
              "    (embedding): Embedding(10840, 256)\n",
              "    (rnn): GRU(768, 512)\n",
              "    (fc_out): Linear(in_features=1280, out_features=10840, bias=True)\n",
              "    (dropout): Dropout(p=0.5, inplace=False)\n",
              "  )\n",
              ")"
            ]
          },
          "metadata": {
            "tags": []
          },
          "execution_count": 72
        }
      ]
    },
    {
      "cell_type": "markdown",
      "metadata": {
        "id": "K7JE__Z0BDJN"
      },
      "source": [
        "We print out the number of parameters.\n",
        "\n",
        "Even though we only have a single layer RNN for our encoder and decoder we actually have **more** parameters  than the last model. This is due to the increased size of the inputs to the GRU and the linear layer. However, it is not a significant amount of parameters and causes a minimal amount of increase in training time (~3 seconds per epoch extra)."
      ]
    },
    {
      "cell_type": "code",
      "metadata": {
        "id": "zHXoyvP2BDJO",
        "colab": {
          "base_uri": "https://localhost:8080/"
        },
        "outputId": "6bab0e6a-a867-40a0-db0e-a27c0858c3e8"
      },
      "source": [
        "def count_parameters(model):\n",
        "    return sum(p.numel() for p in model.parameters() if p.requires_grad)\n",
        "\n",
        "print(f'The model has {count_parameters(model):,} trainable parameters')"
      ],
      "execution_count": 73,
      "outputs": [
        {
          "output_type": "stream",
          "text": [
            "The model has 24,729,688 trainable parameters\n"
          ],
          "name": "stdout"
        }
      ]
    },
    {
      "cell_type": "markdown",
      "metadata": {
        "id": "2TWkqIZbBDJO"
      },
      "source": [
        "We initiaize our optimizer."
      ]
    },
    {
      "cell_type": "code",
      "metadata": {
        "id": "H581DRraBDJP"
      },
      "source": [
        "optimizer = optim.Adam(model.parameters())"
      ],
      "execution_count": 74,
      "outputs": []
    },
    {
      "cell_type": "markdown",
      "metadata": {
        "id": "BaqS6MucBDJP"
      },
      "source": [
        "We also initialize the loss function, making sure to ignore the loss on `<pad>` tokens."
      ]
    },
    {
      "cell_type": "code",
      "metadata": {
        "id": "wSezqhpCBDJP"
      },
      "source": [
        "# TRG_PAD_IDX = TRG.vocab.stoi[TRG.pad_token]\n",
        "\n",
        "criterion = nn.CrossEntropyLoss(ignore_index = PAD_IDX)"
      ],
      "execution_count": 75,
      "outputs": []
    },
    {
      "cell_type": "markdown",
      "metadata": {
        "id": "TItHbUDoBDJQ"
      },
      "source": [
        "We then create the training loop..."
      ]
    },
    {
      "cell_type": "code",
      "metadata": {
        "id": "YgEf2fz4BDJQ"
      },
      "source": [
        "def train(model, iterator, optimizer, criterion, clip):\n",
        "    \n",
        "    model.train()\n",
        "    epoch_loss = 0\n",
        "    print(\"--------- Iniside train loop --------\")\n",
        "    for src, tgt in iterator:\n",
        "        print(src.shape, tgt.shape)\n",
        "        src = src.to(device)\n",
        "        tgt = tgt.to(device)\n",
        "        \n",
        "        optimizer.zero_grad()\n",
        "        \n",
        "        output = model(src, tgt)\n",
        "        \n",
        "        #tgt = [tgt len, batch size]\n",
        "        #output = [tgt len, batch size, output dim]\n",
        "        \n",
        "        output_dim = output.shape[-1]\n",
        "        \n",
        "        output = output[1:].view(-1, output_dim)\n",
        "        tgt = tgt[1:].view(-1)\n",
        "        \n",
        "        #tgt = [(tgt len - 1) * batch size]\n",
        "        #output = [(tgt len - 1) * batch size, output dim]\n",
        "        \n",
        "        loss = criterion(output, tgt)\n",
        "        \n",
        "        loss.backward()\n",
        "        \n",
        "        torch.nn.utils.clip_grad_norm_(model.parameters(), clip)\n",
        "        \n",
        "        optimizer.step()\n",
        "        epoch_loss += loss.item()\n",
        "        \n",
        "    return epoch_loss / len(iterator)"
      ],
      "execution_count": 76,
      "outputs": []
    },
    {
      "cell_type": "markdown",
      "metadata": {
        "id": "ZPkzvAGsBDJR"
      },
      "source": [
        "...and the evaluation loop, remembering to set the model to `eval` mode and turn off teaching forcing."
      ]
    },
    {
      "cell_type": "code",
      "metadata": {
        "id": "Zdto8ThpBDJR"
      },
      "source": [
        "def evaluate(model, iterator, criterion):\n",
        "    \n",
        "    model.eval()\n",
        "    epoch_loss = 0\n",
        "    \n",
        "    with torch.no_grad():\n",
        "    \n",
        "        for src, tgt in iterator:\n",
        "            src = src.to(device)\n",
        "            tgt = tgt.to(device)\n",
        "\n",
        "            output = model(src, tgt, 0) #turn off teacher forcing\n",
        "\n",
        "            #tgt = [tgt len, batch size]\n",
        "            #output = [tgt len, batch size, output dim]\n",
        "\n",
        "            output_dim = output.shape[-1]\n",
        "            \n",
        "            output = output[1:].view(-1, output_dim)\n",
        "            tgt = tgt[1:].view(-1)\n",
        "\n",
        "            #tgt = [(tgt len - 1) * batch size]\n",
        "            #output = [(tgt len - 1) * batch size, output dim]\n",
        "\n",
        "            loss = criterion(output, tgt)\n",
        "\n",
        "            epoch_loss += loss.item()\n",
        "        \n",
        "    return epoch_loss / len(iterator)"
      ],
      "execution_count": 77,
      "outputs": []
    },
    {
      "cell_type": "markdown",
      "metadata": {
        "id": "7EuVXXsWBDJR"
      },
      "source": [
        "We'll also define the function that calculates how long an epoch takes."
      ]
    },
    {
      "cell_type": "code",
      "metadata": {
        "id": "cJXVUn_4BDJS"
      },
      "source": [
        "def epoch_time(start_time, end_time):\n",
        "    elapsed_time = end_time - start_time\n",
        "    elapsed_mins = int(elapsed_time / 60)\n",
        "    elapsed_secs = int(elapsed_time - (elapsed_mins * 60))\n",
        "    return elapsed_mins, elapsed_secs"
      ],
      "execution_count": 78,
      "outputs": []
    },
    {
      "cell_type": "markdown",
      "metadata": {
        "id": "eowP2pC8BDJS"
      },
      "source": [
        "Then, we train our model, saving the parameters that give us the best validation loss."
      ]
    },
    {
      "cell_type": "code",
      "metadata": {
        "id": "Aa3WQJwLBDJS",
        "colab": {
          "base_uri": "https://localhost:8080/",
          "height": 1000
        },
        "outputId": "fa7a9f53-b46a-446d-a0df-607f70e2d46b"
      },
      "source": [
        "N_EPOCHS = 10\n",
        "CLIP = 1\n",
        "\n",
        "best_valid_loss = float('inf')\n",
        "\n",
        "for epoch in range(N_EPOCHS):\n",
        "    \n",
        "    start_time = time.time()\n",
        "    \n",
        "    train_loss = train(model, train_dataloader, optimizer, criterion, CLIP)\n",
        "    valid_loss = evaluate(model, val_dataloader, criterion)\n",
        "    \n",
        "    end_time = time.time()\n",
        "    \n",
        "    epoch_mins, epoch_secs = epoch_time(start_time, end_time)\n",
        "    \n",
        "    if valid_loss < best_valid_loss:\n",
        "        best_valid_loss = valid_loss\n",
        "        torch.save(model.state_dict(), 'tut2-model.pt')\n",
        "    \n",
        "    print(f'Epoch: {epoch+1:02} | Time: {epoch_mins}m {epoch_secs}s')\n",
        "    print(f'\\tTrain Loss: {train_loss:.3f} | Train PPL: {math.exp(train_loss):7.3f}')\n",
        "    print(f'\\t Val. Loss: {valid_loss:.3f} |  Val. PPL: {math.exp(valid_loss):7.3f}')"
      ],
      "execution_count": 79,
      "outputs": [
        {
          "output_type": "stream",
          "text": [
            "--------- Iniside train loop --------\n",
            "torch.Size([27, 128]) torch.Size([24, 128])\n",
            "torch.Size([46, 128]) torch.Size([37, 128])\n",
            "torch.Size([33, 128]) torch.Size([36, 128])\n",
            "torch.Size([33, 128]) torch.Size([28, 128])\n",
            "torch.Size([32, 128]) torch.Size([31, 128])\n",
            "torch.Size([26, 128]) torch.Size([25, 128])\n",
            "torch.Size([30, 128]) torch.Size([27, 128])\n",
            "torch.Size([25, 128]) torch.Size([24, 128])\n",
            "torch.Size([29, 128]) torch.Size([26, 128])\n",
            "torch.Size([26, 128]) torch.Size([28, 128])\n",
            "torch.Size([27, 128]) torch.Size([28, 128])\n",
            "torch.Size([32, 128]) torch.Size([33, 128])\n",
            "torch.Size([35, 128]) torch.Size([35, 128])\n",
            "torch.Size([28, 128]) torch.Size([29, 128])\n",
            "torch.Size([27, 128]) torch.Size([28, 128])\n",
            "torch.Size([28, 128]) torch.Size([29, 128])\n",
            "torch.Size([31, 128]) torch.Size([38, 128])\n",
            "torch.Size([29, 128]) torch.Size([31, 128])\n",
            "torch.Size([31, 128]) torch.Size([28, 128])\n",
            "torch.Size([29, 128]) torch.Size([26, 128])\n",
            "torch.Size([27, 128]) torch.Size([26, 128])\n",
            "torch.Size([26, 128]) torch.Size([25, 128])\n",
            "torch.Size([34, 128]) torch.Size([34, 128])\n",
            "torch.Size([29, 128]) torch.Size([27, 128])\n",
            "torch.Size([30, 128]) torch.Size([30, 128])\n",
            "torch.Size([28, 128]) torch.Size([30, 128])\n",
            "torch.Size([28, 128]) torch.Size([32, 128])\n",
            "torch.Size([28, 128]) torch.Size([27, 128])\n",
            "torch.Size([23, 128]) torch.Size([24, 128])\n",
            "torch.Size([30, 128]) torch.Size([31, 128])\n",
            "torch.Size([30, 128]) torch.Size([29, 128])\n",
            "torch.Size([25, 128]) torch.Size([30, 128])\n",
            "torch.Size([30, 128]) torch.Size([29, 128])\n",
            "torch.Size([25, 128]) torch.Size([24, 128])\n",
            "torch.Size([24, 128]) torch.Size([26, 128])\n",
            "torch.Size([29, 128]) torch.Size([32, 128])\n",
            "torch.Size([25, 128]) torch.Size([24, 128])\n",
            "torch.Size([29, 128]) torch.Size([29, 128])\n",
            "torch.Size([28, 128]) torch.Size([29, 128])\n",
            "torch.Size([28, 128]) torch.Size([27, 128])\n",
            "torch.Size([26, 128]) torch.Size([23, 128])\n",
            "torch.Size([27, 128]) torch.Size([29, 128])\n",
            "torch.Size([26, 128]) torch.Size([31, 128])\n",
            "torch.Size([28, 128]) torch.Size([30, 128])\n",
            "torch.Size([30, 128]) torch.Size([33, 128])\n",
            "torch.Size([29, 128]) torch.Size([23, 128])\n",
            "torch.Size([29, 128]) torch.Size([29, 128])\n",
            "torch.Size([24, 128]) torch.Size([25, 128])\n",
            "torch.Size([25, 128]) torch.Size([27, 128])\n",
            "torch.Size([29, 128]) torch.Size([28, 128])\n",
            "torch.Size([34, 128]) torch.Size([41, 128])\n",
            "torch.Size([29, 128]) torch.Size([27, 128])\n",
            "torch.Size([32, 128]) torch.Size([32, 128])\n",
            "torch.Size([25, 128]) torch.Size([24, 128])\n",
            "torch.Size([25, 128]) torch.Size([26, 128])\n",
            "torch.Size([28, 128]) torch.Size([28, 128])\n",
            "torch.Size([30, 128]) torch.Size([29, 128])\n",
            "torch.Size([33, 128]) torch.Size([35, 128])\n",
            "torch.Size([26, 128]) torch.Size([27, 128])\n",
            "torch.Size([26, 128]) torch.Size([27, 128])\n",
            "torch.Size([36, 128]) torch.Size([37, 128])\n",
            "torch.Size([28, 128]) torch.Size([23, 128])\n",
            "torch.Size([27, 128]) torch.Size([27, 128])\n",
            "torch.Size([24, 128]) torch.Size([28, 128])\n",
            "torch.Size([35, 128]) torch.Size([33, 128])\n",
            "torch.Size([22, 128]) torch.Size([26, 128])\n",
            "torch.Size([24, 128]) torch.Size([27, 128])\n",
            "torch.Size([29, 128]) torch.Size([26, 128])\n",
            "torch.Size([26, 128]) torch.Size([25, 128])\n",
            "torch.Size([25, 128]) torch.Size([28, 128])\n",
            "torch.Size([31, 128]) torch.Size([31, 128])\n",
            "torch.Size([24, 128]) torch.Size([29, 128])\n",
            "torch.Size([30, 128]) torch.Size([34, 128])\n",
            "torch.Size([25, 128]) torch.Size([31, 128])\n",
            "torch.Size([27, 128]) torch.Size([30, 128])\n",
            "torch.Size([28, 128]) torch.Size([32, 128])\n",
            "torch.Size([23, 128]) torch.Size([24, 128])\n",
            "torch.Size([27, 128]) torch.Size([27, 128])\n",
            "torch.Size([26, 128]) torch.Size([28, 128])\n",
            "torch.Size([28, 128]) torch.Size([25, 128])\n",
            "torch.Size([28, 128]) torch.Size([31, 128])\n",
            "torch.Size([24, 128]) torch.Size([27, 128])\n",
            "torch.Size([29, 128]) torch.Size([36, 128])\n",
            "torch.Size([25, 128]) torch.Size([25, 128])\n",
            "torch.Size([38, 128]) torch.Size([36, 128])\n",
            "torch.Size([27, 128]) torch.Size([24, 128])\n",
            "torch.Size([29, 128]) torch.Size([36, 128])\n",
            "torch.Size([34, 128]) torch.Size([35, 128])\n",
            "torch.Size([30, 128]) torch.Size([26, 128])\n",
            "torch.Size([28, 128]) torch.Size([25, 128])\n",
            "torch.Size([27, 128]) torch.Size([30, 128])\n",
            "torch.Size([28, 128]) torch.Size([31, 128])\n",
            "torch.Size([26, 128]) torch.Size([26, 128])\n",
            "torch.Size([28, 128]) torch.Size([26, 128])\n",
            "torch.Size([23, 128]) torch.Size([25, 128])\n",
            "torch.Size([26, 128]) torch.Size([28, 128])\n",
            "torch.Size([38, 128]) torch.Size([37, 128])\n",
            "torch.Size([27, 128]) torch.Size([30, 128])\n",
            "torch.Size([28, 128]) torch.Size([27, 128])\n",
            "torch.Size([32, 128]) torch.Size([27, 128])\n",
            "torch.Size([26, 128]) torch.Size([27, 128])\n",
            "torch.Size([28, 128]) torch.Size([23, 128])\n",
            "torch.Size([29, 128]) torch.Size([34, 128])\n",
            "torch.Size([27, 128]) torch.Size([28, 128])\n",
            "torch.Size([29, 128]) torch.Size([26, 128])\n",
            "torch.Size([28, 128]) torch.Size([30, 128])\n",
            "torch.Size([26, 128]) torch.Size([27, 128])\n",
            "torch.Size([27, 128]) torch.Size([26, 128])\n",
            "torch.Size([29, 128]) torch.Size([27, 128])\n",
            "torch.Size([25, 128]) torch.Size([27, 128])\n",
            "torch.Size([28, 128]) torch.Size([26, 128])\n",
            "torch.Size([45, 128]) torch.Size([41, 128])\n",
            "torch.Size([28, 128]) torch.Size([29, 128])\n",
            "torch.Size([29, 128]) torch.Size([23, 128])\n",
            "torch.Size([33, 128]) torch.Size([30, 128])\n",
            "torch.Size([37, 128]) torch.Size([32, 128])\n",
            "torch.Size([28, 128]) torch.Size([28, 128])\n",
            "torch.Size([22, 128]) torch.Size([29, 128])\n",
            "torch.Size([28, 128]) torch.Size([30, 128])\n",
            "torch.Size([26, 128]) torch.Size([28, 128])\n",
            "torch.Size([30, 128]) torch.Size([31, 128])\n",
            "torch.Size([27, 128]) torch.Size([28, 128])\n",
            "torch.Size([25, 128]) torch.Size([31, 128])\n",
            "torch.Size([25, 128]) torch.Size([26, 128])\n",
            "torch.Size([30, 128]) torch.Size([26, 128])\n",
            "torch.Size([34, 128]) torch.Size([33, 128])\n",
            "torch.Size([29, 128]) torch.Size([25, 128])\n",
            "torch.Size([26, 128]) torch.Size([30, 128])\n",
            "torch.Size([28, 128]) torch.Size([28, 128])\n",
            "torch.Size([34, 128]) torch.Size([38, 128])\n",
            "torch.Size([31, 128]) torch.Size([28, 128])\n",
            "torch.Size([27, 128]) torch.Size([28, 128])\n",
            "torch.Size([32, 128]) torch.Size([27, 128])\n",
            "torch.Size([31, 128]) torch.Size([26, 128])\n",
            "torch.Size([36, 128]) torch.Size([43, 128])\n",
            "torch.Size([35, 128]) torch.Size([40, 128])\n",
            "torch.Size([31, 128]) torch.Size([33, 128])\n",
            "torch.Size([31, 128]) torch.Size([31, 128])\n",
            "torch.Size([28, 128]) torch.Size([29, 128])\n",
            "torch.Size([31, 128]) torch.Size([32, 128])\n",
            "torch.Size([35, 128]) torch.Size([30, 128])\n",
            "torch.Size([28, 128]) torch.Size([29, 128])\n",
            "torch.Size([33, 128]) torch.Size([30, 128])\n",
            "torch.Size([24, 128]) torch.Size([29, 128])\n",
            "torch.Size([27, 128]) torch.Size([31, 128])\n",
            "torch.Size([27, 128]) torch.Size([28, 128])\n",
            "torch.Size([26, 128]) torch.Size([27, 128])\n",
            "torch.Size([26, 128]) torch.Size([31, 128])\n",
            "torch.Size([25, 128]) torch.Size([27, 128])\n",
            "torch.Size([30, 128]) torch.Size([32, 128])\n",
            "torch.Size([32, 128]) torch.Size([35, 128])\n",
            "torch.Size([33, 128]) torch.Size([29, 128])\n",
            "torch.Size([25, 128]) torch.Size([29, 128])\n",
            "torch.Size([38, 128]) torch.Size([36, 128])\n",
            "torch.Size([29, 128]) torch.Size([30, 128])\n",
            "torch.Size([26, 128]) torch.Size([31, 128])\n",
            "torch.Size([30, 128]) torch.Size([31, 128])\n",
            "torch.Size([29, 128]) torch.Size([30, 128])\n",
            "torch.Size([26, 128]) torch.Size([27, 128])\n",
            "torch.Size([32, 128]) torch.Size([29, 128])\n",
            "torch.Size([28, 128]) torch.Size([29, 128])\n",
            "torch.Size([33, 128]) torch.Size([29, 128])\n",
            "torch.Size([27, 128]) torch.Size([26, 128])\n",
            "torch.Size([28, 128]) torch.Size([32, 128])\n",
            "torch.Size([34, 128]) torch.Size([27, 128])\n",
            "torch.Size([32, 128]) torch.Size([32, 128])\n",
            "torch.Size([30, 128]) torch.Size([28, 128])\n",
            "torch.Size([38, 128]) torch.Size([37, 128])\n",
            "torch.Size([29, 128]) torch.Size([32, 128])\n",
            "torch.Size([30, 128]) torch.Size([28, 128])\n",
            "torch.Size([27, 128]) torch.Size([32, 128])\n",
            "torch.Size([31, 128]) torch.Size([26, 128])\n",
            "torch.Size([37, 128]) torch.Size([32, 128])\n",
            "torch.Size([28, 128]) torch.Size([32, 128])\n",
            "torch.Size([30, 128]) torch.Size([29, 128])\n",
            "torch.Size([36, 128]) torch.Size([31, 128])\n",
            "torch.Size([30, 128]) torch.Size([33, 128])\n",
            "torch.Size([29, 128]) torch.Size([29, 128])\n",
            "torch.Size([37, 128]) torch.Size([35, 128])\n",
            "torch.Size([31, 128]) torch.Size([28, 128])\n",
            "torch.Size([34, 128]) torch.Size([33, 128])\n",
            "torch.Size([36, 128]) torch.Size([29, 128])\n",
            "torch.Size([28, 128]) torch.Size([28, 128])\n",
            "torch.Size([31, 128]) torch.Size([29, 128])\n",
            "torch.Size([36, 128]) torch.Size([36, 128])\n",
            "torch.Size([32, 128]) torch.Size([34, 128])\n",
            "torch.Size([36, 128]) torch.Size([32, 128])\n",
            "torch.Size([28, 128]) torch.Size([32, 128])\n",
            "torch.Size([33, 128]) torch.Size([35, 128])\n",
            "torch.Size([27, 128]) torch.Size([27, 128])\n",
            "torch.Size([32, 128]) torch.Size([29, 128])\n",
            "torch.Size([32, 128]) torch.Size([34, 128])\n",
            "torch.Size([38, 128]) torch.Size([37, 128])\n",
            "torch.Size([30, 128]) torch.Size([30, 128])\n",
            "torch.Size([37, 128]) torch.Size([36, 128])\n",
            "torch.Size([27, 128]) torch.Size([33, 128])\n",
            "torch.Size([45, 128]) torch.Size([42, 128])\n",
            "torch.Size([30, 128]) torch.Size([33, 128])\n",
            "torch.Size([33, 128]) torch.Size([29, 128])\n",
            "torch.Size([36, 128]) torch.Size([31, 128])\n",
            "torch.Size([30, 128]) torch.Size([31, 128])\n",
            "torch.Size([30, 128]) torch.Size([33, 128])\n",
            "torch.Size([30, 128]) torch.Size([32, 128])\n",
            "torch.Size([33, 128]) torch.Size([35, 128])\n",
            "torch.Size([30, 128]) torch.Size([31, 128])\n",
            "torch.Size([34, 128]) torch.Size([37, 128])\n",
            "torch.Size([35, 128]) torch.Size([37, 128])\n",
            "torch.Size([27, 128]) torch.Size([26, 128])\n",
            "torch.Size([33, 128]) torch.Size([39, 128])\n",
            "torch.Size([28, 128]) torch.Size([32, 128])\n",
            "torch.Size([29, 128]) torch.Size([37, 128])\n",
            "torch.Size([27, 128]) torch.Size([30, 128])\n",
            "torch.Size([37, 128]) torch.Size([40, 128])\n",
            "torch.Size([29, 128]) torch.Size([25, 128])\n",
            "torch.Size([27, 128]) torch.Size([28, 128])\n",
            "torch.Size([38, 128]) torch.Size([37, 128])\n",
            "torch.Size([29, 128]) torch.Size([28, 128])\n",
            "torch.Size([34, 128]) torch.Size([40, 128])\n",
            "torch.Size([37, 128]) torch.Size([40, 128])\n",
            "torch.Size([27, 128]) torch.Size([28, 128])\n",
            "torch.Size([36, 128]) torch.Size([38, 128])\n",
            "torch.Size([31, 128]) torch.Size([30, 128])\n",
            "torch.Size([30, 128]) torch.Size([28, 128])\n",
            "torch.Size([34, 128]) torch.Size([32, 128])\n",
            "torch.Size([28, 128]) torch.Size([26, 128])\n",
            "torch.Size([24, 128]) torch.Size([27, 128])\n",
            "torch.Size([25, 72]) torch.Size([27, 72])\n",
            "Epoch: 01 | Time: 1m 29s\n",
            "\tTrain Loss: 5.172 | Train PPL: 176.317\n",
            "\t Val. Loss: 5.207 |  Val. PPL: 182.623\n",
            "--------- Iniside train loop --------\n",
            "torch.Size([27, 128]) torch.Size([24, 128])\n",
            "torch.Size([46, 128]) torch.Size([37, 128])\n",
            "torch.Size([33, 128]) torch.Size([36, 128])\n",
            "torch.Size([33, 128]) torch.Size([28, 128])\n",
            "torch.Size([32, 128]) torch.Size([31, 128])\n",
            "torch.Size([26, 128]) torch.Size([25, 128])\n",
            "torch.Size([30, 128]) torch.Size([27, 128])\n",
            "torch.Size([25, 128]) torch.Size([24, 128])\n",
            "torch.Size([29, 128]) torch.Size([26, 128])\n",
            "torch.Size([26, 128]) torch.Size([28, 128])\n",
            "torch.Size([27, 128]) torch.Size([28, 128])\n",
            "torch.Size([32, 128]) torch.Size([33, 128])\n",
            "torch.Size([35, 128]) torch.Size([35, 128])\n",
            "torch.Size([28, 128]) torch.Size([29, 128])\n",
            "torch.Size([27, 128]) torch.Size([28, 128])\n",
            "torch.Size([28, 128]) torch.Size([29, 128])\n",
            "torch.Size([31, 128]) torch.Size([38, 128])\n",
            "torch.Size([29, 128]) torch.Size([31, 128])\n",
            "torch.Size([31, 128]) torch.Size([28, 128])\n",
            "torch.Size([29, 128]) torch.Size([26, 128])\n",
            "torch.Size([27, 128]) torch.Size([26, 128])\n",
            "torch.Size([26, 128]) torch.Size([25, 128])\n",
            "torch.Size([34, 128]) torch.Size([34, 128])\n",
            "torch.Size([29, 128]) torch.Size([27, 128])\n",
            "torch.Size([30, 128]) torch.Size([30, 128])\n",
            "torch.Size([28, 128]) torch.Size([30, 128])\n",
            "torch.Size([28, 128]) torch.Size([32, 128])\n",
            "torch.Size([28, 128]) torch.Size([27, 128])\n",
            "torch.Size([23, 128]) torch.Size([24, 128])\n",
            "torch.Size([30, 128]) torch.Size([31, 128])\n",
            "torch.Size([30, 128]) torch.Size([29, 128])\n",
            "torch.Size([25, 128]) torch.Size([30, 128])\n",
            "torch.Size([30, 128]) torch.Size([29, 128])\n",
            "torch.Size([25, 128]) torch.Size([24, 128])\n",
            "torch.Size([24, 128]) torch.Size([26, 128])\n",
            "torch.Size([29, 128]) torch.Size([32, 128])\n",
            "torch.Size([25, 128]) torch.Size([24, 128])\n",
            "torch.Size([29, 128]) torch.Size([29, 128])\n",
            "torch.Size([28, 128]) torch.Size([29, 128])\n",
            "torch.Size([28, 128]) torch.Size([27, 128])\n",
            "torch.Size([26, 128]) torch.Size([23, 128])\n",
            "torch.Size([27, 128]) torch.Size([29, 128])\n",
            "torch.Size([26, 128]) torch.Size([31, 128])\n",
            "torch.Size([28, 128]) torch.Size([30, 128])\n",
            "torch.Size([30, 128]) torch.Size([33, 128])\n",
            "torch.Size([29, 128]) torch.Size([23, 128])\n",
            "torch.Size([29, 128]) torch.Size([29, 128])\n",
            "torch.Size([24, 128]) torch.Size([25, 128])\n",
            "torch.Size([25, 128]) torch.Size([27, 128])\n",
            "torch.Size([29, 128]) torch.Size([28, 128])\n",
            "torch.Size([34, 128]) torch.Size([41, 128])\n",
            "torch.Size([29, 128]) torch.Size([27, 128])\n",
            "torch.Size([32, 128]) torch.Size([32, 128])\n",
            "torch.Size([25, 128]) torch.Size([24, 128])\n",
            "torch.Size([25, 128]) torch.Size([26, 128])\n",
            "torch.Size([28, 128]) torch.Size([28, 128])\n",
            "torch.Size([30, 128]) torch.Size([29, 128])\n",
            "torch.Size([33, 128]) torch.Size([35, 128])\n",
            "torch.Size([26, 128]) torch.Size([27, 128])\n",
            "torch.Size([26, 128]) torch.Size([27, 128])\n",
            "torch.Size([36, 128]) torch.Size([37, 128])\n",
            "torch.Size([28, 128]) torch.Size([23, 128])\n",
            "torch.Size([27, 128]) torch.Size([27, 128])\n",
            "torch.Size([24, 128]) torch.Size([28, 128])\n",
            "torch.Size([35, 128]) torch.Size([33, 128])\n",
            "torch.Size([22, 128]) torch.Size([26, 128])\n",
            "torch.Size([24, 128]) torch.Size([27, 128])\n",
            "torch.Size([29, 128]) torch.Size([26, 128])\n",
            "torch.Size([26, 128]) torch.Size([25, 128])\n",
            "torch.Size([25, 128]) torch.Size([28, 128])\n",
            "torch.Size([31, 128]) torch.Size([31, 128])\n",
            "torch.Size([24, 128]) torch.Size([29, 128])\n",
            "torch.Size([30, 128]) torch.Size([34, 128])\n",
            "torch.Size([25, 128]) torch.Size([31, 128])\n",
            "torch.Size([27, 128]) torch.Size([30, 128])\n",
            "torch.Size([28, 128]) torch.Size([32, 128])\n",
            "torch.Size([23, 128]) torch.Size([24, 128])\n",
            "torch.Size([27, 128]) torch.Size([27, 128])\n",
            "torch.Size([26, 128]) torch.Size([28, 128])\n",
            "torch.Size([28, 128]) torch.Size([25, 128])\n",
            "torch.Size([28, 128]) torch.Size([31, 128])\n",
            "torch.Size([24, 128]) torch.Size([27, 128])\n",
            "torch.Size([29, 128]) torch.Size([36, 128])\n",
            "torch.Size([25, 128]) torch.Size([25, 128])\n",
            "torch.Size([38, 128]) torch.Size([36, 128])\n",
            "torch.Size([27, 128]) torch.Size([24, 128])\n",
            "torch.Size([29, 128]) torch.Size([36, 128])\n",
            "torch.Size([34, 128]) torch.Size([35, 128])\n",
            "torch.Size([30, 128]) torch.Size([26, 128])\n",
            "torch.Size([28, 128]) torch.Size([25, 128])\n",
            "torch.Size([27, 128]) torch.Size([30, 128])\n",
            "torch.Size([28, 128]) torch.Size([31, 128])\n",
            "torch.Size([26, 128]) torch.Size([26, 128])\n",
            "torch.Size([28, 128]) torch.Size([26, 128])\n",
            "torch.Size([23, 128]) torch.Size([25, 128])\n",
            "torch.Size([26, 128]) torch.Size([28, 128])\n",
            "torch.Size([38, 128]) torch.Size([37, 128])\n",
            "torch.Size([27, 128]) torch.Size([30, 128])\n",
            "torch.Size([28, 128]) torch.Size([27, 128])\n",
            "torch.Size([32, 128]) torch.Size([27, 128])\n",
            "torch.Size([26, 128]) torch.Size([27, 128])\n",
            "torch.Size([28, 128]) torch.Size([23, 128])\n",
            "torch.Size([29, 128]) torch.Size([34, 128])\n",
            "torch.Size([27, 128]) torch.Size([28, 128])\n",
            "torch.Size([29, 128]) torch.Size([26, 128])\n",
            "torch.Size([28, 128]) torch.Size([30, 128])\n",
            "torch.Size([26, 128]) torch.Size([27, 128])\n",
            "torch.Size([27, 128]) torch.Size([26, 128])\n",
            "torch.Size([29, 128]) torch.Size([27, 128])\n",
            "torch.Size([25, 128]) torch.Size([27, 128])\n",
            "torch.Size([28, 128]) torch.Size([26, 128])\n",
            "torch.Size([45, 128]) torch.Size([41, 128])\n",
            "torch.Size([28, 128]) torch.Size([29, 128])\n",
            "torch.Size([29, 128]) torch.Size([23, 128])\n",
            "torch.Size([33, 128]) torch.Size([30, 128])\n",
            "torch.Size([37, 128]) torch.Size([32, 128])\n",
            "torch.Size([28, 128]) torch.Size([28, 128])\n",
            "torch.Size([22, 128]) torch.Size([29, 128])\n",
            "torch.Size([28, 128]) torch.Size([30, 128])\n",
            "torch.Size([26, 128]) torch.Size([28, 128])\n",
            "torch.Size([30, 128]) torch.Size([31, 128])\n",
            "torch.Size([27, 128]) torch.Size([28, 128])\n",
            "torch.Size([25, 128]) torch.Size([31, 128])\n",
            "torch.Size([25, 128]) torch.Size([26, 128])\n",
            "torch.Size([30, 128]) torch.Size([26, 128])\n",
            "torch.Size([34, 128]) torch.Size([33, 128])\n",
            "torch.Size([29, 128]) torch.Size([25, 128])\n",
            "torch.Size([26, 128]) torch.Size([30, 128])\n",
            "torch.Size([28, 128]) torch.Size([28, 128])\n",
            "torch.Size([34, 128]) torch.Size([38, 128])\n",
            "torch.Size([31, 128]) torch.Size([28, 128])\n",
            "torch.Size([27, 128]) torch.Size([28, 128])\n",
            "torch.Size([32, 128]) torch.Size([27, 128])\n",
            "torch.Size([31, 128]) torch.Size([26, 128])\n",
            "torch.Size([36, 128]) torch.Size([43, 128])\n",
            "torch.Size([35, 128]) torch.Size([40, 128])\n",
            "torch.Size([31, 128]) torch.Size([33, 128])\n",
            "torch.Size([31, 128]) torch.Size([31, 128])\n",
            "torch.Size([28, 128]) torch.Size([29, 128])\n",
            "torch.Size([31, 128]) torch.Size([32, 128])\n",
            "torch.Size([35, 128]) torch.Size([30, 128])\n",
            "torch.Size([28, 128]) torch.Size([29, 128])\n",
            "torch.Size([33, 128]) torch.Size([30, 128])\n",
            "torch.Size([24, 128]) torch.Size([29, 128])\n",
            "torch.Size([27, 128]) torch.Size([31, 128])\n",
            "torch.Size([27, 128]) torch.Size([28, 128])\n",
            "torch.Size([26, 128]) torch.Size([27, 128])\n",
            "torch.Size([26, 128]) torch.Size([31, 128])\n",
            "torch.Size([25, 128]) torch.Size([27, 128])\n",
            "torch.Size([30, 128]) torch.Size([32, 128])\n",
            "torch.Size([32, 128]) torch.Size([35, 128])\n",
            "torch.Size([33, 128]) torch.Size([29, 128])\n",
            "torch.Size([25, 128]) torch.Size([29, 128])\n",
            "torch.Size([38, 128]) torch.Size([36, 128])\n",
            "torch.Size([29, 128]) torch.Size([30, 128])\n",
            "torch.Size([26, 128]) torch.Size([31, 128])\n",
            "torch.Size([30, 128]) torch.Size([31, 128])\n",
            "torch.Size([29, 128]) torch.Size([30, 128])\n",
            "torch.Size([26, 128]) torch.Size([27, 128])\n",
            "torch.Size([32, 128]) torch.Size([29, 128])\n",
            "torch.Size([28, 128]) torch.Size([29, 128])\n",
            "torch.Size([33, 128]) torch.Size([29, 128])\n",
            "torch.Size([27, 128]) torch.Size([26, 128])\n",
            "torch.Size([28, 128]) torch.Size([32, 128])\n",
            "torch.Size([34, 128]) torch.Size([27, 128])\n",
            "torch.Size([32, 128]) torch.Size([32, 128])\n",
            "torch.Size([30, 128]) torch.Size([28, 128])\n",
            "torch.Size([38, 128]) torch.Size([37, 128])\n",
            "torch.Size([29, 128]) torch.Size([32, 128])\n",
            "torch.Size([30, 128]) torch.Size([28, 128])\n",
            "torch.Size([27, 128]) torch.Size([32, 128])\n",
            "torch.Size([31, 128]) torch.Size([26, 128])\n",
            "torch.Size([37, 128]) torch.Size([32, 128])\n",
            "torch.Size([28, 128]) torch.Size([32, 128])\n",
            "torch.Size([30, 128]) torch.Size([29, 128])\n",
            "torch.Size([36, 128]) torch.Size([31, 128])\n",
            "torch.Size([30, 128]) torch.Size([33, 128])\n",
            "torch.Size([29, 128]) torch.Size([29, 128])\n",
            "torch.Size([37, 128]) torch.Size([35, 128])\n",
            "torch.Size([31, 128]) torch.Size([28, 128])\n",
            "torch.Size([34, 128]) torch.Size([33, 128])\n",
            "torch.Size([36, 128]) torch.Size([29, 128])\n",
            "torch.Size([28, 128]) torch.Size([28, 128])\n",
            "torch.Size([31, 128]) torch.Size([29, 128])\n",
            "torch.Size([36, 128]) torch.Size([36, 128])\n",
            "torch.Size([32, 128]) torch.Size([34, 128])\n",
            "torch.Size([36, 128]) torch.Size([32, 128])\n",
            "torch.Size([28, 128]) torch.Size([32, 128])\n",
            "torch.Size([33, 128]) torch.Size([35, 128])\n",
            "torch.Size([27, 128]) torch.Size([27, 128])\n",
            "torch.Size([32, 128]) torch.Size([29, 128])\n",
            "torch.Size([32, 128]) torch.Size([34, 128])\n",
            "torch.Size([38, 128]) torch.Size([37, 128])\n",
            "torch.Size([30, 128]) torch.Size([30, 128])\n",
            "torch.Size([37, 128]) torch.Size([36, 128])\n",
            "torch.Size([27, 128]) torch.Size([33, 128])\n",
            "torch.Size([45, 128]) torch.Size([42, 128])\n",
            "torch.Size([30, 128]) torch.Size([33, 128])\n",
            "torch.Size([33, 128]) torch.Size([29, 128])\n",
            "torch.Size([36, 128]) torch.Size([31, 128])\n",
            "torch.Size([30, 128]) torch.Size([31, 128])\n",
            "torch.Size([30, 128]) torch.Size([33, 128])\n",
            "torch.Size([30, 128]) torch.Size([32, 128])\n",
            "torch.Size([33, 128]) torch.Size([35, 128])\n",
            "torch.Size([30, 128]) torch.Size([31, 128])\n",
            "torch.Size([34, 128]) torch.Size([37, 128])\n",
            "torch.Size([35, 128]) torch.Size([37, 128])\n",
            "torch.Size([27, 128]) torch.Size([26, 128])\n",
            "torch.Size([33, 128]) torch.Size([39, 128])\n",
            "torch.Size([28, 128]) torch.Size([32, 128])\n",
            "torch.Size([29, 128]) torch.Size([37, 128])\n",
            "torch.Size([27, 128]) torch.Size([30, 128])\n",
            "torch.Size([37, 128]) torch.Size([40, 128])\n",
            "torch.Size([29, 128]) torch.Size([25, 128])\n",
            "torch.Size([27, 128]) torch.Size([28, 128])\n",
            "torch.Size([38, 128]) torch.Size([37, 128])\n",
            "torch.Size([29, 128]) torch.Size([28, 128])\n",
            "torch.Size([34, 128]) torch.Size([40, 128])\n",
            "torch.Size([37, 128]) torch.Size([40, 128])\n",
            "torch.Size([27, 128]) torch.Size([28, 128])\n",
            "torch.Size([36, 128]) torch.Size([38, 128])\n",
            "torch.Size([31, 128]) torch.Size([30, 128])\n",
            "torch.Size([30, 128]) torch.Size([28, 128])\n",
            "torch.Size([34, 128]) torch.Size([32, 128])\n",
            "torch.Size([28, 128]) torch.Size([26, 128])\n",
            "torch.Size([24, 128]) torch.Size([27, 128])\n",
            "torch.Size([25, 72]) torch.Size([27, 72])\n",
            "Epoch: 02 | Time: 1m 29s\n",
            "\tTrain Loss: 4.416 | Train PPL:  82.758\n",
            "\t Val. Loss: 5.033 |  Val. PPL: 153.346\n",
            "--------- Iniside train loop --------\n",
            "torch.Size([27, 128]) torch.Size([24, 128])\n",
            "torch.Size([46, 128]) torch.Size([37, 128])\n",
            "torch.Size([33, 128]) torch.Size([36, 128])\n",
            "torch.Size([33, 128]) torch.Size([28, 128])\n",
            "torch.Size([32, 128]) torch.Size([31, 128])\n",
            "torch.Size([26, 128]) torch.Size([25, 128])\n",
            "torch.Size([30, 128]) torch.Size([27, 128])\n",
            "torch.Size([25, 128]) torch.Size([24, 128])\n",
            "torch.Size([29, 128]) torch.Size([26, 128])\n",
            "torch.Size([26, 128]) torch.Size([28, 128])\n",
            "torch.Size([27, 128]) torch.Size([28, 128])\n",
            "torch.Size([32, 128]) torch.Size([33, 128])\n",
            "torch.Size([35, 128]) torch.Size([35, 128])\n",
            "torch.Size([28, 128]) torch.Size([29, 128])\n",
            "torch.Size([27, 128]) torch.Size([28, 128])\n",
            "torch.Size([28, 128]) torch.Size([29, 128])\n",
            "torch.Size([31, 128]) torch.Size([38, 128])\n",
            "torch.Size([29, 128]) torch.Size([31, 128])\n",
            "torch.Size([31, 128]) torch.Size([28, 128])\n",
            "torch.Size([29, 128]) torch.Size([26, 128])\n",
            "torch.Size([27, 128]) torch.Size([26, 128])\n",
            "torch.Size([26, 128]) torch.Size([25, 128])\n",
            "torch.Size([34, 128]) torch.Size([34, 128])\n",
            "torch.Size([29, 128]) torch.Size([27, 128])\n",
            "torch.Size([30, 128]) torch.Size([30, 128])\n",
            "torch.Size([28, 128]) torch.Size([30, 128])\n",
            "torch.Size([28, 128]) torch.Size([32, 128])\n",
            "torch.Size([28, 128]) torch.Size([27, 128])\n",
            "torch.Size([23, 128]) torch.Size([24, 128])\n",
            "torch.Size([30, 128]) torch.Size([31, 128])\n",
            "torch.Size([30, 128]) torch.Size([29, 128])\n",
            "torch.Size([25, 128]) torch.Size([30, 128])\n",
            "torch.Size([30, 128]) torch.Size([29, 128])\n",
            "torch.Size([25, 128]) torch.Size([24, 128])\n",
            "torch.Size([24, 128]) torch.Size([26, 128])\n",
            "torch.Size([29, 128]) torch.Size([32, 128])\n",
            "torch.Size([25, 128]) torch.Size([24, 128])\n",
            "torch.Size([29, 128]) torch.Size([29, 128])\n",
            "torch.Size([28, 128]) torch.Size([29, 128])\n",
            "torch.Size([28, 128]) torch.Size([27, 128])\n",
            "torch.Size([26, 128]) torch.Size([23, 128])\n",
            "torch.Size([27, 128]) torch.Size([29, 128])\n",
            "torch.Size([26, 128]) torch.Size([31, 128])\n",
            "torch.Size([28, 128]) torch.Size([30, 128])\n",
            "torch.Size([30, 128]) torch.Size([33, 128])\n",
            "torch.Size([29, 128]) torch.Size([23, 128])\n",
            "torch.Size([29, 128]) torch.Size([29, 128])\n",
            "torch.Size([24, 128]) torch.Size([25, 128])\n",
            "torch.Size([25, 128]) torch.Size([27, 128])\n",
            "torch.Size([29, 128]) torch.Size([28, 128])\n",
            "torch.Size([34, 128]) torch.Size([41, 128])\n",
            "torch.Size([29, 128]) torch.Size([27, 128])\n",
            "torch.Size([32, 128]) torch.Size([32, 128])\n",
            "torch.Size([25, 128]) torch.Size([24, 128])\n",
            "torch.Size([25, 128]) torch.Size([26, 128])\n",
            "torch.Size([28, 128]) torch.Size([28, 128])\n",
            "torch.Size([30, 128]) torch.Size([29, 128])\n",
            "torch.Size([33, 128]) torch.Size([35, 128])\n",
            "torch.Size([26, 128]) torch.Size([27, 128])\n",
            "torch.Size([26, 128]) torch.Size([27, 128])\n",
            "torch.Size([36, 128]) torch.Size([37, 128])\n",
            "torch.Size([28, 128]) torch.Size([23, 128])\n",
            "torch.Size([27, 128]) torch.Size([27, 128])\n",
            "torch.Size([24, 128]) torch.Size([28, 128])\n",
            "torch.Size([35, 128]) torch.Size([33, 128])\n",
            "torch.Size([22, 128]) torch.Size([26, 128])\n",
            "torch.Size([24, 128]) torch.Size([27, 128])\n",
            "torch.Size([29, 128]) torch.Size([26, 128])\n",
            "torch.Size([26, 128]) torch.Size([25, 128])\n",
            "torch.Size([25, 128]) torch.Size([28, 128])\n",
            "torch.Size([31, 128]) torch.Size([31, 128])\n",
            "torch.Size([24, 128]) torch.Size([29, 128])\n",
            "torch.Size([30, 128]) torch.Size([34, 128])\n",
            "torch.Size([25, 128]) torch.Size([31, 128])\n",
            "torch.Size([27, 128]) torch.Size([30, 128])\n",
            "torch.Size([28, 128]) torch.Size([32, 128])\n",
            "torch.Size([23, 128]) torch.Size([24, 128])\n",
            "torch.Size([27, 128]) torch.Size([27, 128])\n",
            "torch.Size([26, 128]) torch.Size([28, 128])\n",
            "torch.Size([28, 128]) torch.Size([25, 128])\n",
            "torch.Size([28, 128]) torch.Size([31, 128])\n",
            "torch.Size([24, 128]) torch.Size([27, 128])\n",
            "torch.Size([29, 128]) torch.Size([36, 128])\n",
            "torch.Size([25, 128]) torch.Size([25, 128])\n",
            "torch.Size([38, 128]) torch.Size([36, 128])\n",
            "torch.Size([27, 128]) torch.Size([24, 128])\n",
            "torch.Size([29, 128]) torch.Size([36, 128])\n",
            "torch.Size([34, 128]) torch.Size([35, 128])\n",
            "torch.Size([30, 128]) torch.Size([26, 128])\n",
            "torch.Size([28, 128]) torch.Size([25, 128])\n",
            "torch.Size([27, 128]) torch.Size([30, 128])\n",
            "torch.Size([28, 128]) torch.Size([31, 128])\n",
            "torch.Size([26, 128]) torch.Size([26, 128])\n",
            "torch.Size([28, 128]) torch.Size([26, 128])\n",
            "torch.Size([23, 128]) torch.Size([25, 128])\n",
            "torch.Size([26, 128]) torch.Size([28, 128])\n",
            "torch.Size([38, 128]) torch.Size([37, 128])\n",
            "torch.Size([27, 128]) torch.Size([30, 128])\n",
            "torch.Size([28, 128]) torch.Size([27, 128])\n",
            "torch.Size([32, 128]) torch.Size([27, 128])\n",
            "torch.Size([26, 128]) torch.Size([27, 128])\n",
            "torch.Size([28, 128]) torch.Size([23, 128])\n",
            "torch.Size([29, 128]) torch.Size([34, 128])\n",
            "torch.Size([27, 128]) torch.Size([28, 128])\n",
            "torch.Size([29, 128]) torch.Size([26, 128])\n",
            "torch.Size([28, 128]) torch.Size([30, 128])\n",
            "torch.Size([26, 128]) torch.Size([27, 128])\n",
            "torch.Size([27, 128]) torch.Size([26, 128])\n",
            "torch.Size([29, 128]) torch.Size([27, 128])\n",
            "torch.Size([25, 128]) torch.Size([27, 128])\n",
            "torch.Size([28, 128]) torch.Size([26, 128])\n",
            "torch.Size([45, 128]) torch.Size([41, 128])\n",
            "torch.Size([28, 128]) torch.Size([29, 128])\n",
            "torch.Size([29, 128]) torch.Size([23, 128])\n",
            "torch.Size([33, 128]) torch.Size([30, 128])\n",
            "torch.Size([37, 128]) torch.Size([32, 128])\n",
            "torch.Size([28, 128]) torch.Size([28, 128])\n",
            "torch.Size([22, 128]) torch.Size([29, 128])\n",
            "torch.Size([28, 128]) torch.Size([30, 128])\n",
            "torch.Size([26, 128]) torch.Size([28, 128])\n",
            "torch.Size([30, 128]) torch.Size([31, 128])\n",
            "torch.Size([27, 128]) torch.Size([28, 128])\n",
            "torch.Size([25, 128]) torch.Size([31, 128])\n",
            "torch.Size([25, 128]) torch.Size([26, 128])\n",
            "torch.Size([30, 128]) torch.Size([26, 128])\n",
            "torch.Size([34, 128]) torch.Size([33, 128])\n",
            "torch.Size([29, 128]) torch.Size([25, 128])\n",
            "torch.Size([26, 128]) torch.Size([30, 128])\n",
            "torch.Size([28, 128]) torch.Size([28, 128])\n",
            "torch.Size([34, 128]) torch.Size([38, 128])\n",
            "torch.Size([31, 128]) torch.Size([28, 128])\n",
            "torch.Size([27, 128]) torch.Size([28, 128])\n",
            "torch.Size([32, 128]) torch.Size([27, 128])\n",
            "torch.Size([31, 128]) torch.Size([26, 128])\n",
            "torch.Size([36, 128]) torch.Size([43, 128])\n",
            "torch.Size([35, 128]) torch.Size([40, 128])\n",
            "torch.Size([31, 128]) torch.Size([33, 128])\n",
            "torch.Size([31, 128]) torch.Size([31, 128])\n",
            "torch.Size([28, 128]) torch.Size([29, 128])\n",
            "torch.Size([31, 128]) torch.Size([32, 128])\n",
            "torch.Size([35, 128]) torch.Size([30, 128])\n",
            "torch.Size([28, 128]) torch.Size([29, 128])\n",
            "torch.Size([33, 128]) torch.Size([30, 128])\n",
            "torch.Size([24, 128]) torch.Size([29, 128])\n",
            "torch.Size([27, 128]) torch.Size([31, 128])\n",
            "torch.Size([27, 128]) torch.Size([28, 128])\n",
            "torch.Size([26, 128]) torch.Size([27, 128])\n",
            "torch.Size([26, 128]) torch.Size([31, 128])\n",
            "torch.Size([25, 128]) torch.Size([27, 128])\n",
            "torch.Size([30, 128]) torch.Size([32, 128])\n",
            "torch.Size([32, 128]) torch.Size([35, 128])\n",
            "torch.Size([33, 128]) torch.Size([29, 128])\n",
            "torch.Size([25, 128]) torch.Size([29, 128])\n",
            "torch.Size([38, 128]) torch.Size([36, 128])\n",
            "torch.Size([29, 128]) torch.Size([30, 128])\n",
            "torch.Size([26, 128]) torch.Size([31, 128])\n",
            "torch.Size([30, 128]) torch.Size([31, 128])\n",
            "torch.Size([29, 128]) torch.Size([30, 128])\n",
            "torch.Size([26, 128]) torch.Size([27, 128])\n",
            "torch.Size([32, 128]) torch.Size([29, 128])\n",
            "torch.Size([28, 128]) torch.Size([29, 128])\n",
            "torch.Size([33, 128]) torch.Size([29, 128])\n",
            "torch.Size([27, 128]) torch.Size([26, 128])\n",
            "torch.Size([28, 128]) torch.Size([32, 128])\n",
            "torch.Size([34, 128]) torch.Size([27, 128])\n",
            "torch.Size([32, 128]) torch.Size([32, 128])\n",
            "torch.Size([30, 128]) torch.Size([28, 128])\n",
            "torch.Size([38, 128]) torch.Size([37, 128])\n",
            "torch.Size([29, 128]) torch.Size([32, 128])\n",
            "torch.Size([30, 128]) torch.Size([28, 128])\n",
            "torch.Size([27, 128]) torch.Size([32, 128])\n",
            "torch.Size([31, 128]) torch.Size([26, 128])\n",
            "torch.Size([37, 128]) torch.Size([32, 128])\n",
            "torch.Size([28, 128]) torch.Size([32, 128])\n",
            "torch.Size([30, 128]) torch.Size([29, 128])\n",
            "torch.Size([36, 128]) torch.Size([31, 128])\n",
            "torch.Size([30, 128]) torch.Size([33, 128])\n",
            "torch.Size([29, 128]) torch.Size([29, 128])\n",
            "torch.Size([37, 128]) torch.Size([35, 128])\n",
            "torch.Size([31, 128]) torch.Size([28, 128])\n",
            "torch.Size([34, 128]) torch.Size([33, 128])\n",
            "torch.Size([36, 128]) torch.Size([29, 128])\n",
            "torch.Size([28, 128]) torch.Size([28, 128])\n",
            "torch.Size([31, 128]) torch.Size([29, 128])\n",
            "torch.Size([36, 128]) torch.Size([36, 128])\n",
            "torch.Size([32, 128]) torch.Size([34, 128])\n",
            "torch.Size([36, 128]) torch.Size([32, 128])\n",
            "torch.Size([28, 128]) torch.Size([32, 128])\n",
            "torch.Size([33, 128]) torch.Size([35, 128])\n",
            "torch.Size([27, 128]) torch.Size([27, 128])\n",
            "torch.Size([32, 128]) torch.Size([29, 128])\n",
            "torch.Size([32, 128]) torch.Size([34, 128])\n",
            "torch.Size([38, 128]) torch.Size([37, 128])\n",
            "torch.Size([30, 128]) torch.Size([30, 128])\n",
            "torch.Size([37, 128]) torch.Size([36, 128])\n",
            "torch.Size([27, 128]) torch.Size([33, 128])\n",
            "torch.Size([45, 128]) torch.Size([42, 128])\n",
            "torch.Size([30, 128]) torch.Size([33, 128])\n",
            "torch.Size([33, 128]) torch.Size([29, 128])\n",
            "torch.Size([36, 128]) torch.Size([31, 128])\n",
            "torch.Size([30, 128]) torch.Size([31, 128])\n",
            "torch.Size([30, 128]) torch.Size([33, 128])\n",
            "torch.Size([30, 128]) torch.Size([32, 128])\n",
            "torch.Size([33, 128]) torch.Size([35, 128])\n",
            "torch.Size([30, 128]) torch.Size([31, 128])\n",
            "torch.Size([34, 128]) torch.Size([37, 128])\n",
            "torch.Size([35, 128]) torch.Size([37, 128])\n",
            "torch.Size([27, 128]) torch.Size([26, 128])\n",
            "torch.Size([33, 128]) torch.Size([39, 128])\n",
            "torch.Size([28, 128]) torch.Size([32, 128])\n",
            "torch.Size([29, 128]) torch.Size([37, 128])\n",
            "torch.Size([27, 128]) torch.Size([30, 128])\n",
            "torch.Size([37, 128]) torch.Size([40, 128])\n",
            "torch.Size([29, 128]) torch.Size([25, 128])\n",
            "torch.Size([27, 128]) torch.Size([28, 128])\n",
            "torch.Size([38, 128]) torch.Size([37, 128])\n",
            "torch.Size([29, 128]) torch.Size([28, 128])\n",
            "torch.Size([34, 128]) torch.Size([40, 128])\n",
            "torch.Size([37, 128]) torch.Size([40, 128])\n",
            "torch.Size([27, 128]) torch.Size([28, 128])\n",
            "torch.Size([36, 128]) torch.Size([38, 128])\n",
            "torch.Size([31, 128]) torch.Size([30, 128])\n",
            "torch.Size([30, 128]) torch.Size([28, 128])\n",
            "torch.Size([34, 128]) torch.Size([32, 128])\n",
            "torch.Size([28, 128]) torch.Size([26, 128])\n",
            "torch.Size([24, 128]) torch.Size([27, 128])\n",
            "torch.Size([25, 72]) torch.Size([27, 72])\n",
            "Epoch: 03 | Time: 1m 28s\n",
            "\tTrain Loss: 4.133 | Train PPL:  62.338\n",
            "\t Val. Loss: 4.906 |  Val. PPL: 135.093\n",
            "--------- Iniside train loop --------\n",
            "torch.Size([27, 128]) torch.Size([24, 128])\n",
            "torch.Size([46, 128]) torch.Size([37, 128])\n",
            "torch.Size([33, 128]) torch.Size([36, 128])\n",
            "torch.Size([33, 128]) torch.Size([28, 128])\n",
            "torch.Size([32, 128]) torch.Size([31, 128])\n",
            "torch.Size([26, 128]) torch.Size([25, 128])\n",
            "torch.Size([30, 128]) torch.Size([27, 128])\n",
            "torch.Size([25, 128]) torch.Size([24, 128])\n",
            "torch.Size([29, 128]) torch.Size([26, 128])\n",
            "torch.Size([26, 128]) torch.Size([28, 128])\n",
            "torch.Size([27, 128]) torch.Size([28, 128])\n",
            "torch.Size([32, 128]) torch.Size([33, 128])\n",
            "torch.Size([35, 128]) torch.Size([35, 128])\n",
            "torch.Size([28, 128]) torch.Size([29, 128])\n",
            "torch.Size([27, 128]) torch.Size([28, 128])\n",
            "torch.Size([28, 128]) torch.Size([29, 128])\n",
            "torch.Size([31, 128]) torch.Size([38, 128])\n",
            "torch.Size([29, 128]) torch.Size([31, 128])\n",
            "torch.Size([31, 128]) torch.Size([28, 128])\n",
            "torch.Size([29, 128]) torch.Size([26, 128])\n",
            "torch.Size([27, 128]) torch.Size([26, 128])\n",
            "torch.Size([26, 128]) torch.Size([25, 128])\n",
            "torch.Size([34, 128]) torch.Size([34, 128])\n",
            "torch.Size([29, 128]) torch.Size([27, 128])\n",
            "torch.Size([30, 128]) torch.Size([30, 128])\n",
            "torch.Size([28, 128]) torch.Size([30, 128])\n",
            "torch.Size([28, 128]) torch.Size([32, 128])\n",
            "torch.Size([28, 128]) torch.Size([27, 128])\n",
            "torch.Size([23, 128]) torch.Size([24, 128])\n",
            "torch.Size([30, 128]) torch.Size([31, 128])\n",
            "torch.Size([30, 128]) torch.Size([29, 128])\n",
            "torch.Size([25, 128]) torch.Size([30, 128])\n",
            "torch.Size([30, 128]) torch.Size([29, 128])\n",
            "torch.Size([25, 128]) torch.Size([24, 128])\n",
            "torch.Size([24, 128]) torch.Size([26, 128])\n",
            "torch.Size([29, 128]) torch.Size([32, 128])\n",
            "torch.Size([25, 128]) torch.Size([24, 128])\n",
            "torch.Size([29, 128]) torch.Size([29, 128])\n",
            "torch.Size([28, 128]) torch.Size([29, 128])\n",
            "torch.Size([28, 128]) torch.Size([27, 128])\n",
            "torch.Size([26, 128]) torch.Size([23, 128])\n",
            "torch.Size([27, 128]) torch.Size([29, 128])\n",
            "torch.Size([26, 128]) torch.Size([31, 128])\n",
            "torch.Size([28, 128]) torch.Size([30, 128])\n",
            "torch.Size([30, 128]) torch.Size([33, 128])\n",
            "torch.Size([29, 128]) torch.Size([23, 128])\n",
            "torch.Size([29, 128]) torch.Size([29, 128])\n",
            "torch.Size([24, 128]) torch.Size([25, 128])\n",
            "torch.Size([25, 128]) torch.Size([27, 128])\n",
            "torch.Size([29, 128]) torch.Size([28, 128])\n",
            "torch.Size([34, 128]) torch.Size([41, 128])\n",
            "torch.Size([29, 128]) torch.Size([27, 128])\n",
            "torch.Size([32, 128]) torch.Size([32, 128])\n",
            "torch.Size([25, 128]) torch.Size([24, 128])\n",
            "torch.Size([25, 128]) torch.Size([26, 128])\n",
            "torch.Size([28, 128]) torch.Size([28, 128])\n",
            "torch.Size([30, 128]) torch.Size([29, 128])\n",
            "torch.Size([33, 128]) torch.Size([35, 128])\n",
            "torch.Size([26, 128]) torch.Size([27, 128])\n",
            "torch.Size([26, 128]) torch.Size([27, 128])\n",
            "torch.Size([36, 128]) torch.Size([37, 128])\n",
            "torch.Size([28, 128]) torch.Size([23, 128])\n",
            "torch.Size([27, 128]) torch.Size([27, 128])\n",
            "torch.Size([24, 128]) torch.Size([28, 128])\n",
            "torch.Size([35, 128]) torch.Size([33, 128])\n",
            "torch.Size([22, 128]) torch.Size([26, 128])\n",
            "torch.Size([24, 128]) torch.Size([27, 128])\n",
            "torch.Size([29, 128]) torch.Size([26, 128])\n",
            "torch.Size([26, 128]) torch.Size([25, 128])\n",
            "torch.Size([25, 128]) torch.Size([28, 128])\n",
            "torch.Size([31, 128]) torch.Size([31, 128])\n",
            "torch.Size([24, 128]) torch.Size([29, 128])\n",
            "torch.Size([30, 128]) torch.Size([34, 128])\n",
            "torch.Size([25, 128]) torch.Size([31, 128])\n",
            "torch.Size([27, 128]) torch.Size([30, 128])\n",
            "torch.Size([28, 128]) torch.Size([32, 128])\n",
            "torch.Size([23, 128]) torch.Size([24, 128])\n",
            "torch.Size([27, 128]) torch.Size([27, 128])\n",
            "torch.Size([26, 128]) torch.Size([28, 128])\n",
            "torch.Size([28, 128]) torch.Size([25, 128])\n",
            "torch.Size([28, 128]) torch.Size([31, 128])\n",
            "torch.Size([24, 128]) torch.Size([27, 128])\n",
            "torch.Size([29, 128]) torch.Size([36, 128])\n",
            "torch.Size([25, 128]) torch.Size([25, 128])\n",
            "torch.Size([38, 128]) torch.Size([36, 128])\n",
            "torch.Size([27, 128]) torch.Size([24, 128])\n",
            "torch.Size([29, 128]) torch.Size([36, 128])\n",
            "torch.Size([34, 128]) torch.Size([35, 128])\n",
            "torch.Size([30, 128]) torch.Size([26, 128])\n",
            "torch.Size([28, 128]) torch.Size([25, 128])\n",
            "torch.Size([27, 128]) torch.Size([30, 128])\n",
            "torch.Size([28, 128]) torch.Size([31, 128])\n",
            "torch.Size([26, 128]) torch.Size([26, 128])\n",
            "torch.Size([28, 128]) torch.Size([26, 128])\n",
            "torch.Size([23, 128]) torch.Size([25, 128])\n",
            "torch.Size([26, 128]) torch.Size([28, 128])\n",
            "torch.Size([38, 128]) torch.Size([37, 128])\n",
            "torch.Size([27, 128]) torch.Size([30, 128])\n",
            "torch.Size([28, 128]) torch.Size([27, 128])\n",
            "torch.Size([32, 128]) torch.Size([27, 128])\n",
            "torch.Size([26, 128]) torch.Size([27, 128])\n",
            "torch.Size([28, 128]) torch.Size([23, 128])\n",
            "torch.Size([29, 128]) torch.Size([34, 128])\n",
            "torch.Size([27, 128]) torch.Size([28, 128])\n",
            "torch.Size([29, 128]) torch.Size([26, 128])\n",
            "torch.Size([28, 128]) torch.Size([30, 128])\n",
            "torch.Size([26, 128]) torch.Size([27, 128])\n",
            "torch.Size([27, 128]) torch.Size([26, 128])\n",
            "torch.Size([29, 128]) torch.Size([27, 128])\n",
            "torch.Size([25, 128]) torch.Size([27, 128])\n",
            "torch.Size([28, 128]) torch.Size([26, 128])\n",
            "torch.Size([45, 128]) torch.Size([41, 128])\n",
            "torch.Size([28, 128]) torch.Size([29, 128])\n",
            "torch.Size([29, 128]) torch.Size([23, 128])\n",
            "torch.Size([33, 128]) torch.Size([30, 128])\n",
            "torch.Size([37, 128]) torch.Size([32, 128])\n",
            "torch.Size([28, 128]) torch.Size([28, 128])\n",
            "torch.Size([22, 128]) torch.Size([29, 128])\n",
            "torch.Size([28, 128]) torch.Size([30, 128])\n",
            "torch.Size([26, 128]) torch.Size([28, 128])\n",
            "torch.Size([30, 128]) torch.Size([31, 128])\n",
            "torch.Size([27, 128]) torch.Size([28, 128])\n",
            "torch.Size([25, 128]) torch.Size([31, 128])\n",
            "torch.Size([25, 128]) torch.Size([26, 128])\n",
            "torch.Size([30, 128]) torch.Size([26, 128])\n",
            "torch.Size([34, 128]) torch.Size([33, 128])\n",
            "torch.Size([29, 128]) torch.Size([25, 128])\n",
            "torch.Size([26, 128]) torch.Size([30, 128])\n",
            "torch.Size([28, 128]) torch.Size([28, 128])\n",
            "torch.Size([34, 128]) torch.Size([38, 128])\n",
            "torch.Size([31, 128]) torch.Size([28, 128])\n",
            "torch.Size([27, 128]) torch.Size([28, 128])\n",
            "torch.Size([32, 128]) torch.Size([27, 128])\n",
            "torch.Size([31, 128]) torch.Size([26, 128])\n",
            "torch.Size([36, 128]) torch.Size([43, 128])\n",
            "torch.Size([35, 128]) torch.Size([40, 128])\n",
            "torch.Size([31, 128]) torch.Size([33, 128])\n",
            "torch.Size([31, 128]) torch.Size([31, 128])\n",
            "torch.Size([28, 128]) torch.Size([29, 128])\n",
            "torch.Size([31, 128]) torch.Size([32, 128])\n",
            "torch.Size([35, 128]) torch.Size([30, 128])\n",
            "torch.Size([28, 128]) torch.Size([29, 128])\n",
            "torch.Size([33, 128]) torch.Size([30, 128])\n",
            "torch.Size([24, 128]) torch.Size([29, 128])\n",
            "torch.Size([27, 128]) torch.Size([31, 128])\n",
            "torch.Size([27, 128]) torch.Size([28, 128])\n",
            "torch.Size([26, 128]) torch.Size([27, 128])\n",
            "torch.Size([26, 128]) torch.Size([31, 128])\n",
            "torch.Size([25, 128]) torch.Size([27, 128])\n",
            "torch.Size([30, 128]) torch.Size([32, 128])\n",
            "torch.Size([32, 128]) torch.Size([35, 128])\n",
            "torch.Size([33, 128]) torch.Size([29, 128])\n",
            "torch.Size([25, 128]) torch.Size([29, 128])\n",
            "torch.Size([38, 128]) torch.Size([36, 128])\n",
            "torch.Size([29, 128]) torch.Size([30, 128])\n",
            "torch.Size([26, 128]) torch.Size([31, 128])\n",
            "torch.Size([30, 128]) torch.Size([31, 128])\n",
            "torch.Size([29, 128]) torch.Size([30, 128])\n",
            "torch.Size([26, 128]) torch.Size([27, 128])\n",
            "torch.Size([32, 128]) torch.Size([29, 128])\n",
            "torch.Size([28, 128]) torch.Size([29, 128])\n",
            "torch.Size([33, 128]) torch.Size([29, 128])\n",
            "torch.Size([27, 128]) torch.Size([26, 128])\n",
            "torch.Size([28, 128]) torch.Size([32, 128])\n",
            "torch.Size([34, 128]) torch.Size([27, 128])\n",
            "torch.Size([32, 128]) torch.Size([32, 128])\n",
            "torch.Size([30, 128]) torch.Size([28, 128])\n",
            "torch.Size([38, 128]) torch.Size([37, 128])\n",
            "torch.Size([29, 128]) torch.Size([32, 128])\n",
            "torch.Size([30, 128]) torch.Size([28, 128])\n",
            "torch.Size([27, 128]) torch.Size([32, 128])\n",
            "torch.Size([31, 128]) torch.Size([26, 128])\n",
            "torch.Size([37, 128]) torch.Size([32, 128])\n",
            "torch.Size([28, 128]) torch.Size([32, 128])\n",
            "torch.Size([30, 128]) torch.Size([29, 128])\n",
            "torch.Size([36, 128]) torch.Size([31, 128])\n",
            "torch.Size([30, 128]) torch.Size([33, 128])\n",
            "torch.Size([29, 128]) torch.Size([29, 128])\n",
            "torch.Size([37, 128]) torch.Size([35, 128])\n",
            "torch.Size([31, 128]) torch.Size([28, 128])\n",
            "torch.Size([34, 128]) torch.Size([33, 128])\n",
            "torch.Size([36, 128]) torch.Size([29, 128])\n",
            "torch.Size([28, 128]) torch.Size([28, 128])\n",
            "torch.Size([31, 128]) torch.Size([29, 128])\n",
            "torch.Size([36, 128]) torch.Size([36, 128])\n",
            "torch.Size([32, 128]) torch.Size([34, 128])\n",
            "torch.Size([36, 128]) torch.Size([32, 128])\n",
            "torch.Size([28, 128]) torch.Size([32, 128])\n",
            "torch.Size([33, 128]) torch.Size([35, 128])\n",
            "torch.Size([27, 128]) torch.Size([27, 128])\n",
            "torch.Size([32, 128]) torch.Size([29, 128])\n",
            "torch.Size([32, 128]) torch.Size([34, 128])\n",
            "torch.Size([38, 128]) torch.Size([37, 128])\n",
            "torch.Size([30, 128]) torch.Size([30, 128])\n",
            "torch.Size([37, 128]) torch.Size([36, 128])\n",
            "torch.Size([27, 128]) torch.Size([33, 128])\n",
            "torch.Size([45, 128]) torch.Size([42, 128])\n",
            "torch.Size([30, 128]) torch.Size([33, 128])\n",
            "torch.Size([33, 128]) torch.Size([29, 128])\n",
            "torch.Size([36, 128]) torch.Size([31, 128])\n",
            "torch.Size([30, 128]) torch.Size([31, 128])\n",
            "torch.Size([30, 128]) torch.Size([33, 128])\n",
            "torch.Size([30, 128]) torch.Size([32, 128])\n",
            "torch.Size([33, 128]) torch.Size([35, 128])\n",
            "torch.Size([30, 128]) torch.Size([31, 128])\n",
            "torch.Size([34, 128]) torch.Size([37, 128])\n",
            "torch.Size([35, 128]) torch.Size([37, 128])\n",
            "torch.Size([27, 128]) torch.Size([26, 128])\n",
            "torch.Size([33, 128]) torch.Size([39, 128])\n",
            "torch.Size([28, 128]) torch.Size([32, 128])\n",
            "torch.Size([29, 128]) torch.Size([37, 128])\n",
            "torch.Size([27, 128]) torch.Size([30, 128])\n",
            "torch.Size([37, 128]) torch.Size([40, 128])\n",
            "torch.Size([29, 128]) torch.Size([25, 128])\n",
            "torch.Size([27, 128]) torch.Size([28, 128])\n",
            "torch.Size([38, 128]) torch.Size([37, 128])\n",
            "torch.Size([29, 128]) torch.Size([28, 128])\n",
            "torch.Size([34, 128]) torch.Size([40, 128])\n",
            "torch.Size([37, 128]) torch.Size([40, 128])\n",
            "torch.Size([27, 128]) torch.Size([28, 128])\n",
            "torch.Size([36, 128]) torch.Size([38, 128])\n",
            "torch.Size([31, 128]) torch.Size([30, 128])\n",
            "torch.Size([30, 128]) torch.Size([28, 128])\n",
            "torch.Size([34, 128]) torch.Size([32, 128])\n",
            "torch.Size([28, 128]) torch.Size([26, 128])\n",
            "torch.Size([24, 128]) torch.Size([27, 128])\n",
            "torch.Size([25, 72]) torch.Size([27, 72])\n",
            "Epoch: 04 | Time: 1m 29s\n",
            "\tTrain Loss: 3.846 | Train PPL:  46.804\n",
            "\t Val. Loss: 4.626 |  Val. PPL: 102.091\n",
            "--------- Iniside train loop --------\n",
            "torch.Size([27, 128]) torch.Size([24, 128])\n",
            "torch.Size([46, 128]) torch.Size([37, 128])\n",
            "torch.Size([33, 128]) torch.Size([36, 128])\n",
            "torch.Size([33, 128]) torch.Size([28, 128])\n",
            "torch.Size([32, 128]) torch.Size([31, 128])\n",
            "torch.Size([26, 128]) torch.Size([25, 128])\n",
            "torch.Size([30, 128]) torch.Size([27, 128])\n",
            "torch.Size([25, 128]) torch.Size([24, 128])\n",
            "torch.Size([29, 128]) torch.Size([26, 128])\n",
            "torch.Size([26, 128]) torch.Size([28, 128])\n",
            "torch.Size([27, 128]) torch.Size([28, 128])\n",
            "torch.Size([32, 128]) torch.Size([33, 128])\n",
            "torch.Size([35, 128]) torch.Size([35, 128])\n",
            "torch.Size([28, 128]) torch.Size([29, 128])\n",
            "torch.Size([27, 128]) torch.Size([28, 128])\n",
            "torch.Size([28, 128]) torch.Size([29, 128])\n",
            "torch.Size([31, 128]) torch.Size([38, 128])\n",
            "torch.Size([29, 128]) torch.Size([31, 128])\n",
            "torch.Size([31, 128]) torch.Size([28, 128])\n",
            "torch.Size([29, 128]) torch.Size([26, 128])\n",
            "torch.Size([27, 128]) torch.Size([26, 128])\n",
            "torch.Size([26, 128]) torch.Size([25, 128])\n",
            "torch.Size([34, 128]) torch.Size([34, 128])\n",
            "torch.Size([29, 128]) torch.Size([27, 128])\n",
            "torch.Size([30, 128]) torch.Size([30, 128])\n",
            "torch.Size([28, 128]) torch.Size([30, 128])\n",
            "torch.Size([28, 128]) torch.Size([32, 128])\n",
            "torch.Size([28, 128]) torch.Size([27, 128])\n",
            "torch.Size([23, 128]) torch.Size([24, 128])\n",
            "torch.Size([30, 128]) torch.Size([31, 128])\n",
            "torch.Size([30, 128]) torch.Size([29, 128])\n",
            "torch.Size([25, 128]) torch.Size([30, 128])\n",
            "torch.Size([30, 128]) torch.Size([29, 128])\n",
            "torch.Size([25, 128]) torch.Size([24, 128])\n",
            "torch.Size([24, 128]) torch.Size([26, 128])\n",
            "torch.Size([29, 128]) torch.Size([32, 128])\n",
            "torch.Size([25, 128]) torch.Size([24, 128])\n",
            "torch.Size([29, 128]) torch.Size([29, 128])\n",
            "torch.Size([28, 128]) torch.Size([29, 128])\n",
            "torch.Size([28, 128]) torch.Size([27, 128])\n",
            "torch.Size([26, 128]) torch.Size([23, 128])\n",
            "torch.Size([27, 128]) torch.Size([29, 128])\n",
            "torch.Size([26, 128]) torch.Size([31, 128])\n",
            "torch.Size([28, 128]) torch.Size([30, 128])\n",
            "torch.Size([30, 128]) torch.Size([33, 128])\n",
            "torch.Size([29, 128]) torch.Size([23, 128])\n",
            "torch.Size([29, 128]) torch.Size([29, 128])\n",
            "torch.Size([24, 128]) torch.Size([25, 128])\n",
            "torch.Size([25, 128]) torch.Size([27, 128])\n",
            "torch.Size([29, 128]) torch.Size([28, 128])\n",
            "torch.Size([34, 128]) torch.Size([41, 128])\n",
            "torch.Size([29, 128]) torch.Size([27, 128])\n",
            "torch.Size([32, 128]) torch.Size([32, 128])\n",
            "torch.Size([25, 128]) torch.Size([24, 128])\n",
            "torch.Size([25, 128]) torch.Size([26, 128])\n",
            "torch.Size([28, 128]) torch.Size([28, 128])\n",
            "torch.Size([30, 128]) torch.Size([29, 128])\n",
            "torch.Size([33, 128]) torch.Size([35, 128])\n",
            "torch.Size([26, 128]) torch.Size([27, 128])\n",
            "torch.Size([26, 128]) torch.Size([27, 128])\n",
            "torch.Size([36, 128]) torch.Size([37, 128])\n",
            "torch.Size([28, 128]) torch.Size([23, 128])\n",
            "torch.Size([27, 128]) torch.Size([27, 128])\n",
            "torch.Size([24, 128]) torch.Size([28, 128])\n",
            "torch.Size([35, 128]) torch.Size([33, 128])\n",
            "torch.Size([22, 128]) torch.Size([26, 128])\n",
            "torch.Size([24, 128]) torch.Size([27, 128])\n",
            "torch.Size([29, 128]) torch.Size([26, 128])\n",
            "torch.Size([26, 128]) torch.Size([25, 128])\n",
            "torch.Size([25, 128]) torch.Size([28, 128])\n",
            "torch.Size([31, 128]) torch.Size([31, 128])\n",
            "torch.Size([24, 128]) torch.Size([29, 128])\n",
            "torch.Size([30, 128]) torch.Size([34, 128])\n",
            "torch.Size([25, 128]) torch.Size([31, 128])\n",
            "torch.Size([27, 128]) torch.Size([30, 128])\n",
            "torch.Size([28, 128]) torch.Size([32, 128])\n",
            "torch.Size([23, 128]) torch.Size([24, 128])\n",
            "torch.Size([27, 128]) torch.Size([27, 128])\n",
            "torch.Size([26, 128]) torch.Size([28, 128])\n",
            "torch.Size([28, 128]) torch.Size([25, 128])\n",
            "torch.Size([28, 128]) torch.Size([31, 128])\n",
            "torch.Size([24, 128]) torch.Size([27, 128])\n",
            "torch.Size([29, 128]) torch.Size([36, 128])\n",
            "torch.Size([25, 128]) torch.Size([25, 128])\n",
            "torch.Size([38, 128]) torch.Size([36, 128])\n",
            "torch.Size([27, 128]) torch.Size([24, 128])\n",
            "torch.Size([29, 128]) torch.Size([36, 128])\n",
            "torch.Size([34, 128]) torch.Size([35, 128])\n",
            "torch.Size([30, 128]) torch.Size([26, 128])\n",
            "torch.Size([28, 128]) torch.Size([25, 128])\n",
            "torch.Size([27, 128]) torch.Size([30, 128])\n",
            "torch.Size([28, 128]) torch.Size([31, 128])\n",
            "torch.Size([26, 128]) torch.Size([26, 128])\n",
            "torch.Size([28, 128]) torch.Size([26, 128])\n",
            "torch.Size([23, 128]) torch.Size([25, 128])\n",
            "torch.Size([26, 128]) torch.Size([28, 128])\n",
            "torch.Size([38, 128]) torch.Size([37, 128])\n",
            "torch.Size([27, 128]) torch.Size([30, 128])\n",
            "torch.Size([28, 128]) torch.Size([27, 128])\n",
            "torch.Size([32, 128]) torch.Size([27, 128])\n",
            "torch.Size([26, 128]) torch.Size([27, 128])\n",
            "torch.Size([28, 128]) torch.Size([23, 128])\n",
            "torch.Size([29, 128]) torch.Size([34, 128])\n",
            "torch.Size([27, 128]) torch.Size([28, 128])\n",
            "torch.Size([29, 128]) torch.Size([26, 128])\n",
            "torch.Size([28, 128]) torch.Size([30, 128])\n",
            "torch.Size([26, 128]) torch.Size([27, 128])\n",
            "torch.Size([27, 128]) torch.Size([26, 128])\n",
            "torch.Size([29, 128]) torch.Size([27, 128])\n",
            "torch.Size([25, 128]) torch.Size([27, 128])\n",
            "torch.Size([28, 128]) torch.Size([26, 128])\n",
            "torch.Size([45, 128]) torch.Size([41, 128])\n",
            "torch.Size([28, 128]) torch.Size([29, 128])\n",
            "torch.Size([29, 128]) torch.Size([23, 128])\n",
            "torch.Size([33, 128]) torch.Size([30, 128])\n",
            "torch.Size([37, 128]) torch.Size([32, 128])\n",
            "torch.Size([28, 128]) torch.Size([28, 128])\n",
            "torch.Size([22, 128]) torch.Size([29, 128])\n",
            "torch.Size([28, 128]) torch.Size([30, 128])\n",
            "torch.Size([26, 128]) torch.Size([28, 128])\n",
            "torch.Size([30, 128]) torch.Size([31, 128])\n",
            "torch.Size([27, 128]) torch.Size([28, 128])\n",
            "torch.Size([25, 128]) torch.Size([31, 128])\n",
            "torch.Size([25, 128]) torch.Size([26, 128])\n",
            "torch.Size([30, 128]) torch.Size([26, 128])\n",
            "torch.Size([34, 128]) torch.Size([33, 128])\n",
            "torch.Size([29, 128]) torch.Size([25, 128])\n",
            "torch.Size([26, 128]) torch.Size([30, 128])\n",
            "torch.Size([28, 128]) torch.Size([28, 128])\n",
            "torch.Size([34, 128]) torch.Size([38, 128])\n",
            "torch.Size([31, 128]) torch.Size([28, 128])\n",
            "torch.Size([27, 128]) torch.Size([28, 128])\n",
            "torch.Size([32, 128]) torch.Size([27, 128])\n",
            "torch.Size([31, 128]) torch.Size([26, 128])\n",
            "torch.Size([36, 128]) torch.Size([43, 128])\n",
            "torch.Size([35, 128]) torch.Size([40, 128])\n",
            "torch.Size([31, 128]) torch.Size([33, 128])\n",
            "torch.Size([31, 128]) torch.Size([31, 128])\n",
            "torch.Size([28, 128]) torch.Size([29, 128])\n",
            "torch.Size([31, 128]) torch.Size([32, 128])\n",
            "torch.Size([35, 128]) torch.Size([30, 128])\n",
            "torch.Size([28, 128]) torch.Size([29, 128])\n",
            "torch.Size([33, 128]) torch.Size([30, 128])\n",
            "torch.Size([24, 128]) torch.Size([29, 128])\n",
            "torch.Size([27, 128]) torch.Size([31, 128])\n",
            "torch.Size([27, 128]) torch.Size([28, 128])\n",
            "torch.Size([26, 128]) torch.Size([27, 128])\n",
            "torch.Size([26, 128]) torch.Size([31, 128])\n",
            "torch.Size([25, 128]) torch.Size([27, 128])\n",
            "torch.Size([30, 128]) torch.Size([32, 128])\n",
            "torch.Size([32, 128]) torch.Size([35, 128])\n",
            "torch.Size([33, 128]) torch.Size([29, 128])\n",
            "torch.Size([25, 128]) torch.Size([29, 128])\n",
            "torch.Size([38, 128]) torch.Size([36, 128])\n",
            "torch.Size([29, 128]) torch.Size([30, 128])\n",
            "torch.Size([26, 128]) torch.Size([31, 128])\n",
            "torch.Size([30, 128]) torch.Size([31, 128])\n",
            "torch.Size([29, 128]) torch.Size([30, 128])\n",
            "torch.Size([26, 128]) torch.Size([27, 128])\n",
            "torch.Size([32, 128]) torch.Size([29, 128])\n",
            "torch.Size([28, 128]) torch.Size([29, 128])\n",
            "torch.Size([33, 128]) torch.Size([29, 128])\n",
            "torch.Size([27, 128]) torch.Size([26, 128])\n",
            "torch.Size([28, 128]) torch.Size([32, 128])\n",
            "torch.Size([34, 128]) torch.Size([27, 128])\n",
            "torch.Size([32, 128]) torch.Size([32, 128])\n",
            "torch.Size([30, 128]) torch.Size([28, 128])\n",
            "torch.Size([38, 128]) torch.Size([37, 128])\n",
            "torch.Size([29, 128]) torch.Size([32, 128])\n",
            "torch.Size([30, 128]) torch.Size([28, 128])\n",
            "torch.Size([27, 128]) torch.Size([32, 128])\n",
            "torch.Size([31, 128]) torch.Size([26, 128])\n",
            "torch.Size([37, 128]) torch.Size([32, 128])\n",
            "torch.Size([28, 128]) torch.Size([32, 128])\n"
          ],
          "name": "stdout"
        },
        {
          "output_type": "error",
          "ename": "KeyboardInterrupt",
          "evalue": "ignored",
          "traceback": [
            "\u001b[0;31m---------------------------------------------------------------------------\u001b[0m",
            "\u001b[0;31mKeyboardInterrupt\u001b[0m                         Traceback (most recent call last)",
            "\u001b[0;32m<ipython-input-79-caf584cc5c59>\u001b[0m in \u001b[0;36m<module>\u001b[0;34m()\u001b[0m\n\u001b[1;32m      8\u001b[0m     \u001b[0mstart_time\u001b[0m \u001b[0;34m=\u001b[0m \u001b[0mtime\u001b[0m\u001b[0;34m.\u001b[0m\u001b[0mtime\u001b[0m\u001b[0;34m(\u001b[0m\u001b[0;34m)\u001b[0m\u001b[0;34m\u001b[0m\u001b[0;34m\u001b[0m\u001b[0m\n\u001b[1;32m      9\u001b[0m \u001b[0;34m\u001b[0m\u001b[0m\n\u001b[0;32m---> 10\u001b[0;31m     \u001b[0mtrain_loss\u001b[0m \u001b[0;34m=\u001b[0m \u001b[0mtrain\u001b[0m\u001b[0;34m(\u001b[0m\u001b[0mmodel\u001b[0m\u001b[0;34m,\u001b[0m \u001b[0mtrain_dataloader\u001b[0m\u001b[0;34m,\u001b[0m \u001b[0moptimizer\u001b[0m\u001b[0;34m,\u001b[0m \u001b[0mcriterion\u001b[0m\u001b[0;34m,\u001b[0m \u001b[0mCLIP\u001b[0m\u001b[0;34m)\u001b[0m\u001b[0;34m\u001b[0m\u001b[0;34m\u001b[0m\u001b[0m\n\u001b[0m\u001b[1;32m     11\u001b[0m     \u001b[0mvalid_loss\u001b[0m \u001b[0;34m=\u001b[0m \u001b[0mevaluate\u001b[0m\u001b[0;34m(\u001b[0m\u001b[0mmodel\u001b[0m\u001b[0;34m,\u001b[0m \u001b[0mval_dataloader\u001b[0m\u001b[0;34m,\u001b[0m \u001b[0mcriterion\u001b[0m\u001b[0;34m)\u001b[0m\u001b[0;34m\u001b[0m\u001b[0;34m\u001b[0m\u001b[0m\n\u001b[1;32m     12\u001b[0m \u001b[0;34m\u001b[0m\u001b[0m\n",
            "\u001b[0;32m<ipython-input-76-e66c149adc4a>\u001b[0m in \u001b[0;36mtrain\u001b[0;34m(model, iterator, optimizer, criterion, clip)\u001b[0m\n\u001b[1;32m     26\u001b[0m         \u001b[0mloss\u001b[0m \u001b[0;34m=\u001b[0m \u001b[0mcriterion\u001b[0m\u001b[0;34m(\u001b[0m\u001b[0moutput\u001b[0m\u001b[0;34m,\u001b[0m \u001b[0mtgt\u001b[0m\u001b[0;34m)\u001b[0m\u001b[0;34m\u001b[0m\u001b[0;34m\u001b[0m\u001b[0m\n\u001b[1;32m     27\u001b[0m \u001b[0;34m\u001b[0m\u001b[0m\n\u001b[0;32m---> 28\u001b[0;31m         \u001b[0mloss\u001b[0m\u001b[0;34m.\u001b[0m\u001b[0mbackward\u001b[0m\u001b[0;34m(\u001b[0m\u001b[0;34m)\u001b[0m\u001b[0;34m\u001b[0m\u001b[0;34m\u001b[0m\u001b[0m\n\u001b[0m\u001b[1;32m     29\u001b[0m \u001b[0;34m\u001b[0m\u001b[0m\n\u001b[1;32m     30\u001b[0m         \u001b[0mtorch\u001b[0m\u001b[0;34m.\u001b[0m\u001b[0mnn\u001b[0m\u001b[0;34m.\u001b[0m\u001b[0mutils\u001b[0m\u001b[0;34m.\u001b[0m\u001b[0mclip_grad_norm_\u001b[0m\u001b[0;34m(\u001b[0m\u001b[0mmodel\u001b[0m\u001b[0;34m.\u001b[0m\u001b[0mparameters\u001b[0m\u001b[0;34m(\u001b[0m\u001b[0;34m)\u001b[0m\u001b[0;34m,\u001b[0m \u001b[0mclip\u001b[0m\u001b[0;34m)\u001b[0m\u001b[0;34m\u001b[0m\u001b[0;34m\u001b[0m\u001b[0m\n",
            "\u001b[0;32m/usr/local/lib/python3.7/dist-packages/torch/_tensor.py\u001b[0m in \u001b[0;36mbackward\u001b[0;34m(self, gradient, retain_graph, create_graph, inputs)\u001b[0m\n\u001b[1;32m    253\u001b[0m                 \u001b[0mcreate_graph\u001b[0m\u001b[0;34m=\u001b[0m\u001b[0mcreate_graph\u001b[0m\u001b[0;34m,\u001b[0m\u001b[0;34m\u001b[0m\u001b[0;34m\u001b[0m\u001b[0m\n\u001b[1;32m    254\u001b[0m                 inputs=inputs)\n\u001b[0;32m--> 255\u001b[0;31m         \u001b[0mtorch\u001b[0m\u001b[0;34m.\u001b[0m\u001b[0mautograd\u001b[0m\u001b[0;34m.\u001b[0m\u001b[0mbackward\u001b[0m\u001b[0;34m(\u001b[0m\u001b[0mself\u001b[0m\u001b[0;34m,\u001b[0m \u001b[0mgradient\u001b[0m\u001b[0;34m,\u001b[0m \u001b[0mretain_graph\u001b[0m\u001b[0;34m,\u001b[0m \u001b[0mcreate_graph\u001b[0m\u001b[0;34m,\u001b[0m \u001b[0minputs\u001b[0m\u001b[0;34m=\u001b[0m\u001b[0minputs\u001b[0m\u001b[0;34m)\u001b[0m\u001b[0;34m\u001b[0m\u001b[0;34m\u001b[0m\u001b[0m\n\u001b[0m\u001b[1;32m    256\u001b[0m \u001b[0;34m\u001b[0m\u001b[0m\n\u001b[1;32m    257\u001b[0m     \u001b[0;32mdef\u001b[0m \u001b[0mregister_hook\u001b[0m\u001b[0;34m(\u001b[0m\u001b[0mself\u001b[0m\u001b[0;34m,\u001b[0m \u001b[0mhook\u001b[0m\u001b[0;34m)\u001b[0m\u001b[0;34m:\u001b[0m\u001b[0;34m\u001b[0m\u001b[0;34m\u001b[0m\u001b[0m\n",
            "\u001b[0;32m/usr/local/lib/python3.7/dist-packages/torch/autograd/__init__.py\u001b[0m in \u001b[0;36mbackward\u001b[0;34m(tensors, grad_tensors, retain_graph, create_graph, grad_variables, inputs)\u001b[0m\n\u001b[1;32m    147\u001b[0m     Variable._execution_engine.run_backward(\n\u001b[1;32m    148\u001b[0m         \u001b[0mtensors\u001b[0m\u001b[0;34m,\u001b[0m \u001b[0mgrad_tensors_\u001b[0m\u001b[0;34m,\u001b[0m \u001b[0mretain_graph\u001b[0m\u001b[0;34m,\u001b[0m \u001b[0mcreate_graph\u001b[0m\u001b[0;34m,\u001b[0m \u001b[0minputs\u001b[0m\u001b[0;34m,\u001b[0m\u001b[0;34m\u001b[0m\u001b[0;34m\u001b[0m\u001b[0m\n\u001b[0;32m--> 149\u001b[0;31m         allow_unreachable=True, accumulate_grad=True)  # allow_unreachable flag\n\u001b[0m\u001b[1;32m    150\u001b[0m \u001b[0;34m\u001b[0m\u001b[0m\n\u001b[1;32m    151\u001b[0m \u001b[0;34m\u001b[0m\u001b[0m\n",
            "\u001b[0;31mKeyboardInterrupt\u001b[0m: "
          ]
        }
      ]
    },
    {
      "cell_type": "markdown",
      "metadata": {
        "id": "RpJLsb7GBDJT"
      },
      "source": [
        "Finally, we test the model on the test set using these \"best\" parameters."
      ]
    },
    {
      "cell_type": "code",
      "metadata": {
        "id": "RZQzPaKpBDJU",
        "colab": {
          "base_uri": "https://localhost:8080/"
        },
        "outputId": "f6a9637f-9e19-4f60-fdb6-9f00fe0f5c66"
      },
      "source": [
        "model.load_state_dict(torch.load('tut2-model.pt'))\n",
        "\n",
        "test_loss = evaluate(model, val_dataloader, criterion)\n",
        "\n",
        "print(f'| Test Loss: {test_loss:.3f} | Test PPL: {math.exp(test_loss):7.3f} |')"
      ],
      "execution_count": 82,
      "outputs": [
        {
          "output_type": "stream",
          "text": [
            "| Test Loss: 4.626 | Test PPL: 102.091 |\n"
          ],
          "name": "stdout"
        }
      ]
    },
    {
      "cell_type": "markdown",
      "metadata": {
        "id": "2m3qZoaVBDJU"
      },
      "source": [
        "Just looking at the test loss, we get better performance than the previous model. This is a pretty good sign that this model architecture is doing something right! Relieving the information compression seems like the way forard, and in the next tutorial we'll expand on this even further with *attention*."
      ]
    }
  ]
}