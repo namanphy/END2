{
  "nbformat": 4,
  "nbformat_minor": 0,
  "metadata": {
    "colab": {
      "name": "END2.0 Session 1.ipynb",
      "provenance": [],
      "collapsed_sections": [],
      "include_colab_link": true
    },
    "kernelspec": {
      "name": "python3",
      "display_name": "Python 3"
    },
    "language_info": {
      "name": "python"
    }
  },
  "cells": [
    {
      "cell_type": "markdown",
      "metadata": {
        "id": "view-in-github",
        "colab_type": "text"
      },
      "source": [
        "<a href=\"https://colab.research.google.com/github/namanphy/END2/blob/main/S1/END2_0_Session_1.ipynb\" target=\"_parent\"><img src=\"https://colab.research.google.com/assets/colab-badge.svg\" alt=\"Open In Colab\"/></a>"
      ]
    },
    {
      "cell_type": "code",
      "metadata": {
        "colab": {
          "base_uri": "https://localhost:8080/"
        },
        "id": "GC_6PeobwwkH",
        "outputId": "88a04ce9-a705-4af1-fd38-38c5d7bb1242"
      },
      "source": [
        "import torch\n",
        "from torch.autograd import Variable\n",
        "import torch.nn as nn\n",
        "import torch.nn.functional as F\n",
        "import torch.optim as optim\n",
        "import numpy as np\n",
        "import matplotlib.pyplot as plt\n",
        "%matplotlib inline\n",
        "torch.manual_seed(2)"
      ],
      "execution_count": 1,
      "outputs": [
        {
          "output_type": "execute_result",
          "data": {
            "text/plain": [
              "<torch._C.Generator at 0x7febadb598d0>"
            ]
          },
          "metadata": {
            "tags": []
          },
          "execution_count": 1
        }
      ]
    },
    {
      "cell_type": "code",
      "metadata": {
        "id": "bL64bMTkw2GP",
        "colab": {
          "base_uri": "https://localhost:8080/"
        },
        "outputId": "8ac6ca49-a877-4666-e855-207af37e5de5"
      },
      "source": [
        "X = torch.Tensor([[0,0], [0,1], [1,0], [1,1]])\n",
        "print(X.shape)\n",
        "Y = torch.Tensor([0, 1, 1, 0]).view(-1,1)\n",
        "print(Y.shape)"
      ],
      "execution_count": 2,
      "outputs": [
        {
          "output_type": "stream",
          "text": [
            "torch.Size([4, 2])\n",
            "torch.Size([4, 1])\n"
          ],
          "name": "stdout"
        }
      ]
    },
    {
      "cell_type": "code",
      "metadata": {
        "id": "aC82kEAIw3Wf"
      },
      "source": [
        "class XOR(nn.Module):\n",
        "    def __init__(self, input_dim = 2, output_dim=1):\n",
        "        super(XOR, self).__init__()\n",
        "        self.lin1 = nn.Linear(input_dim, 5)\n",
        "        self.mid1 = nn.Linear(5, 4)\n",
        "        self.lin2 = nn.Linear(4, output_dim)\n",
        "    \n",
        "    def forward(self, x):\n",
        "        x = self.lin1(x)\n",
        "        x = F.tanh(x)\n",
        "        x = self.mid1(x)\n",
        "        x = F.tanh(x)\n",
        "        x = self.lin2(x)\n",
        "        return x"
      ],
      "execution_count": 18,
      "outputs": []
    },
    {
      "cell_type": "code",
      "metadata": {
        "colab": {
          "base_uri": "https://localhost:8080/"
        },
        "id": "8gQIQExYw65K",
        "outputId": "e6d79b64-4173-4747-ca27-1463cbc04013"
      },
      "source": [
        "model = XOR()\n",
        "print(model)\n",
        "from torchsummary import summary\n",
        "summary(model, (4,2))"
      ],
      "execution_count": 19,
      "outputs": [
        {
          "output_type": "stream",
          "text": [
            "XOR(\n",
            "  (lin1): Linear(in_features=2, out_features=5, bias=True)\n",
            "  (mid1): Linear(in_features=5, out_features=4, bias=True)\n",
            "  (lin2): Linear(in_features=4, out_features=1, bias=True)\n",
            ")\n",
            "----------------------------------------------------------------\n",
            "        Layer (type)               Output Shape         Param #\n",
            "================================================================\n",
            "            Linear-1                 [-1, 4, 5]              15\n",
            "            Linear-2                 [-1, 4, 4]              24\n",
            "            Linear-3                 [-1, 4, 1]               5\n",
            "================================================================\n",
            "Total params: 44\n",
            "Trainable params: 44\n",
            "Non-trainable params: 0\n",
            "----------------------------------------------------------------\n",
            "Input size (MB): 0.00\n",
            "Forward/backward pass size (MB): 0.00\n",
            "Params size (MB): 0.00\n",
            "Estimated Total Size (MB): 0.00\n",
            "----------------------------------------------------------------\n"
          ],
          "name": "stdout"
        },
        {
          "output_type": "stream",
          "text": [
            "/usr/local/lib/python3.7/dist-packages/torch/nn/functional.py:1698: UserWarning: nn.functional.tanh is deprecated. Use torch.tanh instead.\n",
            "  warnings.warn(\"nn.functional.tanh is deprecated. Use torch.tanh instead.\")\n"
          ],
          "name": "stderr"
        }
      ]
    },
    {
      "cell_type": "code",
      "metadata": {
        "id": "yeotEq19x6XF"
      },
      "source": [
        "def weights_init(model):\n",
        "    for m in model.modules():\n",
        "        if isinstance(m, nn.Linear):\n",
        "            # initialize the weight tensor, here we use a normal distribution\n",
        "            m.weight.data.normal_(0, 1)\n",
        "\n",
        "weights_init(model)"
      ],
      "execution_count": 20,
      "outputs": []
    },
    {
      "cell_type": "code",
      "metadata": {
        "id": "WrD_sNzLx78e",
        "colab": {
          "base_uri": "https://localhost:8080/"
        },
        "outputId": "88e0d467-c2ae-4809-d76f-6a6e3d625b89"
      },
      "source": [
        "loss_func = nn.L1Loss()\n",
        "loss_func"
      ],
      "execution_count": 23,
      "outputs": [
        {
          "output_type": "execute_result",
          "data": {
            "text/plain": [
              "L1Loss()"
            ]
          },
          "metadata": {
            "tags": []
          },
          "execution_count": 23
        }
      ]
    },
    {
      "cell_type": "code",
      "metadata": {
        "id": "-zvbrMd2x_lA"
      },
      "source": [
        "optimizer = optim.SGD(model.parameters(), lr=0.02, momentum=0.9)"
      ],
      "execution_count": 24,
      "outputs": []
    },
    {
      "cell_type": "code",
      "metadata": {
        "colab": {
          "base_uri": "https://localhost:8080/"
        },
        "id": "q7tWa3D7yA5X",
        "outputId": "ea4ae453-f566-4feb-8729-2fe158337c4a"
      },
      "source": [
        "epochs = 2001\n",
        "steps = X.size(0)\n",
        "for i in range(epochs):\n",
        "    for j in range(steps):\n",
        "        data_point = np.random.randint(X.size(0))\n",
        "        x_var = Variable(X[data_point], requires_grad=False)\n",
        "        y_var = Variable(Y[data_point], requires_grad=False)\n",
        "        \n",
        "        optimizer.zero_grad()\n",
        "        y_hat = model(x_var)\n",
        "        loss = loss_func.forward(y_hat, y_var)\n",
        "        loss.backward()\n",
        "        optimizer.step()\n",
        "        \n",
        "    if i % 50 == 0:\n",
        "        print( \"Epoch: {0}, Loss: {1}, \".format(i, loss.data.numpy()))"
      ],
      "execution_count": 25,
      "outputs": [
        {
          "output_type": "stream",
          "text": [
            "/usr/local/lib/python3.7/dist-packages/torch/nn/functional.py:1698: UserWarning: nn.functional.tanh is deprecated. Use torch.tanh instead.\n",
            "  warnings.warn(\"nn.functional.tanh is deprecated. Use torch.tanh instead.\")\n"
          ],
          "name": "stderr"
        },
        {
          "output_type": "stream",
          "text": [
            "Epoch: 0, Loss: 0.14974650740623474, \n",
            "Epoch: 50, Loss: 1.1344637870788574, \n",
            "Epoch: 100, Loss: 0.17361465096473694, \n",
            "Epoch: 150, Loss: 0.038884520530700684, \n",
            "Epoch: 200, Loss: 0.3030250072479248, \n",
            "Epoch: 250, Loss: 0.0339970663189888, \n",
            "Epoch: 300, Loss: 0.09282106161117554, \n",
            "Epoch: 350, Loss: 0.037570953369140625, \n",
            "Epoch: 400, Loss: 0.1457585096359253, \n",
            "Epoch: 450, Loss: 0.20678481459617615, \n",
            "Epoch: 500, Loss: 0.08914316445589066, \n",
            "Epoch: 550, Loss: 0.29357242584228516, \n",
            "Epoch: 600, Loss: 0.15935146808624268, \n",
            "Epoch: 650, Loss: 0.05230855941772461, \n",
            "Epoch: 700, Loss: 0.07267247140407562, \n",
            "Epoch: 750, Loss: 0.00674515962600708, \n",
            "Epoch: 800, Loss: 0.19342762231826782, \n",
            "Epoch: 850, Loss: 0.13216590881347656, \n",
            "Epoch: 900, Loss: 0.13211536407470703, \n",
            "Epoch: 950, Loss: 0.19621288776397705, \n",
            "Epoch: 1000, Loss: 0.10140371322631836, \n",
            "Epoch: 1050, Loss: 0.3241773545742035, \n",
            "Epoch: 1100, Loss: 0.1174972653388977, \n",
            "Epoch: 1150, Loss: 0.2949484586715698, \n",
            "Epoch: 1200, Loss: 0.27894240617752075, \n",
            "Epoch: 1250, Loss: 0.26670950651168823, \n",
            "Epoch: 1300, Loss: 0.14735829830169678, \n",
            "Epoch: 1350, Loss: 0.3216419219970703, \n",
            "Epoch: 1400, Loss: 0.5066180229187012, \n",
            "Epoch: 1450, Loss: 0.285413920879364, \n",
            "Epoch: 1500, Loss: 0.6140965223312378, \n",
            "Epoch: 1550, Loss: 0.6354700326919556, \n",
            "Epoch: 1600, Loss: 0.3691234588623047, \n",
            "Epoch: 1650, Loss: 0.10091881453990936, \n",
            "Epoch: 1700, Loss: 0.1991872787475586, \n",
            "Epoch: 1750, Loss: 0.23004460334777832, \n",
            "Epoch: 1800, Loss: 0.03198783099651337, \n",
            "Epoch: 1850, Loss: 0.26656341552734375, \n",
            "Epoch: 1900, Loss: 0.024096965789794922, \n",
            "Epoch: 1950, Loss: 0.01869511604309082, \n",
            "Epoch: 2000, Loss: 0.13649213314056396, \n"
          ],
          "name": "stdout"
        }
      ]
    },
    {
      "cell_type": "code",
      "metadata": {
        "id": "QV0dIdveyCRi"
      },
      "source": [
        ""
      ],
      "execution_count": null,
      "outputs": []
    }
  ]
}