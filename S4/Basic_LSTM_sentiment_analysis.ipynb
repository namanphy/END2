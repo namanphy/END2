{
  "nbformat": 4,
  "nbformat_minor": 0,
  "metadata": {
    "colab": {
      "name": "Basic_LSTM_sentiment_analysis.ipynb",
      "provenance": [],
      "include_colab_link": true
    },
    "kernelspec": {
      "display_name": "Python 3",
      "name": "python3"
    },
    "language_info": {
      "name": "python"
    },
    "accelerator": "GPU"
  },
  "cells": [
    {
      "cell_type": "markdown",
      "metadata": {
        "id": "view-in-github",
        "colab_type": "text"
      },
      "source": [
        "<a href=\"https://colab.research.google.com/github/namanphy/END2/blob/main/S4/Basic_LSTM_sentiment_analysis.ipynb\" target=\"_parent\"><img src=\"https://colab.research.google.com/assets/colab-badge.svg\" alt=\"Open In Colab\"/></a>"
      ]
    },
    {
      "cell_type": "code",
      "metadata": {
        "id": "4SPhj6gnAnT2"
      },
      "source": [
        "import torch\n",
        "from torchtext.legacy import data\n",
        "\n",
        "SEED = 1234\n",
        "\n",
        "torch.manual_seed(SEED)\n",
        "torch.backends.cudnn.deterministic = True\n",
        "\n",
        "TEXT = data.Field(tokenize = 'spacy', tokenizer_language = 'en_core_web_sm')\n",
        "LABEL = data.LabelField(dtype = torch.float)"
      ],
      "execution_count": 1,
      "outputs": []
    },
    {
      "cell_type": "code",
      "metadata": {
        "colab": {
          "base_uri": "https://localhost:8080/"
        },
        "id": "lwn4oStE6PzV",
        "outputId": "19e4cc1d-14cf-4658-c5cc-29dd7941f0ec"
      },
      "source": [
        "from torchtext.legacy import datasets\n",
        "\n",
        "train_data, test_data = datasets.IMDB.splits(TEXT, LABEL)"
      ],
      "execution_count": 2,
      "outputs": [
        {
          "output_type": "stream",
          "text": [
            "downloading aclImdb_v1.tar.gz\n"
          ],
          "name": "stdout"
        },
        {
          "output_type": "stream",
          "text": [
            "aclImdb_v1.tar.gz: 100%|██████████| 84.1M/84.1M [00:05<00:00, 15.7MB/s]\n"
          ],
          "name": "stderr"
        }
      ]
    },
    {
      "cell_type": "code",
      "metadata": {
        "colab": {
          "base_uri": "https://localhost:8080/"
        },
        "id": "kVhsPu5juk5v",
        "outputId": "b837c5c6-f5e3-4f90-9964-0ac6878715c7"
      },
      "source": [
        "TEXT"
      ],
      "execution_count": 12,
      "outputs": [
        {
          "output_type": "execute_result",
          "data": {
            "text/plain": [
              "<torchtext.legacy.data.field.Field at 0x7f184ec7a210>"
            ]
          },
          "metadata": {
            "tags": []
          },
          "execution_count": 12
        }
      ]
    },
    {
      "cell_type": "code",
      "metadata": {
        "colab": {
          "base_uri": "https://localhost:8080/"
        },
        "id": "5DLJ86m56Xdn",
        "outputId": "594330e1-ee4f-4a5a-e2c7-3e9583d3df16"
      },
      "source": [
        "print(f'Number of training examples: {len(train_data)}')\n",
        "print(f'Number of testing examples: {len(test_data)}')"
      ],
      "execution_count": 6,
      "outputs": [
        {
          "output_type": "stream",
          "text": [
            "Number of training examples: 25000\n",
            "Number of testing examples: 25000\n"
          ],
          "name": "stdout"
        }
      ]
    },
    {
      "cell_type": "code",
      "metadata": {
        "colab": {
          "base_uri": "https://localhost:8080/"
        },
        "id": "iXTWwqXA6rP2",
        "outputId": "cf69cc37-3986-49c6-f9e8-492f54b6dcba"
      },
      "source": [
        "print(vars(train_data.examples[0]))"
      ],
      "execution_count": 13,
      "outputs": [
        {
          "output_type": "stream",
          "text": [
            "{'text': ['Before', 'Cujo', ',', 'there', 'was', 'Lucky', 'the', 'devil', 'dog', '.', 'In', '1978,on', 'Halloween', 'night', 'the', 'movie\"Devil', 'Dog', ',', 'The', 'Hound', 'of', 'Hell', '\"', 'premiered', '.', 'A', 'story', 'of', 'a', 'family', 'getting', 'a', 'new', 'puppy', '(', 'from', 'a', 'farmer', 'who', 'just', 'happen', 'to', 'be', 'in', 'the', 'neighborhood', 'selling', 'fruits', 'and', 'vegetables', ')', 'because', 'their', 'dog', 'Skipper', 'was', 'killed', '.', 'Coencidence', '?', 'Everyone', 'loves', 'the', 'new', 'dog', ',', 'but', 'there', 'is', 'something', 'strange', 'about', 'him', '.', '<', 'br', '/><br', '/>It', 'is', \"n't\", 'long', 'until', 'the', 'father', 'Mike', 'Barry(Richard', 'Crenna', ',', 'First', 'Blood)starts', 'to', 'notice', '.', 'His', 'wife', 'Betty(Yvette', 'Mimieux', ',', 'Where', 'The', 'Boys', 'Are', ',', 'Jackson', 'County', 'Jail', ',', 'Snowbeast)is', 'different', 'and', 'his', 'kids', 'Charlie', 'and', 'Bonnie(Ike', 'Eisenman', ',', 'Witch', 'Mountain', 'and', 'Fantastic', 'Vourage', 'and', 'Kim', 'Richards', ',', 'Witch', 'Mountain', ',', 'Nanny', 'and', 'the', 'Professor', ',', 'Hello', 'Larry', ',', 'Tuff', '-', 'Turf)also', 'have', 'changed', '.', 'Does', 'the', 'dog', 'have', 'something', 'to', 'do', 'with', 'it', '?', 'He', \"'s\", 'determined', 'to', 'find', 'out', 'and', 'do', 'whatever', 'it', 'takes', 'to', 'save', 'his', 'family.<br', '/><br', '/>This', 'movie', 'is', 'great', 'because', 'it', 'has', 'Ike', 'and', 'Kim', 'playing', 'a', 'darker', 'side', 'of', 'themselves', 'than', 'what', 'we', 'saw', 'on', 'those', 'witch', 'mountain', 'movies', '.', 'This', 'is', 'one', 'of', 'the', 'many', '70', \"'s\", 'made', '-', 'for', '-', 'TV', 'horror', 'movies', 'that', 'was', 'actually', 'scary', 'for', 'a', 'made', '-', 'for', '-', 'TV', 'horror', 'movie', '.', 'The', 'music', 'was', 'creepy', 'and', 'even', 'the', 'ending', 'which', 'I', 'wo', \"n't\", 'tell', 'made', 'you', 'think.<br', '/><br', '/>This', 'movie', 'also', 'stars', 'Ken', 'Kercheval(Cliff', 'Barnes', 'of', 'Dallas)and', 'R.G.', 'Armstrong(who', 'could', \"n't\", 'stay', 'away', 'from', 'devil', 'movies', 'remember\"Race', 'with', 'the', 'Devil\"?)<br', '/><br', '/>It', \"'s\", 'worth', 'watching', '.'], 'label': 'pos'}\n"
          ],
          "name": "stdout"
        }
      ]
    },
    {
      "cell_type": "code",
      "metadata": {
        "id": "3HMVqiZd6tR0"
      },
      "source": [
        "import random\n",
        "\n",
        "train_data, valid_data = train_data.split(random_state = random.seed(SEED))"
      ],
      "execution_count": 15,
      "outputs": []
    },
    {
      "cell_type": "code",
      "metadata": {
        "colab": {
          "base_uri": "https://localhost:8080/"
        },
        "id": "uOeQ6KpP7M-0",
        "outputId": "e9b2de69-259c-4f3d-e172-bd01766c023c"
      },
      "source": [
        "print(f'Number of training examples: {len(train_data)}')\n",
        "print(f'Number of validation examples: {len(valid_data)}')\n",
        "print(f'Number of testing examples: {len(test_data)}')"
      ],
      "execution_count": 17,
      "outputs": [
        {
          "output_type": "stream",
          "text": [
            "Number of training examples: 12250\n",
            "Number of validation examples: 5250\n",
            "Number of testing examples: 25000\n"
          ],
          "name": "stdout"
        }
      ]
    },
    {
      "cell_type": "code",
      "metadata": {
        "id": "KixkM1jQ7TB-"
      },
      "source": [
        "MAX_VOCAB_SIZE = 25_000\n",
        "\n",
        "TEXT.build_vocab(train_data, max_size = MAX_VOCAB_SIZE)\n",
        "LABEL.build_vocab(train_data)"
      ],
      "execution_count": 18,
      "outputs": []
    },
    {
      "cell_type": "code",
      "metadata": {
        "colab": {
          "base_uri": "https://localhost:8080/"
        },
        "id": "hD4SFKnc7g0D",
        "outputId": "4a930001-fb5e-4441-93fd-9db5eae6a194"
      },
      "source": [
        "print(f\"Unique tokens in TEXT vocabulary: {len(TEXT.vocab)}\")\n",
        "print(f\"Unique tokens in LABEL vocabulary: {len(LABEL.vocab)}\")"
      ],
      "execution_count": 19,
      "outputs": [
        {
          "output_type": "stream",
          "text": [
            "Unique tokens in TEXT vocabulary: 25002\n",
            "Unique tokens in LABEL vocabulary: 2\n"
          ],
          "name": "stdout"
        }
      ]
    },
    {
      "cell_type": "code",
      "metadata": {
        "colab": {
          "base_uri": "https://localhost:8080/"
        },
        "id": "ttKvFTCQ7isK",
        "outputId": "7245d719-ac08-41f4-d157-75c6dd8043b1"
      },
      "source": [
        "# Most frequent words\n",
        "print(TEXT.vocab.freqs.most_common(20))"
      ],
      "execution_count": 20,
      "outputs": [
        {
          "output_type": "stream",
          "text": [
            "[('the', 141851), (',', 134260), ('.', 116080), ('and', 76309), ('a', 76009), ('of', 70244), ('to', 65460), ('is', 53267), ('in', 42898), ('I', 38163), ('it', 37518), ('that', 34589), ('\"', 30789), (\"'s\", 30527), ('this', 29715), ('-', 25762), ('/><br', 24684), ('was', 24671), ('as', 21302), ('with', 20995)]\n"
          ],
          "name": "stdout"
        }
      ]
    },
    {
      "cell_type": "code",
      "metadata": {
        "colab": {
          "base_uri": "https://localhost:8080/"
        },
        "id": "fZXIsIV47mlI",
        "outputId": "d689dcdb-68d8-4d20-8f7f-d8105c930e9d"
      },
      "source": [
        "# Interger to strings\n",
        "\n",
        "print(TEXT.vocab.itos[:10])"
      ],
      "execution_count": 21,
      "outputs": [
        {
          "output_type": "stream",
          "text": [
            "['<unk>', '<pad>', 'the', ',', '.', 'and', 'a', 'of', 'to', 'is']\n"
          ],
          "name": "stdout"
        }
      ]
    },
    {
      "cell_type": "code",
      "metadata": {
        "id": "vmbx3T9-7x4g",
        "colab": {
          "base_uri": "https://localhost:8080/"
        },
        "outputId": "ca72e4b6-351e-40f8-fb7c-b670adc49112"
      },
      "source": [
        "print(LABEL.vocab.stoi)"
      ],
      "execution_count": 22,
      "outputs": [
        {
          "output_type": "stream",
          "text": [
            "defaultdict(None, {'neg': 0, 'pos': 1})\n"
          ],
          "name": "stdout"
        }
      ]
    },
    {
      "cell_type": "markdown",
      "metadata": {
        "id": "8Dd8J_VNe-X6"
      },
      "source": [
        "## Creating Iterators"
      ]
    },
    {
      "cell_type": "code",
      "metadata": {
        "id": "B3gBfP6mEJ_0"
      },
      "source": [
        "BATCH_SIZE = 64\n",
        "\n",
        "device = torch.device('cuda' if torch.cuda.is_available() else 'cpu')\n",
        "\n",
        "train_iterator, valid_iterator, test_iterator = data.BucketIterator.splits(\n",
        "    (train_data, valid_data, test_data), \n",
        "    batch_size = BATCH_SIZE,\n",
        "    device = device)"
      ],
      "execution_count": 36,
      "outputs": []
    },
    {
      "cell_type": "markdown",
      "metadata": {
        "id": "Ht-snY84fM0J"
      },
      "source": [
        "## Building Model\n",
        "\n",
        "\n",
        "### Using LSTM's hidden state to pass through FC for final output."
      ]
    },
    {
      "cell_type": "code",
      "metadata": {
        "id": "E2ZQQV1-ELZf"
      },
      "source": [
        "import torch.nn as nn\n",
        "\n",
        "class LSTM(nn.Module):\n",
        "    def __init__(self, input_dim, embedding_dim, hidden_dim, output_dim):\n",
        "        \n",
        "        super().__init__()\n",
        "        \n",
        "        self.embedding = nn.Embedding(input_dim, embedding_dim)\n",
        "        \n",
        "        self.lstm = nn.LSTM(embedding_dim, hidden_dim)\n",
        "        \n",
        "        self.fc1 = nn.Sequential(\n",
        "            nn.Linear(hidden_dim, 128),\n",
        "            nn.ReLU()\n",
        "        )\n",
        "        self.fc2 = nn.Linear(128, output_dim)\n",
        "        \n",
        "    def forward(self, text):\n",
        "\n",
        "        #text = [sent len, batch size]\n",
        "        \n",
        "        embedded = self.embedding(text)\n",
        "        \n",
        "        #embedded = [sent len, batch size, emb dim]\n",
        "\n",
        "        output, (hidden, cell_state) = self.lstm(embedded)\n",
        "        \n",
        "        #output = [sent len, batch size, hid dim]\n",
        "        #hidden = [1, batch size, hid dim]\n",
        "\n",
        "        # print('ALRIGHT TILL HERE')\n",
        "        # print(hidden)\n",
        "\n",
        "        assert torch.equal(output[-1,:,:], hidden.squeeze(0))\n",
        "        return self.fc2(self.fc1(hidden.squeeze(0)))"
      ],
      "execution_count": 37,
      "outputs": []
    },
    {
      "cell_type": "code",
      "metadata": {
        "id": "x0_X5kSwENad"
      },
      "source": [
        "# Specifying Dimensions\n",
        "INPUT_DIM = len(TEXT.vocab)\n",
        "EMBEDDING_DIM = 100\n",
        "HIDDEN_DIM = 256\n",
        "OUTPUT_DIM = 1\n",
        "\n",
        "# Model Instantiation\n",
        "model = LSTM(INPUT_DIM, EMBEDDING_DIM, HIDDEN_DIM, OUTPUT_DIM)"
      ],
      "execution_count": 38,
      "outputs": []
    },
    {
      "cell_type": "code",
      "metadata": {
        "colab": {
          "base_uri": "https://localhost:8080/"
        },
        "id": "VdGb8dKBEO2x",
        "outputId": "81827742-fd33-4e76-f39b-e79ad6db2c1b"
      },
      "source": [
        "def count_parameters(model):\n",
        "    return sum(p.numel() for p in model.parameters() if p.requires_grad)\n",
        "\n",
        "print(f'The model has {count_parameters(model):,} trainable parameters')"
      ],
      "execution_count": 39,
      "outputs": [
        {
          "output_type": "stream",
          "text": [
            "The model has 2,899,817 trainable parameters\n"
          ],
          "name": "stdout"
        }
      ]
    },
    {
      "cell_type": "code",
      "metadata": {
        "id": "AAeEtXiJEQCj"
      },
      "source": [
        "import torch.optim as optim\n",
        "\n",
        "optimizer = optim.Adam(model.parameters(), lr=1e-3)"
      ],
      "execution_count": 40,
      "outputs": []
    },
    {
      "cell_type": "code",
      "metadata": {
        "id": "0Utp4-qAERRG"
      },
      "source": [
        "criterion = nn.BCEWithLogitsLoss()"
      ],
      "execution_count": 41,
      "outputs": []
    },
    {
      "cell_type": "code",
      "metadata": {
        "id": "PyAXf58FESdL"
      },
      "source": [
        "model = model.to(device)\n",
        "criterion = criterion.to(device)"
      ],
      "execution_count": 42,
      "outputs": []
    },
    {
      "cell_type": "code",
      "metadata": {
        "id": "w4yNiGXQETh9"
      },
      "source": [
        "def binary_accuracy(preds, y):\n",
        "    \"\"\"\n",
        "    Returns accuracy per batch, i.e. if you get 8/10 right, this returns 0.8, NOT 8\n",
        "    \"\"\"\n",
        "\n",
        "    #round predictions to the closest integer\n",
        "    rounded_preds = torch.round(torch.sigmoid(preds))\n",
        "    correct = (rounded_preds == y).float() #convert into float for division \n",
        "    acc = correct.sum() / len(correct)\n",
        "    return acc"
      ],
      "execution_count": 43,
      "outputs": []
    },
    {
      "cell_type": "markdown",
      "metadata": {
        "id": "WbCKlFRzh5bf"
      },
      "source": [
        "## Train / Test loop"
      ]
    },
    {
      "cell_type": "code",
      "metadata": {
        "id": "N1iGJW1wEUrL"
      },
      "source": [
        "def train(model, iterator, optimizer, criterion):\n",
        "    \n",
        "    epoch_loss = 0\n",
        "    epoch_acc = 0\n",
        "    \n",
        "    model.train()\n",
        "    \n",
        "    for batch in iterator:\n",
        "        \n",
        "        optimizer.zero_grad()\n",
        "                \n",
        "        predictions = model(batch.text).squeeze(1)\n",
        "        \n",
        "        loss = criterion(predictions, batch.label)\n",
        "        \n",
        "        acc = binary_accuracy(predictions, batch.label)\n",
        "        \n",
        "        loss.backward()\n",
        "        \n",
        "        optimizer.step()\n",
        "        \n",
        "        epoch_loss += loss.item()\n",
        "        epoch_acc += acc.item()\n",
        "        \n",
        "    return epoch_loss / len(iterator), epoch_acc / len(iterator)"
      ],
      "execution_count": 44,
      "outputs": []
    },
    {
      "cell_type": "code",
      "metadata": {
        "id": "HNQxQS3tEWUW"
      },
      "source": [
        "def evaluate(model, iterator, criterion):\n",
        "    \n",
        "    epoch_loss = 0\n",
        "    epoch_acc = 0\n",
        "    \n",
        "    model.eval()\n",
        "    \n",
        "    with torch.no_grad():\n",
        "    \n",
        "        for batch in iterator:\n",
        "\n",
        "            predictions = model(batch.text).squeeze(1)\n",
        "            \n",
        "            loss = criterion(predictions, batch.label)\n",
        "            \n",
        "            acc = binary_accuracy(predictions, batch.label)\n",
        "\n",
        "            epoch_loss += loss.item()\n",
        "            epoch_acc += acc.item()\n",
        "        \n",
        "    return epoch_loss / len(iterator), epoch_acc / len(iterator)"
      ],
      "execution_count": 45,
      "outputs": []
    },
    {
      "cell_type": "code",
      "metadata": {
        "id": "DVM8MtV6EYIw"
      },
      "source": [
        "import time\n",
        "\n",
        "def epoch_time(start_time, end_time):\n",
        "    elapsed_time = end_time - start_time\n",
        "    elapsed_mins = int(elapsed_time / 60)\n",
        "    elapsed_secs = int(elapsed_time - (elapsed_mins * 60))\n",
        "    return elapsed_mins, elapsed_secs"
      ],
      "execution_count": 46,
      "outputs": []
    },
    {
      "cell_type": "markdown",
      "metadata": {
        "id": "R0K7vyHO2PsJ"
      },
      "source": [
        "## Training"
      ]
    },
    {
      "cell_type": "code",
      "metadata": {
        "colab": {
          "base_uri": "https://localhost:8080/"
        },
        "id": "yJ5KZmM4EZXW",
        "outputId": "6fca80b8-5bd6-4f2e-975e-af4c091cb534"
      },
      "source": [
        "N_EPOCHS = 40\n",
        "\n",
        "best_valid_loss = float('inf')\n",
        "\n",
        "for epoch in range(N_EPOCHS):\n",
        "\n",
        "    start_time = time.time()\n",
        "    \n",
        "    train_loss, train_acc = train(model, train_iterator, optimizer, criterion)\n",
        "    valid_loss, valid_acc = evaluate(model, valid_iterator, criterion)\n",
        "    \n",
        "    end_time = time.time()\n",
        "\n",
        "    epoch_mins, epoch_secs = epoch_time(start_time, end_time)\n",
        "    \n",
        "    if valid_loss < best_valid_loss:\n",
        "        best_valid_loss = valid_loss\n",
        "        torch.save(model.state_dict(), 'tut1-model.pt')\n",
        "    \n",
        "    print(f'Epoch: {epoch+1:02} | Epoch Time: {epoch_mins}m {epoch_secs}s')\n",
        "    print(f' | Train Loss: {train_loss:.3f} | Train Acc: {train_acc*100:.2f}%')\n",
        "    print(f' | Val. Loss: {valid_loss:.3f} |  Val. Acc: {valid_acc*100:.2f}%')"
      ],
      "execution_count": 47,
      "outputs": [
        {
          "output_type": "stream",
          "text": [
            "Epoch: 01 | Epoch Time: 0m 50s\n",
            " | Train Loss: 0.694 | Train Acc: 50.00%\n",
            " | Val. Loss: 0.693 |  Val. Acc: 50.64%\n",
            "Epoch: 02 | Epoch Time: 0m 51s\n",
            " | Train Loss: 0.693 | Train Acc: 50.21%\n",
            " | Val. Loss: 0.693 |  Val. Acc: 50.58%\n",
            "Epoch: 03 | Epoch Time: 0m 50s\n",
            " | Train Loss: 0.693 | Train Acc: 50.31%\n",
            " | Val. Loss: 0.693 |  Val. Acc: 49.94%\n",
            "Epoch: 04 | Epoch Time: 0m 50s\n",
            " | Train Loss: 0.693 | Train Acc: 50.53%\n",
            " | Val. Loss: 0.693 |  Val. Acc: 49.94%\n",
            "Epoch: 05 | Epoch Time: 0m 50s\n",
            " | Train Loss: 0.693 | Train Acc: 50.56%\n",
            " | Val. Loss: 0.696 |  Val. Acc: 50.79%\n",
            "Epoch: 06 | Epoch Time: 0m 50s\n",
            " | Train Loss: 0.692 | Train Acc: 50.73%\n",
            " | Val. Loss: 0.700 |  Val. Acc: 49.57%\n",
            "Epoch: 07 | Epoch Time: 0m 50s\n",
            " | Train Loss: 0.692 | Train Acc: 50.85%\n",
            " | Val. Loss: 0.695 |  Val. Acc: 50.53%\n",
            "Epoch: 08 | Epoch Time: 0m 50s\n",
            " | Train Loss: 0.691 | Train Acc: 50.95%\n",
            " | Val. Loss: 0.699 |  Val. Acc: 50.73%\n",
            "Epoch: 09 | Epoch Time: 0m 51s\n",
            " | Train Loss: 0.689 | Train Acc: 50.54%\n",
            " | Val. Loss: 0.706 |  Val. Acc: 51.13%\n",
            "Epoch: 10 | Epoch Time: 0m 50s\n",
            " | Train Loss: 0.688 | Train Acc: 50.86%\n",
            " | Val. Loss: 0.718 |  Val. Acc: 50.79%\n",
            "Epoch: 11 | Epoch Time: 0m 50s\n",
            " | Train Loss: 0.688 | Train Acc: 51.17%\n",
            " | Val. Loss: 0.710 |  Val. Acc: 51.83%\n",
            "Epoch: 12 | Epoch Time: 0m 50s\n",
            " | Train Loss: 0.687 | Train Acc: 51.20%\n",
            " | Val. Loss: 0.721 |  Val. Acc: 52.26%\n",
            "Epoch: 13 | Epoch Time: 0m 51s\n",
            " | Train Loss: 0.686 | Train Acc: 50.44%\n",
            " | Val. Loss: 0.731 |  Val. Acc: 52.01%\n",
            "Epoch: 14 | Epoch Time: 0m 50s\n",
            " | Train Loss: 0.687 | Train Acc: 51.16%\n",
            " | Val. Loss: 0.710 |  Val. Acc: 51.58%\n",
            "Epoch: 15 | Epoch Time: 0m 50s\n",
            " | Train Loss: 0.686 | Train Acc: 51.21%\n",
            " | Val. Loss: 0.735 |  Val. Acc: 50.87%\n",
            "Epoch: 16 | Epoch Time: 0m 50s\n",
            " | Train Loss: 0.685 | Train Acc: 51.27%\n",
            " | Val. Loss: 0.738 |  Val. Acc: 51.92%\n",
            "Epoch: 17 | Epoch Time: 0m 50s\n",
            " | Train Loss: 0.685 | Train Acc: 51.19%\n",
            " | Val. Loss: 0.752 |  Val. Acc: 53.50%\n",
            "Epoch: 18 | Epoch Time: 0m 50s\n",
            " | Train Loss: 0.684 | Train Acc: 51.30%\n",
            " | Val. Loss: 0.769 |  Val. Acc: 51.94%\n",
            "Epoch: 19 | Epoch Time: 0m 51s\n",
            " | Train Loss: 0.684 | Train Acc: 51.37%\n",
            " | Val. Loss: 0.764 |  Val. Acc: 53.22%\n",
            "Epoch: 20 | Epoch Time: 0m 50s\n",
            " | Train Loss: 0.684 | Train Acc: 51.30%\n",
            " | Val. Loss: 0.768 |  Val. Acc: 53.29%\n",
            "Epoch: 21 | Epoch Time: 0m 50s\n",
            " | Train Loss: 0.685 | Train Acc: 51.32%\n",
            " | Val. Loss: 0.741 |  Val. Acc: 53.69%\n",
            "Epoch: 22 | Epoch Time: 0m 50s\n",
            " | Train Loss: 0.684 | Train Acc: 51.37%\n",
            " | Val. Loss: 0.735 |  Val. Acc: 53.16%\n",
            "Epoch: 23 | Epoch Time: 0m 50s\n",
            " | Train Loss: 0.684 | Train Acc: 51.71%\n",
            " | Val. Loss: 0.773 |  Val. Acc: 51.24%\n",
            "Epoch: 24 | Epoch Time: 0m 50s\n",
            " | Train Loss: 0.655 | Train Acc: 61.35%\n",
            " | Val. Loss: 0.672 |  Val. Acc: 65.34%\n",
            "Epoch: 25 | Epoch Time: 0m 50s\n",
            " | Train Loss: 0.559 | Train Acc: 73.52%\n",
            " | Val. Loss: 0.593 |  Val. Acc: 71.22%\n",
            "Epoch: 26 | Epoch Time: 0m 50s\n",
            " | Train Loss: 0.450 | Train Acc: 80.91%\n",
            " | Val. Loss: 0.560 |  Val. Acc: 75.53%\n",
            "Epoch: 27 | Epoch Time: 0m 50s\n",
            " | Train Loss: 0.325 | Train Acc: 87.83%\n",
            " | Val. Loss: 0.591 |  Val. Acc: 75.55%\n",
            "Epoch: 28 | Epoch Time: 0m 50s\n",
            " | Train Loss: 0.228 | Train Acc: 92.17%\n",
            " | Val. Loss: 0.611 |  Val. Acc: 78.18%\n",
            "Epoch: 29 | Epoch Time: 0m 50s\n",
            " | Train Loss: 0.183 | Train Acc: 93.93%\n",
            " | Val. Loss: 0.634 |  Val. Acc: 79.10%\n",
            "Epoch: 30 | Epoch Time: 0m 50s\n",
            " | Train Loss: 0.111 | Train Acc: 97.00%\n",
            " | Val. Loss: 0.689 |  Val. Acc: 78.75%\n",
            "Epoch: 31 | Epoch Time: 0m 50s\n",
            " | Train Loss: 0.096 | Train Acc: 97.36%\n",
            " | Val. Loss: 0.748 |  Val. Acc: 79.25%\n",
            "Epoch: 32 | Epoch Time: 0m 51s\n",
            " | Train Loss: 0.084 | Train Acc: 97.69%\n",
            " | Val. Loss: 0.743 |  Val. Acc: 79.01%\n",
            "Epoch: 33 | Epoch Time: 0m 51s\n",
            " | Train Loss: 0.051 | Train Acc: 98.89%\n",
            " | Val. Loss: 0.800 |  Val. Acc: 79.35%\n",
            "Epoch: 34 | Epoch Time: 0m 49s\n",
            " | Train Loss: 0.037 | Train Acc: 99.33%\n",
            " | Val. Loss: 0.827 |  Val. Acc: 79.84%\n",
            "Epoch: 35 | Epoch Time: 0m 50s\n",
            " | Train Loss: 0.031 | Train Acc: 99.50%\n",
            " | Val. Loss: 0.845 |  Val. Acc: 79.61%\n",
            "Epoch: 36 | Epoch Time: 0m 50s\n",
            " | Train Loss: 0.027 | Train Acc: 99.51%\n",
            " | Val. Loss: 0.885 |  Val. Acc: 80.10%\n",
            "Epoch: 37 | Epoch Time: 0m 50s\n",
            " | Train Loss: 0.021 | Train Acc: 99.70%\n",
            " | Val. Loss: 0.911 |  Val. Acc: 80.18%\n",
            "Epoch: 38 | Epoch Time: 0m 50s\n",
            " | Train Loss: 0.023 | Train Acc: 99.58%\n",
            " | Val. Loss: 0.952 |  Val. Acc: 79.48%\n",
            "Epoch: 39 | Epoch Time: 0m 50s\n",
            " | Train Loss: 0.039 | Train Acc: 98.95%\n",
            " | Val. Loss: 0.931 |  Val. Acc: 79.20%\n",
            "Epoch: 40 | Epoch Time: 0m 50s\n",
            " | Train Loss: 0.021 | Train Acc: 99.53%\n",
            " | Val. Loss: 0.951 |  Val. Acc: 79.76%\n"
          ],
          "name": "stdout"
        }
      ]
    },
    {
      "cell_type": "code",
      "metadata": {
        "colab": {
          "base_uri": "https://localhost:8080/"
        },
        "id": "qIiKAJMaEbKO",
        "outputId": "439dc89c-068c-42cf-db8e-b8924e70d622"
      },
      "source": [
        "model.load_state_dict(torch.load('tut1-model.pt'))\n",
        "\n",
        "test_loss, test_acc = evaluate(model, test_iterator, criterion)\n",
        "\n",
        "print(f'Test Loss: {test_loss:.3f} | Test Acc: {test_acc*100:.2f}%')"
      ],
      "execution_count": 48,
      "outputs": [
        {
          "output_type": "stream",
          "text": [
            "Test Loss: 0.652 | Test Acc: 73.10%\n"
          ],
          "name": "stdout"
        }
      ]
    },
    {
      "cell_type": "markdown",
      "metadata": {
        "id": "MySb6WXQtsZN"
      },
      "source": [
        "### Better accuracy over RNN - if passing the final hidden state with two fully connected layers."
      ]
    },
    {
      "cell_type": "code",
      "metadata": {
        "colab": {
          "base_uri": "https://localhost:8080/"
        },
        "id": "Gus5WAO5tmTo",
        "outputId": "bfac16b4-706a-4f0e-9f4b-2493a90baec1"
      },
      "source": [
        "model.load_state_dict(torch.load('tut1-model.pt'))\n",
        "\n",
        "test_loss, test_acc = evaluate(model, test_iterator, criterion)\n",
        "\n",
        "print(f'Test Loss: {test_loss:.3f} | Test Acc: {test_acc*100:.2f}%')"
      ],
      "execution_count": null,
      "outputs": [
        {
          "output_type": "stream",
          "text": [
            "Test Loss: 0.693 | Test Acc: 52.39%\n"
          ],
          "name": "stdout"
        }
      ]
    },
    {
      "cell_type": "markdown",
      "metadata": {
        "id": "rY4kujP7oFEi"
      },
      "source": [
        "### **Using Adam as the optimizer - helped in reaching a high 99% accuracy on training data. And 79% on validation data.**\n",
        "\n",
        "### **On the Test data - accuracy reached 73%.**\n",
        "\n",
        "### Conclusion - The model is clearly overfitting and converging very slowly with taking a much time."
      ]
    },
    {
      "cell_type": "code",
      "metadata": {
        "id": "UvtBuHys9aFs"
      },
      "source": [
        ""
      ],
      "execution_count": 48,
      "outputs": []
    }
  ]
}