{
 "cells": [
  {
   "cell_type": "markdown",
   "metadata": {
    "id": "jofyc9OC4Qcf"
   },
   "source": [
    "# Imports"
   ]
  },
  {
   "cell_type": "code",
   "execution_count": 1,
   "metadata": {
    "id": "ahBVnrNc3E0U"
   },
   "outputs": [],
   "source": [
    "import numpy as np\n",
    "%matplotlib inline\n",
    "import matplotlib.pyplot as plt\n",
    "from IPython import display\n",
    "\n",
    "plt.style.use('seaborn-white')"
   ]
  },
  {
   "cell_type": "markdown",
   "metadata": {
    "id": "crQSAaIz4SkA"
   },
   "source": [
    "# Read and process data. \n",
    "\n",
    "Download the file from this URL: https://drive.google.com/file/d/1UWWIi-sz9g0x3LFvkIZjvK1r2ZaCqgGS/view?usp=sharing"
   ]
  },
  {
   "cell_type": "code",
   "execution_count": 2,
   "metadata": {
    "id": "rgOGxPDP3Wpp"
   },
   "outputs": [],
   "source": [
    "data = open('text.txt', 'r').read()"
   ]
  },
  {
   "cell_type": "markdown",
   "metadata": {
    "id": "ZeXXMLRb4kXb"
   },
   "source": [
    "Process data and calculate indices"
   ]
  },
  {
   "cell_type": "code",
   "execution_count": 3,
   "metadata": {
    "colab": {
     "base_uri": "https://localhost:8080/"
    },
    "id": "E5TKeiOp4jtl",
    "outputId": "e86fb70a-7f1c-4643-afda-da0c986d0549"
   },
   "outputs": [
    {
     "name": "stdout",
     "output_type": "stream",
     "text": [
      "Corona Virus article has 10245 characters, 79 unique characters\n"
     ]
    }
   ],
   "source": [
    "chars = list(set(data))\n",
    "data_size, X_size = len(data), len(chars)\n",
    "print(\"Corona Virus article has %d characters, %d unique characters\" %(data_size, X_size))\n",
    "char_to_idx = {ch:i for i,ch in enumerate(chars)}\n",
    "idx_to_char = {i:ch for i,ch in enumerate(chars)}"
   ]
  },
  {
   "cell_type": "markdown",
   "metadata": {
    "id": "4C53MB135LRY"
   },
   "source": [
    "# Constants and Hyperparameters"
   ]
  },
  {
   "cell_type": "code",
   "execution_count": 4,
   "metadata": {
    "colab": {
     "base_uri": "https://localhost:8080/"
    },
    "id": "XsyY2c8JfRGL",
    "outputId": "51ede596-262b-497e-b9f4-39b4fd08d2fb"
   },
   "outputs": [
    {
     "name": "stdout",
     "output_type": "stream",
     "text": [
      "79\n"
     ]
    }
   ],
   "source": [
    "print(X_size)"
   ]
  },
  {
   "cell_type": "code",
   "execution_count": 5,
   "metadata": {
    "id": "dfj21ORa49Ps"
   },
   "outputs": [],
   "source": [
    "Hidden_Layer_size = 100  # size of the hidden layer\n",
    "Time_steps = 40  # Number of time steps (length of the sequence) used for training\n",
    "learning_rate = 1e-1  # Learning Rate\n",
    "weight_sd = 0.1  # Standard deviation of weights for initialization\n",
    "z_size = Hidden_Layer_size + X_size  # Size of concatenation(H, X) vector"
   ]
  },
  {
   "cell_type": "markdown",
   "metadata": {
    "id": "OdmJf4Du5uhb"
   },
   "source": [
    "# Activation Functions and Derivatives"
   ]
  },
  {
   "cell_type": "code",
   "execution_count": 6,
   "metadata": {
    "id": "seGHei_D5FGk"
   },
   "outputs": [],
   "source": [
    "def sigmoid(x): # sigmoid function\n",
    "    return 1 / (1 + np.exp(-x))\n",
    "\n",
    "def dsigmoid(y): # derivative of sigmoid function\n",
    "    s = 1 / (1 + np.exp(-y))\n",
    "    ds = s * (1-s)  \n",
    "    return ds\n",
    "\n",
    "def tanh(x): # tanh function\n",
    "    return (np.exp(x)-np.exp(-x))/(np.exp(x)+np.exp(-x))\n",
    "\n",
    "def dtanh(y): # derivative of tanh\n",
    "    t = (np.exp(y)-np.exp(-y))/(np.exp(y)+np.exp(-y))\n",
    "    dt = 1 - t**2\n",
    "    return dt"
   ]
  },
  {
   "cell_type": "code",
   "execution_count": 7,
   "metadata": {
    "colab": {
     "base_uri": "https://localhost:8080/"
    },
    "id": "ftrFxYIMcHU8",
    "outputId": "f37a8902-5e72-417f-96d7-b6f82e452438"
   },
   "outputs": [
    {
     "name": "stdout",
     "output_type": "stream",
     "text": [
      "sigmoid(0):  0.5\n",
      "dsigmoid(sigmoid(0)):  0.2350037122015945\n",
      "tanh(dsigmoid(sigmoid(0))):  0.2307710272926823\n",
      "dtanh(tanh(dsigmoid(sigmoid(0)))):  0.9485799654066528\n"
     ]
    }
   ],
   "source": [
    "print('sigmoid(0): ', sigmoid(0))\n",
    "print('dsigmoid(sigmoid(0)): ', dsigmoid(sigmoid(0)))\n",
    "print('tanh(dsigmoid(sigmoid(0))): ',  tanh(dsigmoid(sigmoid(0))))\n",
    "print('dtanh(tanh(dsigmoid(sigmoid(0)))): ', dtanh(tanh(dsigmoid(sigmoid(0)))))"
   ]
  },
  {
   "cell_type": "markdown",
   "metadata": {
    "id": "KeCvVH1v6Me-"
   },
   "source": [
    "# Quiz Question 1\n",
    "\n",
    "What is the value of sigmoid(0) calculated from  your code? (Answer up to 1 decimal point, e.g. 4.2 and NOT 4.29999999, no rounding off).\n",
    "\n",
    "ANS: 0.5\n",
    "\n",
    "# Quiz Question 2\n",
    "\n",
    "What is the value of dsigmoid(sigmoid(0)) calculated from your code?? (Answer up to 2 decimal point, e.g. 4.29 and NOT 4.29999999, no rounding off). \n",
    "\n",
    "ANS: \n",
    "\n",
    "# Quiz Question 3\n",
    "\n",
    "What is the value of tanh(dsigmoid(sigmoid(0))) calculated from your code?? (Answer up to 5 decimal point, e.g. 4.29999 and NOT 4.29999999, no rounding off).\n",
    "\n",
    "# Quiz Question 4\n",
    "\n",
    "What is the value of dtanh(tanh(dsigmoid(sigmoid(0)))) calculated from your code?? (Answer up to 5 decimal point, e.g. 4.29999 and NOT 4.29999999, no rounding off)."
   ]
  },
  {
   "cell_type": "markdown",
   "metadata": {
    "id": "EeSVipDu8iKE"
   },
   "source": [
    "# Parameters"
   ]
  },
  {
   "cell_type": "code",
   "execution_count": 8,
   "metadata": {
    "id": "ICbWNemE6LGV"
   },
   "outputs": [],
   "source": [
    "class Param:\n",
    "    def __init__(self, name, value):\n",
    "      self.name = name\n",
    "      self.v = value # parameter value\n",
    "      self.d = np.zeros_like(value) # derivative\n",
    "      self.m = np.zeros_like(value) # momentum for Adagrad"
   ]
  },
  {
   "cell_type": "markdown",
   "metadata": {
    "id": "j83pZNPE8212"
   },
   "source": [
    "We use random weights with normal distribution (0, weight_sd) for  tanh  activation function and (0.5, weight_sd) for  `sigmoid`  activation function.\n",
    "\n",
    "Biases are initialized to zeros."
   ]
  },
  {
   "cell_type": "markdown",
   "metadata": {
    "id": "swHwLXOI9E7V"
   },
   "source": [
    "# LSTM \n",
    "You are making this network, please note f, i, c and o (also \"v\") in the image below:\n",
    "![alt text](http://blog.varunajayasiri.com/ml/lstm.svg)\n",
    "\n",
    "Please note that we are concatenating the old_hidden_vector and new_input."
   ]
  },
  {
   "cell_type": "markdown",
   "metadata": {
    "id": "A0DBzNY-90s5"
   },
   "source": [
    "# Quiz Question 4\n",
    "\n",
    "In the class definition below, what should be size_a, size_b, and size_c? ONLY use the variables defined above."
   ]
  },
  {
   "cell_type": "code",
   "execution_count": 9,
   "metadata": {
    "id": "SFuHhqVq6Wge"
   },
   "outputs": [],
   "source": [
    "size_a = Hidden_Layer_size\n",
    "size_b = z_size\n",
    "size_c = X_size\n",
    "\n",
    "class Parameters:\n",
    "    def __init__(self):\n",
    "        self.W_f = Param('W_f', np.random.randn(size_a, size_b) * weight_sd + 0.5)\n",
    "        self.b_f = Param('b_f', np.zeros((size_a, 1)))\n",
    "\n",
    "        self.W_i = Param('W_i', np.random.randn(size_a, size_b) * weight_sd + 0.5)\n",
    "        self.b_i = Param('b_i', np.zeros((size_a, 1)))\n",
    "\n",
    "        self.W_C = Param('W_C', np.random.randn(size_a, size_b) * weight_sd)\n",
    "        self.b_C = Param('b_C', np.zeros((size_a, 1)))\n",
    "\n",
    "        self.W_o = Param('W_o', np.random.randn(size_a, size_b) * weight_sd + 0.5)\n",
    "        self.b_o = Param('b_o', np.zeros((size_a, 1)))\n",
    "\n",
    "        #For final layer to predict the next character\n",
    "        self.W_v = Param('W_v', np.random.randn(X_size, size_a) * weight_sd)\n",
    "        self.b_v = Param('b_v', np.zeros((size_c, 1)))\n",
    "        \n",
    "    def all(self):\n",
    "        return [self.W_f, self.W_i, self.W_C, self.W_o, self.W_v,\n",
    "               self.b_f, self.b_i, self.b_C, self.b_o, self.b_v]\n",
    "        \n",
    "parameters = Parameters()"
   ]
  },
  {
   "cell_type": "markdown",
   "metadata": {
    "id": "RzmfGLZt_xVs"
   },
   "source": [
    "Look at these operations which we'll be writing:\n",
    "\n",
    "**Concatenation of h and x:**\n",
    "\n",
    "$z\\:=\\:\\left[h_{t-1},\\:x\\right]$\n",
    "\n",
    "$f_t=\\sigma\\left(W_f\\cdot z\\:+\\:b_f\\:\\right)$\n",
    "\n",
    "$i_i=\\sigma\\left(W_i\\cdot z\\:+\\:b_i\\right)$\n",
    "\n",
    "$\\overline{C_t}=\\tanh\\left(W_C\\cdot z\\:+\\:b_C\\right)$\n",
    "\n",
    "$C_t=f_t\\ast C_{t-1}+i_t\\ast \\overline{C}_t$\n",
    "\n",
    "$o_t=\\sigma\\left(W_o\\cdot z\\:+\\:b_i\\right)$\n",
    "\n",
    "$h_t=o_t\\ast\\tanh\\left(C_t\\right)$\n",
    "\n",
    "**Logits:**\n",
    "\n",
    "$v_t=W_v\\cdot h_t+b_v$\n",
    "\n",
    "**Softmax:**\n",
    "\n",
    "$\\hat{y}=softmax\\left(v_t\\right)$\n"
   ]
  },
  {
   "cell_type": "code",
   "execution_count": 10,
   "metadata": {
    "id": "-bUkseNnDott"
   },
   "outputs": [],
   "source": [
    "def forward(x, h_prev, C_prev, p = parameters):\n",
    "    assert x.shape == (X_size, 1)\n",
    "    assert h_prev.shape == (Hidden_Layer_size, 1)\n",
    "    assert C_prev.shape == (Hidden_Layer_size, 1)\n",
    "    \n",
    "    z = np.row_stack((h_prev, x))\n",
    "    \n",
    "    f = sigmoid(np.dot(p.W_f.v, z) + p.b_f.v)\n",
    "    i = sigmoid(np.dot(p.W_i.v, z) + p.b_i.v)\n",
    "    C_bar = tanh(np.dot(p.W_C.v, z) + p.b_C.v)\n",
    "\n",
    "    C = np.multiply(f,C_prev) + np.multiply(i,C_bar)\n",
    "    o = sigmoid(np.dot(p.W_o.v, z) + p.b_o.v)\n",
    "    h = np.multiply(o, tanh(C))\n",
    "\n",
    "    v = np.dot(p.W_v.v, h) + p.b_v.v\n",
    "    y = np.exp(v) / np.sum(np.exp(v)) #softmax\n",
    "\n",
    "#     temp = [np.isnan(x).any() for x in [z, f, i, C_bar, C, o, h, v, y]]\n",
    "#     print(temp)\n",
    "#     if any(temp):\n",
    "#         for x in [z, f, i, C_bar, C, o, h, v, y]:\n",
    "#             print(x.shape)\n",
    "#             print(x)\n",
    "    return z, f, i, C_bar, C, o, h, v, y"
   ]
  },
  {
   "cell_type": "markdown",
   "metadata": {
    "id": "jZrDhZIjFpdI"
   },
   "source": [
    "You must finish the function above before you can attempt the questions below. \n",
    "\n",
    "# Quiz Question 5\n",
    "\n",
    "What is the output of 'print(len(forward(np.zeros((X_size, 1)), np.zeros((Hidden_Layer_size, 1)), np.zeros((Hidden_Layer_size, 1)), parameters)))'?\n",
    "\n",
    "ANS: 9"
   ]
  },
  {
   "cell_type": "code",
   "execution_count": 11,
   "metadata": {
    "colab": {
     "base_uri": "https://localhost:8080/"
    },
    "id": "IRz2mC-ulLmJ",
    "outputId": "70aacbe3-fe24-4ede-9712-68057719e4d9"
   },
   "outputs": [
    {
     "name": "stdout",
     "output_type": "stream",
     "text": [
      "9\n"
     ]
    }
   ],
   "source": [
    "print(len(forward(np.zeros((X_size, 1)), np.zeros((Hidden_Layer_size, 1)), np.zeros((Hidden_Layer_size, 1)), parameters)))"
   ]
  },
  {
   "cell_type": "markdown",
   "metadata": {
    "id": "XV-YVl_GGiX8"
   },
   "source": [
    "# Quiz Question 6. \n",
    "\n",
    "Assuming you have fixed the forward function, run this command: \n",
    "z, f, i, C_bar, C, o, h, v, y = forward(np.zeros((X_size, 1)), np.zeros((Hidden_Layer_size, 1)), np.zeros((Hidden_Layer_size, 1)))\n",
    "\n",
    "Now, find these values:\n",
    "\n",
    "\n",
    "1.   print(z.shape)\n",
    "2.   print(np.sum(z))\n",
    "3.   print(np.sum(f))\n",
    "\n",
    "Copy and paste exact values you get in the logs into the quiz.\n",
    "\n"
   ]
  },
  {
   "cell_type": "code",
   "execution_count": 12,
   "metadata": {
    "colab": {
     "base_uri": "https://localhost:8080/"
    },
    "id": "1GvKVWmTDt3H",
    "outputId": "6bd0a586-58ad-4328-d2a0-42e4ef9057a0"
   },
   "outputs": [
    {
     "name": "stdout",
     "output_type": "stream",
     "text": [
      "(179, 1)\n",
      "0.0\n",
      "50.0\n"
     ]
    }
   ],
   "source": [
    "z, f, i, C_bar, C, o, h, v, y = forward(np.zeros((X_size, 1)), np.zeros((Hidden_Layer_size, 1)), np.zeros((Hidden_Layer_size, 1)))\n",
    "\n",
    "print(z.shape)\n",
    "print(np.sum(z))\n",
    "print(np.sum(f))"
   ]
  },
  {
   "cell_type": "markdown",
   "metadata": {
    "id": "NeSvhkqwILsG"
   },
   "source": [
    "# Backpropagation\n",
    "\n",
    "Here we are defining the backpropagation. It's too complicated, here is the whole code. (Please note that this would work only if your earlier code is perfect)."
   ]
  },
  {
   "cell_type": "code",
   "execution_count": 13,
   "metadata": {
    "id": "zIa1jUZiGPmF"
   },
   "outputs": [],
   "source": [
    "def backward(target, dh_next, dC_next, C_prev,\n",
    "             z, f, i, C_bar, C, o, h, v, y,\n",
    "             p = parameters):\n",
    "    \n",
    "    assert z.shape == (X_size + Hidden_Layer_size, 1)\n",
    "    assert v.shape == (X_size, 1)\n",
    "    assert y.shape == (X_size, 1)\n",
    "    \n",
    "    for param in [dh_next, dC_next, C_prev, f, i, C_bar, C, o, h]:\n",
    "        assert param.shape == (Hidden_Layer_size, 1)\n",
    "        \n",
    "    dv = np.copy(y)\n",
    "    dv[target] -= 1\n",
    "\n",
    "    p.W_v.d += np.dot(dv, h.T)\n",
    "    p.b_v.d += dv\n",
    "\n",
    "    dh = np.dot(p.W_v.v.T, dv)        \n",
    "    dh += dh_next\n",
    "    do = dh * tanh(C)\n",
    "    do = dsigmoid(o) * do\n",
    "    p.W_o.d += np.dot(do, z.T)\n",
    "    p.b_o.d += do\n",
    "\n",
    "    dC = np.copy(dC_next)\n",
    "    dC += dh * o * dtanh(tanh(C))\n",
    "    dC_bar = dC * i\n",
    "    dC_bar = dtanh(C_bar) * dC_bar\n",
    "    p.W_C.d += np.dot(dC_bar, z.T)\n",
    "    p.b_C.d += dC_bar\n",
    "\n",
    "    di = dC * C_bar\n",
    "    di = dsigmoid(i) * di\n",
    "    p.W_i.d += np.dot(di, z.T)\n",
    "    p.b_i.d += di\n",
    "\n",
    "    df = dC * C_prev\n",
    "    df = dsigmoid(f) * df\n",
    "    p.W_f.d += np.dot(df, z.T)\n",
    "    p.b_f.d += df\n",
    "\n",
    "    dz = (np.dot(p.W_f.v.T, df)\n",
    "         + np.dot(p.W_i.v.T, di)\n",
    "         + np.dot(p.W_C.v.T, dC_bar)\n",
    "         + np.dot(p.W_o.v.T, do))\n",
    "    dh_prev = dz[:Hidden_Layer_size, :]\n",
    "    dC_prev = f * dC\n",
    "    \n",
    "    return dh_prev, dC_prev"
   ]
  },
  {
   "cell_type": "markdown",
   "metadata": {
    "id": "Tnc7WpRkIU5S"
   },
   "source": [
    "# Forward and Backward Combined Pass\n",
    "\n",
    "Let's first clear the gradients before each backward pass"
   ]
  },
  {
   "cell_type": "code",
   "execution_count": 14,
   "metadata": {
    "id": "OJWoC3U1ITf8"
   },
   "outputs": [],
   "source": [
    "def clear_gradients(params = parameters):\n",
    "    for p in params.all():\n",
    "        p.d.fill(0)"
   ]
  },
  {
   "cell_type": "markdown",
   "metadata": {
    "id": "7XN93UnjIgmA"
   },
   "source": [
    "Clip gradients to mitigate exploding gradients"
   ]
  },
  {
   "cell_type": "code",
   "execution_count": 15,
   "metadata": {
    "id": "0LTsublxIfFl"
   },
   "outputs": [],
   "source": [
    "def clip_gradients(params = parameters):\n",
    "    for p in params.all():\n",
    "        np.clip(p.d, -1, 1, out=p.d)"
   ]
  },
  {
   "cell_type": "markdown",
   "metadata": {
    "id": "T7XUpDTWIl_Y"
   },
   "source": [
    "Calculate and store the values in forward pass. Accumulate gradients in backward pass and clip gradients to avoid exploding gradients.\n",
    "\n",
    "input, target are list of integers, with character indexes.\n",
    "h_prev is the array of initial h at  h−1  (size H x 1)\n",
    "C_prev is the array of initial C at  C−1  (size H x 1)\n",
    "Returns loss, final  hT  and  CT"
   ]
  },
  {
   "cell_type": "code",
   "execution_count": 16,
   "metadata": {
    "id": "CQNxjTuZIia_"
   },
   "outputs": [],
   "source": [
    "def forward_backward(inputs, targets, h_prev, C_prev):\n",
    "    global paramters\n",
    "    \n",
    "    # To store the values for each time step\n",
    "    x_s, z_s, f_s, i_s,  = {}, {}, {}, {}\n",
    "    C_bar_s, C_s, o_s, h_s = {}, {}, {}, {}\n",
    "    v_s, y_s =  {}, {}\n",
    "    \n",
    "    # Values at t - 1\n",
    "    h_s[-1] = np.copy(h_prev)\n",
    "    C_s[-1] = np.copy(C_prev)\n",
    "    \n",
    "    loss = 0\n",
    "    # Loop through time steps\n",
    "    assert len(inputs) == Time_steps\n",
    "    for t in range(len(inputs)):\n",
    "        x_s[t] = np.zeros((X_size, 1))\n",
    "        x_s[t][inputs[t]] = 1 # Input character\n",
    "        \n",
    "        (z_s[t], f_s[t], i_s[t],\n",
    "        C_bar_s[t], C_s[t], o_s[t], h_s[t],\n",
    "        v_s[t], y_s[t]) = \\\n",
    "            forward(x_s[t], h_s[t - 1], C_s[t - 1]) # Forward pass\n",
    "            \n",
    "        loss += -np.log(y_s[t][targets[t], 0]) # Loss for at t\n",
    "        \n",
    "    clear_gradients()\n",
    "\n",
    "    dh_next = np.zeros_like(h_s[0]) #dh from the next character\n",
    "    dC_next = np.zeros_like(C_s[0]) #dh from the next character\n",
    "    # print('------')\n",
    "    for t in reversed(range(len(inputs))):\n",
    "        # Backward pass\n",
    "        dh_next, dC_next = \\\n",
    "            backward(target = targets[t], dh_next = dh_next,\n",
    "                     dC_next = dC_next, C_prev = C_s[t-1],\n",
    "                     z = z_s[t], f = f_s[t], i = i_s[t], C_bar = C_bar_s[t],\n",
    "                     C = C_s[t], o = o_s[t], h = h_s[t], v = v_s[t],\n",
    "                     y = y_s[t])\n",
    "\n",
    "    clip_gradients()\n",
    "        \n",
    "    return loss, h_s[len(inputs) - 1], C_s[len(inputs) - 1]"
   ]
  },
  {
   "cell_type": "markdown",
   "metadata": {
    "id": "tcy5u_vRItkV"
   },
   "source": [
    "# Sample the next character"
   ]
  },
  {
   "cell_type": "code",
   "execution_count": 17,
   "metadata": {
    "id": "p8SrtJiwIsSm"
   },
   "outputs": [],
   "source": [
    "def sample(h_prev, C_prev, first_char_idx, sentence_length):\n",
    "    x = np.zeros((X_size, 1))\n",
    "    x[first_char_idx] = 1\n",
    "\n",
    "    h = h_prev\n",
    "    C = C_prev\n",
    "\n",
    "    indexes = []\n",
    "    \n",
    "    for t in range(sentence_length):\n",
    "        _, _, _, _, C, _, h, _, p = forward(x, h, C)\n",
    "        idx = np.random.choice(range(X_size), p=p.ravel())\n",
    "        x = np.zeros((X_size, 1))\n",
    "        x[idx] = 1\n",
    "        indexes.append(idx)\n",
    "\n",
    "    return indexes"
   ]
  },
  {
   "cell_type": "markdown",
   "metadata": {
    "id": "SiWFaWLNIx_L"
   },
   "source": [
    "# Training (Adagrad)\n",
    "\n",
    "Update the graph and display a sample output\n",
    "\n"
   ]
  },
  {
   "cell_type": "code",
   "execution_count": 18,
   "metadata": {
    "id": "ENQYU-7AIw0t"
   },
   "outputs": [],
   "source": [
    "def update_status(inputs, h_prev, C_prev):\n",
    "    #initialized later\n",
    "    global plot_iter, plot_loss\n",
    "    global smooth_loss\n",
    "    \n",
    "    # Get predictions for 200 letters with current model\n",
    "\n",
    "    sample_idx = sample(h_prev, C_prev, inputs[0], 200)\n",
    "    txt = ''.join(idx_to_char[idx] for idx in sample_idx)\n",
    "\n",
    "    # Clear and plot\n",
    "    plt.plot(plot_iter, plot_loss)\n",
    "    display.clear_output(wait=True)\n",
    "    plt.show()\n",
    "\n",
    "    #Print prediction and loss\n",
    "    print(\"----\\n %s \\n----\" % (txt, ))\n",
    "    print(\"iter %d, loss %f\" % (iteration, smooth_loss))"
   ]
  },
  {
   "cell_type": "markdown",
   "metadata": {
    "id": "ACXcASJuI73a"
   },
   "source": [
    "# Update Parameters\n",
    "\n",
    "\\begin{align}\n",
    "\\theta_i &= \\theta_i - \\eta\\frac{d\\theta_i}{\\sum dw_{\\tau}^2} \\\\\n",
    "d\\theta_i &= \\frac{\\partial L}{\\partial \\theta_i}\n",
    "\\end{align}"
   ]
  },
  {
   "cell_type": "code",
   "execution_count": 20,
   "metadata": {
    "id": "bR08TvcjI4Pf"
   },
   "outputs": [],
   "source": [
    "def update_paramters(params = parameters):\n",
    "    for p in params.all():\n",
    "        p.m += p.d * p.d # Calculate sum of gradients\n",
    "        #print(learning_rate * dparam)\n",
    "        p.v += -(learning_rate * p.d / np.sqrt(p.m + 1e-8))"
   ]
  },
  {
   "cell_type": "markdown",
   "metadata": {
    "id": "La9vyJ6RJLFK"
   },
   "source": [
    "To delay the keyboard interrupt to prevent the training from stopping in the middle of an iteration\n",
    "\n"
   ]
  },
  {
   "cell_type": "code",
   "execution_count": 21,
   "metadata": {
    "id": "ZVDHbMb7JNGT"
   },
   "outputs": [],
   "source": [
    "# Exponential average of loss\n",
    "# Initialize to a error of a random model\n",
    "smooth_loss = -np.log(1.0 / X_size) * Time_steps\n",
    "\n",
    "iteration, pointer = 0, 0\n",
    "\n",
    "# For the graph\n",
    "plot_iter = np.zeros((0))\n",
    "plot_loss = np.zeros((0))"
   ]
  },
  {
   "cell_type": "markdown",
   "metadata": {
    "id": "HF6vS0VWJqsS"
   },
   "source": [
    "# Training Loop"
   ]
  },
  {
   "cell_type": "code",
   "execution_count": 22,
   "metadata": {
    "colab": {
     "base_uri": "https://localhost:8080/",
     "height": 1000
    },
    "id": "OQyNSL0iJOxH",
    "outputId": "19c36fd2-2568-4bcd-c2b1-8a8e91cf3f63"
   },
   "outputs": [
    {
     "data": {
      "image/png": "[encoded data removed]",
      "text/plain": [
       "<Figure size 432x288 with 1 Axes>"
      ]
     },
     "metadata": {},
     "output_type": "display_data"
    },
    {
     "name": "stdout",
     "output_type": "stream",
     "text": [
      "----\n",
      " rooonooeueoooooo oooaoo  ooo nonoohon iaoe  ooponhohhpr ousuooooohthheoh \n",
      "o,msoohohouooooooo  ot ooooooou  oe a osooofoovoaoooodhooootun h oooooooooooooeuo euooohonsohhofreorouo ooo   ooef h ooooooo t \n",
      "----\n",
      "iter 500, loss 156.510816\n"
     ]
    },
    {
     "name": "stderr",
     "output_type": "stream",
     "text": [
      "C:\\Users\\naman\\anaconda3\\lib\\site-packages\\ipykernel_launcher.py:10: RuntimeWarning: overflow encountered in exp\n",
      "  # Remove the CWD from sys.path while we load stuff.\n",
      "C:\\Users\\naman\\anaconda3\\lib\\site-packages\\ipykernel_launcher.py:10: RuntimeWarning: invalid value encountered in true_divide\n",
      "  # Remove the CWD from sys.path while we load stuff.\n"
     ]
    },
    {
     "ename": "ValueError",
     "evalue": "probabilities contain NaN",
     "output_type": "error",
     "traceback": [
      "\u001b[1;31m---------------------------------------------------------------------------\u001b[0m",
      "\u001b[1;31mValueError\u001b[0m                                Traceback (most recent call last)",
      "\u001b[1;32m<ipython-input-22-fc1abb91559c>\u001b[0m in \u001b[0;36m<module>\u001b[1;34m\u001b[0m\n\u001b[0;32m     19\u001b[0m   \u001b[1;31m# Print every hundred steps\u001b[0m\u001b[1;33m\u001b[0m\u001b[1;33m\u001b[0m\u001b[1;33m\u001b[0m\u001b[0m\n\u001b[0;32m     20\u001b[0m   \u001b[1;32mif\u001b[0m \u001b[0miteration\u001b[0m \u001b[1;33m%\u001b[0m \u001b[1;36m100\u001b[0m \u001b[1;33m==\u001b[0m \u001b[1;36m0\u001b[0m\u001b[1;33m:\u001b[0m\u001b[1;33m\u001b[0m\u001b[1;33m\u001b[0m\u001b[0m\n\u001b[1;32m---> 21\u001b[1;33m       \u001b[0mupdate_status\u001b[0m\u001b[1;33m(\u001b[0m\u001b[0minputs\u001b[0m\u001b[1;33m,\u001b[0m \u001b[0mg_h_prev\u001b[0m\u001b[1;33m,\u001b[0m \u001b[0mg_C_prev\u001b[0m\u001b[1;33m)\u001b[0m\u001b[1;33m\u001b[0m\u001b[1;33m\u001b[0m\u001b[0m\n\u001b[0m\u001b[0;32m     22\u001b[0m \u001b[1;33m\u001b[0m\u001b[0m\n\u001b[0;32m     23\u001b[0m   \u001b[0mupdate_paramters\u001b[0m\u001b[1;33m(\u001b[0m\u001b[1;33m)\u001b[0m\u001b[1;33m\u001b[0m\u001b[1;33m\u001b[0m\u001b[0m\n",
      "\u001b[1;32m<ipython-input-18-7ac1ac7424b4>\u001b[0m in \u001b[0;36mupdate_status\u001b[1;34m(inputs, h_prev, C_prev)\u001b[0m\n\u001b[0;32m      6\u001b[0m     \u001b[1;31m# Get predictions for 200 letters with current model\u001b[0m\u001b[1;33m\u001b[0m\u001b[1;33m\u001b[0m\u001b[1;33m\u001b[0m\u001b[0m\n\u001b[0;32m      7\u001b[0m \u001b[1;33m\u001b[0m\u001b[0m\n\u001b[1;32m----> 8\u001b[1;33m     \u001b[0msample_idx\u001b[0m \u001b[1;33m=\u001b[0m \u001b[0msample\u001b[0m\u001b[1;33m(\u001b[0m\u001b[0mh_prev\u001b[0m\u001b[1;33m,\u001b[0m \u001b[0mC_prev\u001b[0m\u001b[1;33m,\u001b[0m \u001b[0minputs\u001b[0m\u001b[1;33m[\u001b[0m\u001b[1;36m0\u001b[0m\u001b[1;33m]\u001b[0m\u001b[1;33m,\u001b[0m \u001b[1;36m200\u001b[0m\u001b[1;33m)\u001b[0m\u001b[1;33m\u001b[0m\u001b[1;33m\u001b[0m\u001b[0m\n\u001b[0m\u001b[0;32m      9\u001b[0m     \u001b[0mtxt\u001b[0m \u001b[1;33m=\u001b[0m \u001b[1;34m''\u001b[0m\u001b[1;33m.\u001b[0m\u001b[0mjoin\u001b[0m\u001b[1;33m(\u001b[0m\u001b[0midx_to_char\u001b[0m\u001b[1;33m[\u001b[0m\u001b[0midx\u001b[0m\u001b[1;33m]\u001b[0m \u001b[1;32mfor\u001b[0m \u001b[0midx\u001b[0m \u001b[1;32min\u001b[0m \u001b[0msample_idx\u001b[0m\u001b[1;33m)\u001b[0m\u001b[1;33m\u001b[0m\u001b[1;33m\u001b[0m\u001b[0m\n\u001b[0;32m     10\u001b[0m \u001b[1;33m\u001b[0m\u001b[0m\n",
      "\u001b[1;32m<ipython-input-17-7c294fc2fd1b>\u001b[0m in \u001b[0;36msample\u001b[1;34m(h_prev, C_prev, first_char_idx, sentence_length)\u001b[0m\n\u001b[0;32m     10\u001b[0m     \u001b[1;32mfor\u001b[0m \u001b[0mt\u001b[0m \u001b[1;32min\u001b[0m \u001b[0mrange\u001b[0m\u001b[1;33m(\u001b[0m\u001b[0msentence_length\u001b[0m\u001b[1;33m)\u001b[0m\u001b[1;33m:\u001b[0m\u001b[1;33m\u001b[0m\u001b[1;33m\u001b[0m\u001b[0m\n\u001b[0;32m     11\u001b[0m         \u001b[0m_\u001b[0m\u001b[1;33m,\u001b[0m \u001b[0m_\u001b[0m\u001b[1;33m,\u001b[0m \u001b[0m_\u001b[0m\u001b[1;33m,\u001b[0m \u001b[0m_\u001b[0m\u001b[1;33m,\u001b[0m \u001b[0mC\u001b[0m\u001b[1;33m,\u001b[0m \u001b[0m_\u001b[0m\u001b[1;33m,\u001b[0m \u001b[0mh\u001b[0m\u001b[1;33m,\u001b[0m \u001b[0m_\u001b[0m\u001b[1;33m,\u001b[0m \u001b[0mp\u001b[0m \u001b[1;33m=\u001b[0m \u001b[0mforward\u001b[0m\u001b[1;33m(\u001b[0m\u001b[0mx\u001b[0m\u001b[1;33m,\u001b[0m \u001b[0mh\u001b[0m\u001b[1;33m,\u001b[0m \u001b[0mC\u001b[0m\u001b[1;33m)\u001b[0m\u001b[1;33m\u001b[0m\u001b[1;33m\u001b[0m\u001b[0m\n\u001b[1;32m---> 12\u001b[1;33m         \u001b[0midx\u001b[0m \u001b[1;33m=\u001b[0m \u001b[0mnp\u001b[0m\u001b[1;33m.\u001b[0m\u001b[0mrandom\u001b[0m\u001b[1;33m.\u001b[0m\u001b[0mchoice\u001b[0m\u001b[1;33m(\u001b[0m\u001b[0mrange\u001b[0m\u001b[1;33m(\u001b[0m\u001b[0mX_size\u001b[0m\u001b[1;33m)\u001b[0m\u001b[1;33m,\u001b[0m \u001b[0mp\u001b[0m\u001b[1;33m=\u001b[0m\u001b[0mp\u001b[0m\u001b[1;33m.\u001b[0m\u001b[0mravel\u001b[0m\u001b[1;33m(\u001b[0m\u001b[1;33m)\u001b[0m\u001b[1;33m)\u001b[0m\u001b[1;33m\u001b[0m\u001b[1;33m\u001b[0m\u001b[0m\n\u001b[0m\u001b[0;32m     13\u001b[0m         \u001b[0mx\u001b[0m \u001b[1;33m=\u001b[0m \u001b[0mnp\u001b[0m\u001b[1;33m.\u001b[0m\u001b[0mzeros\u001b[0m\u001b[1;33m(\u001b[0m\u001b[1;33m(\u001b[0m\u001b[0mX_size\u001b[0m\u001b[1;33m,\u001b[0m \u001b[1;36m1\u001b[0m\u001b[1;33m)\u001b[0m\u001b[1;33m)\u001b[0m\u001b[1;33m\u001b[0m\u001b[1;33m\u001b[0m\u001b[0m\n\u001b[0;32m     14\u001b[0m         \u001b[0mx\u001b[0m\u001b[1;33m[\u001b[0m\u001b[0midx\u001b[0m\u001b[1;33m]\u001b[0m \u001b[1;33m=\u001b[0m \u001b[1;36m1\u001b[0m\u001b[1;33m\u001b[0m\u001b[1;33m\u001b[0m\u001b[0m\n",
      "\u001b[1;32mmtrand.pyx\u001b[0m in \u001b[0;36mnumpy.random.mtrand.RandomState.choice\u001b[1;34m()\u001b[0m\n",
      "\u001b[1;31mValueError\u001b[0m: probabilities contain NaN"
     ]
    }
   ],
   "source": [
    "iter = 50000\n",
    "while iter > 0:\n",
    "  # Reset\n",
    "  if pointer + Time_steps >= len(data) or iteration == 0:\n",
    "      g_h_prev = np.zeros((Hidden_Layer_size, 1))\n",
    "      g_C_prev = np.zeros((Hidden_Layer_size, 1))\n",
    "      pointer = 0\n",
    "\n",
    "\n",
    "  inputs = ([char_to_idx[ch] \n",
    "              for ch in data[pointer: pointer + Time_steps]])\n",
    "  targets = ([char_to_idx[ch] \n",
    "              for ch in data[pointer + 1: pointer + Time_steps + 1]])\n",
    "\n",
    "  loss, g_h_prev, g_C_prev = forward_backward(inputs, targets, g_h_prev, g_C_prev)\n",
    "#   print(loss, g_h_prev, g_C_prev)\n",
    "  smooth_loss = smooth_loss * 0.999 + loss * 0.001\n",
    "\n",
    "  # Print every hundred steps\n",
    "  if iteration % 100 == 0:\n",
    "      update_status(inputs, g_h_prev, g_C_prev)\n",
    "\n",
    "  update_paramters()\n",
    "\n",
    "  plot_iter = np.append(plot_iter, [iteration])\n",
    "  plot_loss = np.append(plot_loss, [loss])\n",
    "\n",
    "  pointer += Time_steps\n",
    "  iteration += 1\n",
    "  iter = iter -1"
   ]
  },
  {
   "cell_type": "code",
   "execution_count": null,
   "metadata": {
    "id": "00p4MuYiPsV-"
   },
   "outputs": [],
   "source": [
    "plot_loss"
   ]
  },
  {
   "cell_type": "markdown",
   "metadata": {
    "id": "2AKpa1BGOItQ"
   },
   "source": [
    "# Quiz Question 7. \n",
    "\n",
    "Run the above code for 50000 iterations making sure that you have 100 hidden layers and time_steps is 40. What is the loss value you're seeing?"
   ]
  },
  {
   "cell_type": "code",
   "execution_count": null,
   "metadata": {
    "id": "GikHlOV8a1ln"
   },
   "outputs": [],
   "source": []
  }
 ],
 "metadata": {
  "colab": {
   "collapsed_sections": [],
   "name": "LSTM_and_QnA_A4P2.ipynb",
   "provenance": [],
   "toc_visible": true
  },
  "kernelspec": {
   "display_name": "Python 3",
   "language": "python",
   "name": "python3"
  },
  "language_info": {
   "codemirror_mode": {
    "name": "ipython",
    "version": 3
   },
   "file_extension": ".py",
   "mimetype": "text/x-python",
   "name": "python",
   "nbconvert_exporter": "python",
   "pygments_lexer": "ipython3",
   "version": "3.7.6"
  }
 },
 "nbformat": 4,
 "nbformat_minor": 4
}
